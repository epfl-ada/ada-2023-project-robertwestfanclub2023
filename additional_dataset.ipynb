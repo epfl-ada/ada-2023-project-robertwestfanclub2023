{
 "cells": [
  {
   "cell_type": "code",
   "execution_count": 24,
   "metadata": {},
   "outputs": [],
   "source": [
    "import pandas as pd\n",
    "import random"
   ]
  },
  {
   "cell_type": "markdown",
   "metadata": {},
   "source": [
    "As we aim to study the popularity and success of movies, analyzing the reviews provided by viewers offers valuable insights into a movie's popular success. To facilitate this, we will compile a dataset comprising movie reviews.\n",
    "\n",
    "Additionally, in this notebook, we will gather a dataset that includes the exact release dates of movies (including the month). This is because our CMU Movie Summary Corpus dataset typically only provides the year of release."
   ]
  },
  {
   "cell_type": "markdown",
   "metadata": {},
   "source": [
    "# 1- Rating (reviews) dataset"
   ]
  },
  {
   "cell_type": "markdown",
   "metadata": {},
   "source": [
    "## MovieLens\n",
    "\n",
    "[This MovieLens dataset](https://files.grouplens.org/datasets/movielens/ml-25m-README.html) is a widely used dataset in the field of recommender systems, containing millions of movie ratings and tag assignments collected from the MovieLens website. It offers detailed information about movies, users, and their interactions, making it an essential resource for research and development in personalized recommendation algorithms."
   ]
  },
  {
   "cell_type": "markdown",
   "metadata": {},
   "source": [
    "### Sanity Check"
   ]
  },
  {
   "cell_type": "code",
   "execution_count": 25,
   "metadata": {},
   "outputs": [
    {
     "name": "stdout",
     "output_type": "stream",
     "text": [
      "   userId  movieId  rating   timestamp\n",
      "0       1      296     5.0  1147880044\n",
      "1       1      306     3.5  1147868817\n",
      "2       1      307     5.0  1147868828\n",
      "3       1      665     5.0  1147878820\n",
      "4       1      899     3.5  1147868510\n"
     ]
    }
   ],
   "source": [
    "file_path = 'ml-25m/ratings.csv'\n",
    "\n",
    "# Read the CSV file into a DataFrame\n",
    "df = pd.read_csv(file_path)\n",
    "\n",
    "# Display the first few rows of the DataFrame\n",
    "print(df.head())"
   ]
  },
  {
   "cell_type": "code",
   "execution_count": 26,
   "metadata": {},
   "outputs": [
    {
     "name": "stdout",
     "output_type": "stream",
     "text": [
      "Missing Values:\n",
      " userId       0\n",
      "movieId      0\n",
      "rating       0\n",
      "timestamp    0\n",
      "dtype: int64\n",
      "\n",
      "Duplicate Rows: 0\n",
      "\n",
      "Invalid Ratings:\n",
      " Empty DataFrame\n",
      "Columns: [userId, movieId, rating, timestamp]\n",
      "Index: []\n",
      "\n",
      "Invalid User IDs:\n",
      " Empty DataFrame\n",
      "Columns: [userId, movieId, rating, timestamp]\n",
      "Index: []\n",
      "\n",
      "Invalid Movie IDs:\n",
      " Empty DataFrame\n",
      "Columns: [userId, movieId, rating, timestamp]\n",
      "Index: []\n",
      "\n",
      "Descriptive Statistics:\n",
      "              userId       movieId        rating     timestamp\n",
      "count  2.500010e+07  2.500010e+07  2.500010e+07  2.500010e+07\n",
      "mean   8.118928e+04  2.138798e+04  3.533854e+00  1.215601e+09\n",
      "std    4.679172e+04  3.919886e+04  1.060744e+00  2.268758e+08\n",
      "min    1.000000e+00  1.000000e+00  5.000000e-01  7.896520e+08\n",
      "25%    4.051000e+04  1.196000e+03  3.000000e+00  1.011747e+09\n",
      "50%    8.091400e+04  2.947000e+03  3.500000e+00  1.198868e+09\n",
      "75%    1.215570e+05  8.623000e+03  4.000000e+00  1.447205e+09\n",
      "max    1.625410e+05  2.091710e+05  5.000000e+00  1.574328e+09\n"
     ]
    }
   ],
   "source": [
    "# Check for missing values\n",
    "missing_values = df.isnull().sum()\n",
    "\n",
    "# Check for duplicate rows\n",
    "duplicate_rows = df.duplicated().sum()\n",
    "\n",
    "# Check for illogical values\n",
    "# We know that ratings should be on a 0-5 scale\n",
    "invalid_ratings = df[(df['rating'] < 0) | (df['rating'] > 5)]\n",
    "\n",
    "# Assuming userId and movieId should be positive integers\n",
    "invalid_userId = df[df['userId'] < 1]\n",
    "invalid_movieId = df[df['movieId'] < 1]\n",
    "\n",
    "# Basic Descriptive Statistics\n",
    "descriptive_stats = df.describe()\n",
    "\n",
    "# Printing the results\n",
    "print(\"Missing Values:\\n\", missing_values)\n",
    "print(\"\\nDuplicate Rows:\", duplicate_rows)\n",
    "print(\"\\nInvalid Ratings:\\n\", invalid_ratings)\n",
    "print(\"\\nInvalid User IDs:\\n\", invalid_userId)\n",
    "print(\"\\nInvalid Movie IDs:\\n\", invalid_movieId)\n",
    "print(\"\\nDescriptive Statistics:\\n\", descriptive_stats)"
   ]
  },
  {
   "cell_type": "markdown",
   "metadata": {},
   "source": [
    "Missing Values: There are no missing values in any of the columns, which is great as it means we have a complete dataset.\n",
    "\n",
    "Duplicate Rows: There are no duplicate rows in your dataset.\n",
    "\n",
    "Invalid Ratings, User IDs, and Movie IDs: There are no entries that fall outside the expected ranges for ratings, user IDs, or movie IDs.\n",
    "\n",
    "#### Descriptive Statistics:\n",
    "\n",
    "- The count shows that there are 25,000,100 entries in the dataset (a lot of data).\n",
    "\n",
    "- The mean rating is approximately 3.53, indicating a moderately high average rating across all movies.\n",
    "\n",
    "- The std (standard deviation) for ratings is about 1.06, suggesting a reasonable spread of ratings around the mean.\n",
    "\n",
    "- min and max values for ratings are within the expected range (0.5 to 5.0).\n",
    "\n",
    "\n",
    "Overall, the dataset appears to be clean and well-structured, with no apparent issues in terms of missing values, duplicates, or illogical entries. This makes it a solid foundation for our analysis."
   ]
  },
  {
   "cell_type": "markdown",
   "metadata": {},
   "source": [
    "### Movies' average rating\n",
    "\n",
    "In this section of the notebook, we focus on refining our movie review dataset to ensure higher data quality and enable more accurate analysis. \n",
    "\n",
    "Our first step involves filtering out users who have provided fewer than 10 reviews, as well as movies that have received less than 50 reviews. This is done to concentrate on data that is both reliable and substantial. \n",
    "\n",
    "Next, we normalize the user ratings. This step involves subtracting the average rating of each user from their individual ratings, which helps mitigate individual rating biases. \n",
    "\n",
    "Finally, we calculate the normalized average rating for each movie and adjust this by adding the overall average rating back. This adjustment provides a more balanced and representative view of each movie's reception. \n",
    "\n",
    "This process is crucial for gaining a more accurate and meaningful insight into movie popularity and viewer preferences, forming a solid foundation for our subsequent analysis."
   ]
  },
  {
   "cell_type": "code",
   "execution_count": 27,
   "metadata": {},
   "outputs": [
    {
     "name": "stderr",
     "output_type": "stream",
     "text": [
      "/var/folders/5x/w56lcgf97dd2_7gsjr9xyzz40000gn/T/ipykernel_72509/1562366980.py:15: SettingWithCopyWarning: \n",
      "A value is trying to be set on a copy of a slice from a DataFrame.\n",
      "Try using .loc[row_indexer,col_indexer] = value instead\n",
      "\n",
      "See the caveats in the documentation: https://pandas.pydata.org/pandas-docs/stable/user_guide/indexing.html#returning-a-view-versus-a-copy\n",
      "  df_filtered['norm_rating'] = df_filtered.apply(lambda x: x['rating'] - user_avg[x['userId']], axis=1)\n"
     ]
    }
   ],
   "source": [
    "# Filter users with at least 5 reviews\n",
    "user_review_counts = df['userId'].value_counts()\n",
    "users_with_5_reviews = user_review_counts[user_review_counts >= 10].index\n",
    "df_filtered_users = df[df['userId'].isin(users_with_5_reviews)]\n",
    "\n",
    "# Filter movies with at least 10 reviews\n",
    "movie_review_counts = df_filtered_users['movieId'].value_counts()\n",
    "movies_with_10_reviews = movie_review_counts[movie_review_counts >= 50].index\n",
    "df_filtered = df_filtered_users[df_filtered_users['movieId'].isin(movies_with_10_reviews)]\n",
    "\n",
    "# Calculate average rating per user\n",
    "user_avg = df_filtered.groupby('userId')['rating'].mean()\n",
    "\n",
    "# Normalize ratings\n",
    "df_filtered['norm_rating'] = df_filtered.apply(lambda x: x['rating'] - user_avg[x['userId']], axis=1)\n",
    "\n",
    "# Calculate the normalized average rating for each movie\n",
    "movie_norm_avg = df_filtered.groupby('movieId')['norm_rating'].mean()\n",
    "\n",
    "# Optional: Add back the overall average rating\n",
    "overall_avg = df_filtered['rating'].mean()\n",
    "adjusted_movie_rating = movie_norm_avg + overall_avg"
   ]
  },
  {
   "cell_type": "markdown",
   "metadata": {},
   "source": [
    "### Replacing movie ids by the movie name"
   ]
  },
  {
   "cell_type": "code",
   "execution_count": 28,
   "metadata": {},
   "outputs": [
    {
     "name": "stdout",
     "output_type": "stream",
     "text": [
      "       movieId    rating\n",
      "0            1  3.799459\n",
      "1            2  3.260367\n",
      "2            3  3.179223\n",
      "3            4  2.937154\n",
      "4            5  3.098408\n",
      "...        ...       ...\n",
      "13171   205383  3.643094\n",
      "13172   205425  3.758098\n",
      "13173   206499  3.149143\n",
      "13174   206805  3.280014\n",
      "13175   207830  3.454666\n",
      "\n",
      "[13176 rows x 2 columns]\n"
     ]
    }
   ],
   "source": [
    "# Convert the Series to a DataFrame\n",
    "ratings_df = adjusted_movie_rating.reset_index()\n",
    "\n",
    "# Rename the columns to 'movieId' and 'rating'\n",
    "ratings_df.columns = ['movieId', 'rating']\n",
    "\n",
    "# Print the resulting DataFrame\n",
    "print(ratings_df)"
   ]
  },
  {
   "cell_type": "code",
   "execution_count": 29,
   "metadata": {},
   "outputs": [],
   "source": [
    "file_path = 'ml-25m/movies.csv'\n",
    "\n",
    "# Read the CSV file into a DataFrame\n",
    "names_df = pd.read_csv(file_path)"
   ]
  },
  {
   "cell_type": "code",
   "execution_count": 30,
   "metadata": {},
   "outputs": [
    {
     "data": {
      "text/html": [
       "<div>\n",
       "<style scoped>\n",
       "    .dataframe tbody tr th:only-of-type {\n",
       "        vertical-align: middle;\n",
       "    }\n",
       "\n",
       "    .dataframe tbody tr th {\n",
       "        vertical-align: top;\n",
       "    }\n",
       "\n",
       "    .dataframe thead th {\n",
       "        text-align: right;\n",
       "    }\n",
       "</style>\n",
       "<table border=\"1\" class=\"dataframe\">\n",
       "  <thead>\n",
       "    <tr style=\"text-align: right;\">\n",
       "      <th></th>\n",
       "      <th>movieId</th>\n",
       "      <th>title</th>\n",
       "      <th>genres</th>\n",
       "    </tr>\n",
       "  </thead>\n",
       "  <tbody>\n",
       "    <tr>\n",
       "      <th>0</th>\n",
       "      <td>1</td>\n",
       "      <td>Toy Story (1995)</td>\n",
       "      <td>Adventure|Animation|Children|Comedy|Fantasy</td>\n",
       "    </tr>\n",
       "    <tr>\n",
       "      <th>1</th>\n",
       "      <td>2</td>\n",
       "      <td>Jumanji (1995)</td>\n",
       "      <td>Adventure|Children|Fantasy</td>\n",
       "    </tr>\n",
       "    <tr>\n",
       "      <th>2</th>\n",
       "      <td>3</td>\n",
       "      <td>Grumpier Old Men (1995)</td>\n",
       "      <td>Comedy|Romance</td>\n",
       "    </tr>\n",
       "    <tr>\n",
       "      <th>3</th>\n",
       "      <td>4</td>\n",
       "      <td>Waiting to Exhale (1995)</td>\n",
       "      <td>Comedy|Drama|Romance</td>\n",
       "    </tr>\n",
       "    <tr>\n",
       "      <th>4</th>\n",
       "      <td>5</td>\n",
       "      <td>Father of the Bride Part II (1995)</td>\n",
       "      <td>Comedy</td>\n",
       "    </tr>\n",
       "    <tr>\n",
       "      <th>...</th>\n",
       "      <td>...</td>\n",
       "      <td>...</td>\n",
       "      <td>...</td>\n",
       "    </tr>\n",
       "    <tr>\n",
       "      <th>62418</th>\n",
       "      <td>209157</td>\n",
       "      <td>We (2018)</td>\n",
       "      <td>Drama</td>\n",
       "    </tr>\n",
       "    <tr>\n",
       "      <th>62419</th>\n",
       "      <td>209159</td>\n",
       "      <td>Window of the Soul (2001)</td>\n",
       "      <td>Documentary</td>\n",
       "    </tr>\n",
       "    <tr>\n",
       "      <th>62420</th>\n",
       "      <td>209163</td>\n",
       "      <td>Bad Poems (2018)</td>\n",
       "      <td>Comedy|Drama</td>\n",
       "    </tr>\n",
       "    <tr>\n",
       "      <th>62421</th>\n",
       "      <td>209169</td>\n",
       "      <td>A Girl Thing (2001)</td>\n",
       "      <td>(no genres listed)</td>\n",
       "    </tr>\n",
       "    <tr>\n",
       "      <th>62422</th>\n",
       "      <td>209171</td>\n",
       "      <td>Women of Devil's Island (1962)</td>\n",
       "      <td>Action|Adventure|Drama</td>\n",
       "    </tr>\n",
       "  </tbody>\n",
       "</table>\n",
       "<p>62423 rows × 3 columns</p>\n",
       "</div>"
      ],
      "text/plain": [
       "       movieId                               title  \\\n",
       "0            1                    Toy Story (1995)   \n",
       "1            2                      Jumanji (1995)   \n",
       "2            3             Grumpier Old Men (1995)   \n",
       "3            4            Waiting to Exhale (1995)   \n",
       "4            5  Father of the Bride Part II (1995)   \n",
       "...        ...                                 ...   \n",
       "62418   209157                           We (2018)   \n",
       "62419   209159           Window of the Soul (2001)   \n",
       "62420   209163                    Bad Poems (2018)   \n",
       "62421   209169                 A Girl Thing (2001)   \n",
       "62422   209171      Women of Devil's Island (1962)   \n",
       "\n",
       "                                            genres  \n",
       "0      Adventure|Animation|Children|Comedy|Fantasy  \n",
       "1                       Adventure|Children|Fantasy  \n",
       "2                                   Comedy|Romance  \n",
       "3                             Comedy|Drama|Romance  \n",
       "4                                           Comedy  \n",
       "...                                            ...  \n",
       "62418                                        Drama  \n",
       "62419                                  Documentary  \n",
       "62420                                 Comedy|Drama  \n",
       "62421                           (no genres listed)  \n",
       "62422                       Action|Adventure|Drama  \n",
       "\n",
       "[62423 rows x 3 columns]"
      ]
     },
     "execution_count": 30,
     "metadata": {},
     "output_type": "execute_result"
    }
   ],
   "source": [
    "names_df"
   ]
  },
  {
   "cell_type": "code",
   "execution_count": 31,
   "metadata": {},
   "outputs": [
    {
     "name": "stdout",
     "output_type": "stream",
     "text": [
      "       movieId                                   title    rating\n",
      "0            1                        Toy Story (1995)  3.799459\n",
      "1            2                          Jumanji (1995)  3.260367\n",
      "2            3                 Grumpier Old Men (1995)  3.179223\n",
      "3            4                Waiting to Exhale (1995)  2.937154\n",
      "4            5      Father of the Bride Part II (1995)  3.098408\n",
      "...        ...                                     ...       ...\n",
      "13171   205383  El Camino: A Breaking Bad Movie (2019)  3.643094\n",
      "13172   205425  Dave Chappelle: Sticks & Stones (2019)  3.758098\n",
      "13173   206499     Between Two Ferns: The Movie (2019)  3.149143\n",
      "13174   206805        In the Shadow of the Moon (2019)  3.280014\n",
      "13175   207830            Terminator: Dark Fate (2019)  3.454666\n",
      "\n",
      "[13176 rows x 3 columns]\n"
     ]
    }
   ],
   "source": [
    "# Merge the DataFrames on 'movieId'\n",
    "merged_df = pd.merge(names_df, ratings_df, on='movieId')\n",
    "\n",
    "# Select only the relevant columns\n",
    "final_df = merged_df[['movieId', 'title', 'rating']] \n",
    "\n",
    "# Print the resulting DataFrame\n",
    "print(final_df)"
   ]
  },
  {
   "cell_type": "code",
   "execution_count": 32,
   "metadata": {},
   "outputs": [
    {
     "name": "stderr",
     "output_type": "stream",
     "text": [
      "/var/folders/5x/w56lcgf97dd2_7gsjr9xyzz40000gn/T/ipykernel_72509/2696667130.py:2: SettingWithCopyWarning: \n",
      "A value is trying to be set on a copy of a slice from a DataFrame.\n",
      "Try using .loc[row_indexer,col_indexer] = value instead\n",
      "\n",
      "See the caveats in the documentation: https://pandas.pydata.org/pandas-docs/stable/user_guide/indexing.html#returning-a-view-versus-a-copy\n",
      "  final_df['title'] = final_df['title'].str.replace(r\" \\(\\d{4}\\)\", \"\", regex=True)\n"
     ]
    },
    {
     "data": {
      "text/html": [
       "<div>\n",
       "<style scoped>\n",
       "    .dataframe tbody tr th:only-of-type {\n",
       "        vertical-align: middle;\n",
       "    }\n",
       "\n",
       "    .dataframe tbody tr th {\n",
       "        vertical-align: top;\n",
       "    }\n",
       "\n",
       "    .dataframe thead th {\n",
       "        text-align: right;\n",
       "    }\n",
       "</style>\n",
       "<table border=\"1\" class=\"dataframe\">\n",
       "  <thead>\n",
       "    <tr style=\"text-align: right;\">\n",
       "      <th></th>\n",
       "      <th>movieId</th>\n",
       "      <th>title</th>\n",
       "      <th>rating</th>\n",
       "    </tr>\n",
       "  </thead>\n",
       "  <tbody>\n",
       "    <tr>\n",
       "      <th>0</th>\n",
       "      <td>1</td>\n",
       "      <td>Toy Story</td>\n",
       "      <td>3.799459</td>\n",
       "    </tr>\n",
       "    <tr>\n",
       "      <th>1</th>\n",
       "      <td>2</td>\n",
       "      <td>Jumanji</td>\n",
       "      <td>3.260367</td>\n",
       "    </tr>\n",
       "    <tr>\n",
       "      <th>2</th>\n",
       "      <td>3</td>\n",
       "      <td>Grumpier Old Men</td>\n",
       "      <td>3.179223</td>\n",
       "    </tr>\n",
       "    <tr>\n",
       "      <th>3</th>\n",
       "      <td>4</td>\n",
       "      <td>Waiting to Exhale</td>\n",
       "      <td>2.937154</td>\n",
       "    </tr>\n",
       "    <tr>\n",
       "      <th>4</th>\n",
       "      <td>5</td>\n",
       "      <td>Father of the Bride Part II</td>\n",
       "      <td>3.098408</td>\n",
       "    </tr>\n",
       "    <tr>\n",
       "      <th>...</th>\n",
       "      <td>...</td>\n",
       "      <td>...</td>\n",
       "      <td>...</td>\n",
       "    </tr>\n",
       "    <tr>\n",
       "      <th>13171</th>\n",
       "      <td>205383</td>\n",
       "      <td>El Camino: A Breaking Bad Movie</td>\n",
       "      <td>3.643094</td>\n",
       "    </tr>\n",
       "    <tr>\n",
       "      <th>13172</th>\n",
       "      <td>205425</td>\n",
       "      <td>Dave Chappelle: Sticks &amp; Stones</td>\n",
       "      <td>3.758098</td>\n",
       "    </tr>\n",
       "    <tr>\n",
       "      <th>13173</th>\n",
       "      <td>206499</td>\n",
       "      <td>Between Two Ferns: The Movie</td>\n",
       "      <td>3.149143</td>\n",
       "    </tr>\n",
       "    <tr>\n",
       "      <th>13174</th>\n",
       "      <td>206805</td>\n",
       "      <td>In the Shadow of the Moon</td>\n",
       "      <td>3.280014</td>\n",
       "    </tr>\n",
       "    <tr>\n",
       "      <th>13175</th>\n",
       "      <td>207830</td>\n",
       "      <td>Terminator: Dark Fate</td>\n",
       "      <td>3.454666</td>\n",
       "    </tr>\n",
       "  </tbody>\n",
       "</table>\n",
       "<p>13176 rows × 3 columns</p>\n",
       "</div>"
      ],
      "text/plain": [
       "       movieId                            title    rating\n",
       "0            1                        Toy Story  3.799459\n",
       "1            2                          Jumanji  3.260367\n",
       "2            3                 Grumpier Old Men  3.179223\n",
       "3            4                Waiting to Exhale  2.937154\n",
       "4            5      Father of the Bride Part II  3.098408\n",
       "...        ...                              ...       ...\n",
       "13171   205383  El Camino: A Breaking Bad Movie  3.643094\n",
       "13172   205425  Dave Chappelle: Sticks & Stones  3.758098\n",
       "13173   206499     Between Two Ferns: The Movie  3.149143\n",
       "13174   206805        In the Shadow of the Moon  3.280014\n",
       "13175   207830            Terminator: Dark Fate  3.454666\n",
       "\n",
       "[13176 rows x 3 columns]"
      ]
     },
     "execution_count": 32,
     "metadata": {},
     "output_type": "execute_result"
    }
   ],
   "source": [
    "# Remove the year from the 'title' column\n",
    "final_df['title'] = final_df['title'].str.replace(r\" \\(\\d{4}\\)\", \"\", regex=True)\n",
    "\n",
    "final_df"
   ]
  },
  {
   "cell_type": "code",
   "execution_count": 33,
   "metadata": {},
   "outputs": [
    {
     "data": {
      "text/plain": [
       "'Toy Story'"
      ]
     },
     "execution_count": 33,
     "metadata": {},
     "output_type": "execute_result"
    }
   ],
   "source": [
    "final_df[\"title\"][0]"
   ]
  },
  {
   "cell_type": "markdown",
   "metadata": {},
   "source": [
    "# 2- Movies exact dates of realease"
   ]
  },
  {
   "cell_type": "markdown",
   "metadata": {},
   "source": [
    "Our analysis heavily relies on the exact release dates of movies. However, 50% of our dataset only includes the year of release, not the month. Therefore, we will endeavor to extract as many exact release dates as possible from [this Kaggle dataset](https://www.kaggle.com/datasets/rounakbanik/the-movies-dataset/data). \n",
    "\n",
    "Additionally, this dataset contains IMDb votes and ratings, which could also prove useful for our analysis."
   ]
  },
  {
   "cell_type": "code",
   "execution_count": 34,
   "metadata": {},
   "outputs": [],
   "source": [
    "movies = pd.read_csv(\"archive/movies_metadata.csv\",\n",
    "                    usecols=[\"id\",\"title\",\"vote_average\",\"vote_count\",\"release_date\"])"
   ]
  },
  {
   "cell_type": "code",
   "execution_count": 35,
   "metadata": {},
   "outputs": [
    {
     "data": {
      "text/html": [
       "<div>\n",
       "<style scoped>\n",
       "    .dataframe tbody tr th:only-of-type {\n",
       "        vertical-align: middle;\n",
       "    }\n",
       "\n",
       "    .dataframe tbody tr th {\n",
       "        vertical-align: top;\n",
       "    }\n",
       "\n",
       "    .dataframe thead th {\n",
       "        text-align: right;\n",
       "    }\n",
       "</style>\n",
       "<table border=\"1\" class=\"dataframe\">\n",
       "  <thead>\n",
       "    <tr style=\"text-align: right;\">\n",
       "      <th></th>\n",
       "      <th>id</th>\n",
       "      <th>release_date</th>\n",
       "      <th>title</th>\n",
       "      <th>vote_average</th>\n",
       "      <th>vote_count</th>\n",
       "    </tr>\n",
       "  </thead>\n",
       "  <tbody>\n",
       "    <tr>\n",
       "      <th>0</th>\n",
       "      <td>862</td>\n",
       "      <td>1995-10-30</td>\n",
       "      <td>Toy Story</td>\n",
       "      <td>7.7</td>\n",
       "      <td>5415.0</td>\n",
       "    </tr>\n",
       "    <tr>\n",
       "      <th>1</th>\n",
       "      <td>8844</td>\n",
       "      <td>1995-12-15</td>\n",
       "      <td>Jumanji</td>\n",
       "      <td>6.9</td>\n",
       "      <td>2413.0</td>\n",
       "    </tr>\n",
       "    <tr>\n",
       "      <th>2</th>\n",
       "      <td>15602</td>\n",
       "      <td>1995-12-22</td>\n",
       "      <td>Grumpier Old Men</td>\n",
       "      <td>6.5</td>\n",
       "      <td>92.0</td>\n",
       "    </tr>\n",
       "    <tr>\n",
       "      <th>3</th>\n",
       "      <td>31357</td>\n",
       "      <td>1995-12-22</td>\n",
       "      <td>Waiting to Exhale</td>\n",
       "      <td>6.1</td>\n",
       "      <td>34.0</td>\n",
       "    </tr>\n",
       "    <tr>\n",
       "      <th>4</th>\n",
       "      <td>11862</td>\n",
       "      <td>1995-02-10</td>\n",
       "      <td>Father of the Bride Part II</td>\n",
       "      <td>5.7</td>\n",
       "      <td>173.0</td>\n",
       "    </tr>\n",
       "    <tr>\n",
       "      <th>...</th>\n",
       "      <td>...</td>\n",
       "      <td>...</td>\n",
       "      <td>...</td>\n",
       "      <td>...</td>\n",
       "      <td>...</td>\n",
       "    </tr>\n",
       "    <tr>\n",
       "      <th>45461</th>\n",
       "      <td>439050</td>\n",
       "      <td>NaN</td>\n",
       "      <td>Subdue</td>\n",
       "      <td>4.0</td>\n",
       "      <td>1.0</td>\n",
       "    </tr>\n",
       "    <tr>\n",
       "      <th>45462</th>\n",
       "      <td>111109</td>\n",
       "      <td>2011-11-17</td>\n",
       "      <td>Century of Birthing</td>\n",
       "      <td>9.0</td>\n",
       "      <td>3.0</td>\n",
       "    </tr>\n",
       "    <tr>\n",
       "      <th>45463</th>\n",
       "      <td>67758</td>\n",
       "      <td>2003-08-01</td>\n",
       "      <td>Betrayal</td>\n",
       "      <td>3.8</td>\n",
       "      <td>6.0</td>\n",
       "    </tr>\n",
       "    <tr>\n",
       "      <th>45464</th>\n",
       "      <td>227506</td>\n",
       "      <td>1917-10-21</td>\n",
       "      <td>Satan Triumphant</td>\n",
       "      <td>0.0</td>\n",
       "      <td>0.0</td>\n",
       "    </tr>\n",
       "    <tr>\n",
       "      <th>45465</th>\n",
       "      <td>461257</td>\n",
       "      <td>2017-06-09</td>\n",
       "      <td>Queerama</td>\n",
       "      <td>0.0</td>\n",
       "      <td>0.0</td>\n",
       "    </tr>\n",
       "  </tbody>\n",
       "</table>\n",
       "<p>45466 rows × 5 columns</p>\n",
       "</div>"
      ],
      "text/plain": [
       "           id release_date                        title  vote_average  \\\n",
       "0         862   1995-10-30                    Toy Story           7.7   \n",
       "1        8844   1995-12-15                      Jumanji           6.9   \n",
       "2       15602   1995-12-22             Grumpier Old Men           6.5   \n",
       "3       31357   1995-12-22            Waiting to Exhale           6.1   \n",
       "4       11862   1995-02-10  Father of the Bride Part II           5.7   \n",
       "...       ...          ...                          ...           ...   \n",
       "45461  439050          NaN                       Subdue           4.0   \n",
       "45462  111109   2011-11-17          Century of Birthing           9.0   \n",
       "45463   67758   2003-08-01                     Betrayal           3.8   \n",
       "45464  227506   1917-10-21             Satan Triumphant           0.0   \n",
       "45465  461257   2017-06-09                     Queerama           0.0   \n",
       "\n",
       "       vote_count  \n",
       "0          5415.0  \n",
       "1          2413.0  \n",
       "2            92.0  \n",
       "3            34.0  \n",
       "4           173.0  \n",
       "...           ...  \n",
       "45461         1.0  \n",
       "45462         3.0  \n",
       "45463         6.0  \n",
       "45464         0.0  \n",
       "45465         0.0  \n",
       "\n",
       "[45466 rows x 5 columns]"
      ]
     },
     "execution_count": 35,
     "metadata": {},
     "output_type": "execute_result"
    }
   ],
   "source": [
    "movies"
   ]
  },
  {
   "cell_type": "code",
   "execution_count": 36,
   "metadata": {},
   "outputs": [
    {
     "name": "stdout",
     "output_type": "stream",
     "text": [
      "0    1995-10-30\n",
      "1    1995-12-15\n",
      "2    1995-12-22\n",
      "3    1995-12-22\n",
      "4    1995-02-10\n",
      "Name: release_date, dtype: object\n",
      "object\n",
      "87\n",
      "[10. nan  1.  2.]\n"
     ]
    }
   ],
   "source": [
    "# Display the first few rows of the release_date column\n",
    "print(movies['release_date'].head())\n",
    "\n",
    "# Check the data type of the release_date column\n",
    "print(movies['release_date'].dtype)\n",
    "\n",
    "# Count the number of missing or NaN values in the release_date column\n",
    "print(movies['release_date'].isna().sum())\n",
    "\n",
    "# Check the length of the date strings\n",
    "print(movies['release_date'].str.len().unique())"
   ]
  },
  {
   "cell_type": "code",
   "execution_count": 37,
   "metadata": {},
   "outputs": [],
   "source": [
    "# Filtering out rows where the release_date is NaN or its length is less than 7\n",
    "filtered_movies = movies[movies['release_date'].notna()]\n",
    "filtered_movies = filtered_movies[filtered_movies['release_date'].str.len() >= 7]"
   ]
  },
  {
   "cell_type": "code",
   "execution_count": 38,
   "metadata": {},
   "outputs": [
    {
     "name": "stdout",
     "output_type": "stream",
     "text": [
      "Duplicate IDs: 30\n",
      "Duplicate Titles: 3180\n",
      "\n",
      "Data Types:\n",
      "id               object\n",
      "release_date     object\n",
      "title            object\n",
      "vote_average    float64\n",
      "vote_count      float64\n",
      "dtype: object\n",
      "\n",
      "Invalid Release Dates: 0\n",
      "Invalid Vote Averages: 0\n",
      "Invalid Vote Counts: 0\n"
     ]
    }
   ],
   "source": [
    "# Check for duplicate rows based on 'id' and 'title'\n",
    "duplicate_ids = filtered_movies['id'].duplicated().sum()\n",
    "duplicate_titles = filtered_movies['title'].duplicated().sum()\n",
    "\n",
    "# Check data types\n",
    "data_types = filtered_movies.dtypes\n",
    "\n",
    "# Inspect release dates\n",
    "# Assuming release_date is in string format, you might convert it to datetime if needed\n",
    "invalid_release_dates = filtered_movies[~filtered_movies['release_date'].str.match(r'\\d{4}-\\d{2}-\\d{2}')].shape[0]\n",
    "\n",
    "# Validate vote average and count\n",
    "invalid_vote_average = filtered_movies[(filtered_movies['vote_average'] < 0) | (filtered_movies['vote_average'] > 10)].shape[0]\n",
    "invalid_vote_count = filtered_movies[filtered_movies['vote_count'] < 0].shape[0]\n",
    "\n",
    "# Print results\n",
    "print(f\"Duplicate IDs: {duplicate_ids}\")\n",
    "print(f\"Duplicate Titles: {duplicate_titles}\")\n",
    "print(f\"\\nData Types:\\n{data_types}\")\n",
    "print(f\"\\nInvalid Release Dates: {invalid_release_dates}\")\n",
    "print(f\"Invalid Vote Averages: {invalid_vote_average}\")\n",
    "print(f\"Invalid Vote Counts: {invalid_vote_count}\")\n"
   ]
  },
  {
   "cell_type": "code",
   "execution_count": 39,
   "metadata": {},
   "outputs": [
    {
     "name": "stdout",
     "output_type": "stream",
     "text": [
      "Duplicate IDs after filtering: 0\n",
      "Duplicate Titles after filtering: 3150\n",
      "\n",
      "Data Types after filtering:\n",
      "id               object\n",
      "release_date     object\n",
      "title            object\n",
      "vote_average    float64\n",
      "vote_count      float64\n",
      "dtype: object\n"
     ]
    }
   ],
   "source": [
    "# Remove duplicate rows based on 'id'\n",
    "filtered_movies = filtered_movies.drop_duplicates(subset='id')\n",
    "\n",
    "# Re-check for duplicates and data types after filtering\n",
    "duplicate_ids_after = filtered_movies['id'].duplicated().sum()\n",
    "duplicate_titles_after = filtered_movies['title'].duplicated().sum()\n",
    "data_types_after = filtered_movies.dtypes\n",
    "\n",
    "# Print results after filtering\n",
    "print(f\"Duplicate IDs after filtering: {duplicate_ids_after}\")\n",
    "print(f\"Duplicate Titles after filtering: {duplicate_titles_after}\")\n",
    "print(f\"\\nData Types after filtering:\\n{data_types_after}\")\n"
   ]
  },
  {
   "cell_type": "markdown",
   "metadata": {},
   "source": [
    "The presence of duplicate titles with different IDs in our filtered_movies DataFrame indicates that there might be different versions or releases of the same movie, or it could be a data entry error. To further refine the data, we can check if these duplicates have the same release date. If they do, it's more likely that they are indeed duplicates and should be removed. However, if the release dates differ, they might be different versions or movies with the same title released in different years."
   ]
  },
  {
   "cell_type": "code",
   "execution_count": 40,
   "metadata": {},
   "outputs": [
    {
     "name": "stdout",
     "output_type": "stream",
     "text": [
      "Duplicates with Different Release Dates:\n",
      "           id release_date                  title  vote_average  vote_count\n",
      "5         949   1995-12-15                   Heat           7.7      1886.0\n",
      "6       11860   1995-12-15                Sabrina           6.2       141.0\n",
      "16       4584   1995-12-13  Sense and Sensibility           7.2       364.0\n",
      "25      16420   1995-12-15                Othello           7.0        33.0\n",
      "27      17015   1995-09-27             Persuasion           7.4        36.0\n",
      "...       ...          ...                    ...           ...         ...\n",
      "45421   52103   1997-01-01             Pickpocket           7.2        13.0\n",
      "45453  404604   2017-07-07                    Mom           6.6        14.0\n",
      "45454  420346   2015-01-11      The Morning After           4.0         2.0\n",
      "45460   30840   1991-05-13             Robin Hood           5.7        26.0\n",
      "45463   67758   2003-08-01               Betrayal           3.8         6.0\n",
      "\n",
      "[5454 rows x 5 columns]\n",
      "\n",
      "Final Duplicate Titles: 3150\n"
     ]
    }
   ],
   "source": [
    "# Group by title and check if there are multiple unique release dates for the same title\n",
    "duplicates_with_different_dates = filtered_movies.groupby('title').filter(lambda x: len(x['release_date'].unique()) > 1)\n",
    "\n",
    "# Display these duplicates\n",
    "print(\"Duplicates with Different Release Dates:\")\n",
    "print(duplicates_with_different_dates)\n",
    "\n",
    "# We keep the entry with the highest vote_count for each title:\n",
    "cleaned_movies = duplicates_with_different_dates.sort_values(by=['title', 'vote_count'], ascending=[True, False])\n",
    "#cleaned_movies = cleaned_movies.drop_duplicates(subset='title', keep='first')\n",
    "\n",
    "# Final check for duplicates\n",
    "final_duplicate_titles = cleaned_movies['title'].duplicated().sum()\n",
    "print(f\"\\nFinal Duplicate Titles: {final_duplicate_titles}\")"
   ]
  },
  {
   "cell_type": "code",
   "execution_count": 41,
   "metadata": {},
   "outputs": [
    {
     "name": "stdout",
     "output_type": "stream",
     "text": [
      "Final Duplicate Titles: 3150\n"
     ]
    }
   ],
   "source": [
    "# Group by 'title' and 'release_date', then sort by 'vote_count' within each group\n",
    "filtered_movies_sorted = filtered_movies.sort_values(by=['title', 'release_date', 'vote_count'], ascending=[True, True, False])\n",
    "\n",
    "# Drop duplicates, keeping the first entry in each group (the one with the highest vote count)\n",
    "cleaned_movies = filtered_movies_sorted.drop_duplicates(subset=['title', 'release_date'], keep='first')\n",
    "\n",
    "# Final check for duplicates\n",
    "final_duplicate_titles = cleaned_movies['title'].duplicated().sum()\n",
    "print(f\"Final Duplicate Titles: {final_duplicate_titles}\")"
   ]
  },
  {
   "cell_type": "code",
   "execution_count": 42,
   "metadata": {},
   "outputs": [
    {
     "data": {
      "text/html": [
       "<div>\n",
       "<style scoped>\n",
       "    .dataframe tbody tr th:only-of-type {\n",
       "        vertical-align: middle;\n",
       "    }\n",
       "\n",
       "    .dataframe tbody tr th {\n",
       "        vertical-align: top;\n",
       "    }\n",
       "\n",
       "    .dataframe thead th {\n",
       "        text-align: right;\n",
       "    }\n",
       "</style>\n",
       "<table border=\"1\" class=\"dataframe\">\n",
       "  <thead>\n",
       "    <tr style=\"text-align: right;\">\n",
       "      <th></th>\n",
       "      <th>id</th>\n",
       "      <th>release_date</th>\n",
       "      <th>title</th>\n",
       "      <th>vote_average</th>\n",
       "      <th>vote_count</th>\n",
       "    </tr>\n",
       "  </thead>\n",
       "  <tbody>\n",
       "    <tr>\n",
       "      <th>18757</th>\n",
       "      <td>55245</td>\n",
       "      <td>2010-01-01</td>\n",
       "      <td>!Women Art Revolution</td>\n",
       "      <td>4.3</td>\n",
       "      <td>2.0</td>\n",
       "    </tr>\n",
       "    <tr>\n",
       "      <th>30961</th>\n",
       "      <td>41371</td>\n",
       "      <td>2010-07-27</td>\n",
       "      <td>#1 Cheerleader Camp</td>\n",
       "      <td>3.4</td>\n",
       "      <td>23.0</td>\n",
       "    </tr>\n",
       "    <tr>\n",
       "      <th>36153</th>\n",
       "      <td>301325</td>\n",
       "      <td>2015-11-20</td>\n",
       "      <td>#Horror</td>\n",
       "      <td>3.4</td>\n",
       "      <td>53.0</td>\n",
       "    </tr>\n",
       "    <tr>\n",
       "      <th>23501</th>\n",
       "      <td>267752</td>\n",
       "      <td>2013-11-21</td>\n",
       "      <td>#chicagoGirl</td>\n",
       "      <td>7.0</td>\n",
       "      <td>1.0</td>\n",
       "    </tr>\n",
       "    <tr>\n",
       "      <th>28042</th>\n",
       "      <td>143747</td>\n",
       "      <td>1966-12-18</td>\n",
       "      <td>$1,000 on the Black</td>\n",
       "      <td>6.0</td>\n",
       "      <td>2.0</td>\n",
       "    </tr>\n",
       "    <tr>\n",
       "      <th>...</th>\n",
       "      <td>...</td>\n",
       "      <td>...</td>\n",
       "      <td>...</td>\n",
       "      <td>...</td>\n",
       "      <td>...</td>\n",
       "    </tr>\n",
       "    <tr>\n",
       "      <th>22346</th>\n",
       "      <td>388182</td>\n",
       "      <td>2013-08-07</td>\n",
       "      <td>هیچ کجا هیچ کس</td>\n",
       "      <td>10.0</td>\n",
       "      <td>1.0</td>\n",
       "    </tr>\n",
       "    <tr>\n",
       "      <th>38463</th>\n",
       "      <td>120249</td>\n",
       "      <td>1974-11-05</td>\n",
       "      <td>‘Rameau’s Nephew’ by Diderot (Thanx to Dennis ...</td>\n",
       "      <td>10.0</td>\n",
       "      <td>1.0</td>\n",
       "    </tr>\n",
       "    <tr>\n",
       "      <th>8882</th>\n",
       "      <td>14670</td>\n",
       "      <td>1986-09-23</td>\n",
       "      <td>’Round Midnight</td>\n",
       "      <td>6.7</td>\n",
       "      <td>20.0</td>\n",
       "    </tr>\n",
       "    <tr>\n",
       "      <th>39033</th>\n",
       "      <td>109380</td>\n",
       "      <td>1965-02-12</td>\n",
       "      <td>…And the Fifth Horseman Is Fear</td>\n",
       "      <td>8.0</td>\n",
       "      <td>4.0</td>\n",
       "    </tr>\n",
       "    <tr>\n",
       "      <th>41473</th>\n",
       "      <td>252874</td>\n",
       "      <td>2005-02-10</td>\n",
       "      <td>ファンタスティポ</td>\n",
       "      <td>0.0</td>\n",
       "      <td>0.0</td>\n",
       "    </tr>\n",
       "  </tbody>\n",
       "</table>\n",
       "<p>45346 rows × 5 columns</p>\n",
       "</div>"
      ],
      "text/plain": [
       "           id release_date                                              title  \\\n",
       "18757   55245   2010-01-01                              !Women Art Revolution   \n",
       "30961   41371   2010-07-27                                #1 Cheerleader Camp   \n",
       "36153  301325   2015-11-20                                            #Horror   \n",
       "23501  267752   2013-11-21                                       #chicagoGirl   \n",
       "28042  143747   1966-12-18                                $1,000 on the Black   \n",
       "...       ...          ...                                                ...   \n",
       "22346  388182   2013-08-07                                     هیچ کجا هیچ کس   \n",
       "38463  120249   1974-11-05  ‘Rameau’s Nephew’ by Diderot (Thanx to Dennis ...   \n",
       "8882    14670   1986-09-23                                    ’Round Midnight   \n",
       "39033  109380   1965-02-12                    …And the Fifth Horseman Is Fear   \n",
       "41473  252874   2005-02-10                                           ファンタスティポ   \n",
       "\n",
       "       vote_average  vote_count  \n",
       "18757           4.3         2.0  \n",
       "30961           3.4        23.0  \n",
       "36153           3.4        53.0  \n",
       "23501           7.0         1.0  \n",
       "28042           6.0         2.0  \n",
       "...             ...         ...  \n",
       "22346          10.0         1.0  \n",
       "38463          10.0         1.0  \n",
       "8882            6.7        20.0  \n",
       "39033           8.0         4.0  \n",
       "41473           0.0         0.0  \n",
       "\n",
       "[45346 rows x 5 columns]"
      ]
     },
     "execution_count": 42,
     "metadata": {},
     "output_type": "execute_result"
    }
   ],
   "source": [
    "cleaned_movies"
   ]
  },
  {
   "cell_type": "markdown",
   "metadata": {},
   "source": [
    "# 3- Merge all : movie title + movie date of release + ratings\n",
    "In this section of the notebook, we perform a critical step of merging the movie titles, their respective dates of release, and the ratings. This consolidation allows us to form a comprehensive dataset that we will be using moving forward."
   ]
  },
  {
   "cell_type": "code",
   "execution_count": 43,
   "metadata": {},
   "outputs": [
    {
     "name": "stdout",
     "output_type": "stream",
     "text": [
      "Number of Common Titles: 8123\n"
     ]
    }
   ],
   "source": [
    "# Find common titles\n",
    "common_titles = cleaned_movies[cleaned_movies['title'].isin(final_df['title'])]\n",
    "\n",
    "# Count the number of common titles\n",
    "num_common_titles = common_titles['title'].nunique()\n",
    "\n",
    "# Print the number of common titles\n",
    "print(f\"Number of Common Titles: {num_common_titles}\")"
   ]
  },
  {
   "cell_type": "code",
   "execution_count": 44,
   "metadata": {},
   "outputs": [],
   "source": [
    "# Merge the DataFrames on the 'title' column\n",
    "# 'how' parameter is set to 'left' to keep all records from metadata_df and only add ratings where available\n",
    "combined_df = pd.merge(cleaned_movies, final_df[['title', 'rating']], on='title', how='left')"
   ]
  },
  {
   "cell_type": "code",
   "execution_count": 45,
   "metadata": {},
   "outputs": [
    {
     "data": {
      "text/html": [
       "<div>\n",
       "<style scoped>\n",
       "    .dataframe tbody tr th:only-of-type {\n",
       "        vertical-align: middle;\n",
       "    }\n",
       "\n",
       "    .dataframe tbody tr th {\n",
       "        vertical-align: top;\n",
       "    }\n",
       "\n",
       "    .dataframe thead th {\n",
       "        text-align: right;\n",
       "    }\n",
       "</style>\n",
       "<table border=\"1\" class=\"dataframe\">\n",
       "  <thead>\n",
       "    <tr style=\"text-align: right;\">\n",
       "      <th></th>\n",
       "      <th>id</th>\n",
       "      <th>release_date</th>\n",
       "      <th>title</th>\n",
       "      <th>vote_average</th>\n",
       "      <th>vote_count</th>\n",
       "      <th>rating</th>\n",
       "    </tr>\n",
       "  </thead>\n",
       "  <tbody>\n",
       "    <tr>\n",
       "      <th>42721</th>\n",
       "      <td>862</td>\n",
       "      <td>1995-10-30</td>\n",
       "      <td>Toy Story</td>\n",
       "      <td>7.7</td>\n",
       "      <td>5415.0</td>\n",
       "      <td>3.799459</td>\n",
       "    </tr>\n",
       "  </tbody>\n",
       "</table>\n",
       "</div>"
      ],
      "text/plain": [
       "        id release_date      title  vote_average  vote_count    rating\n",
       "42721  862   1995-10-30  Toy Story           7.7      5415.0  3.799459"
      ]
     },
     "execution_count": 45,
     "metadata": {},
     "output_type": "execute_result"
    }
   ],
   "source": [
    "combined_df[combined_df['title'] == 'Toy Story']"
   ]
  },
  {
   "cell_type": "code",
   "execution_count": 46,
   "metadata": {},
   "outputs": [],
   "source": [
    "# Save the dataframe as .csv\n",
    "combined_df.to_csv('combined_movies_data.csv', index=False)"
   ]
  }
 ],
 "metadata": {
  "kernelspec": {
   "display_name": "base",
   "language": "python",
   "name": "python3"
  },
  "language_info": {
   "codemirror_mode": {
    "name": "ipython",
    "version": 3
   },
   "file_extension": ".py",
   "mimetype": "text/x-python",
   "name": "python",
   "nbconvert_exporter": "python",
   "pygments_lexer": "ipython3",
   "version": "3.10.10"
  },
  "orig_nbformat": 4
 },
 "nbformat": 4,
 "nbformat_minor": 2
}
