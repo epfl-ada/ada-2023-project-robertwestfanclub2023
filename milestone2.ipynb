{
  "cells": [
    {
      "cell_type": "markdown",
      "metadata": {},
      "source": [
        "# **Cinematic Dynamics: Exploring Film Genres, Release Timing, and Success Factors**"
      ]
    },
    {
      "cell_type": "markdown",
      "metadata": {},
      "source": [
        "# P2 : Project Proposal and Initial Analyses"
      ]
    },
    {
      "cell_type": "markdown",
      "metadata": {},
      "source": [
        "> - 😀 Name: **Léa Blinière**, **Yanruiqi Yang**, **Pierre-Hadrien Levieil**,**Jason Mina**, **Salim Cherkaoui**\n",
        "> - 🪪 SCIPER: **283670**, **346510**, **324420**, **355142**\n",
        "\n"
      ]
    },
    {
      "cell_type": "markdown",
      "metadata": {},
      "source": [
        "# Table of Contents\n",
        "- **[PART 1: Data Exploration and Preparation](#1)**\n",
        "    - [1.1 Load the Data and Visual Inspection](#11)\n",
        "    - [1.2 Data Cleaning](#12)\n",
        "    - [1.3 Data Merging](#13)\n",
        "- **[PART 2: Addressing Our Research Questions](#2)**\n",
        "    - [2.1 Research Question 1: Recurring Patterns and Impactful Factors](#21)\n",
        "    - [2.2 Research Question 2: Analysis on Pursuing Oscar's](#22)\n",
        "    - [2.3 Research Question 3: Analysis on Box Office Revenues and Ratings](#23)\n",
        "    - [2.3 Research Question 4: Actors' Influence](#24)\n"
      ]
    },
    {
      "cell_type": "markdown",
      "metadata": {},
      "source": [
        "### **Import Librairies**"
      ]
    },
    {
      "cell_type": "code",
      "execution_count": 205,
      "metadata": {},
      "outputs": [
        {
          "name": "stdout",
          "output_type": "stream",
          "text": [
            "The autoreload extension is already loaded. To reload it, use:\n",
            "  %reload_ext autoreload\n"
          ]
        }
      ],
      "source": [
        "import pandas as pd\n",
        "import numpy as np\n",
        "import matplotlib.pyplot as plt\n",
        "import seaborn as sns\n",
        "import tqdm\n",
        "\n",
        "from preprocessing import *\n",
        "from plot_functions import *\n",
        "from sklearn.linear_model import LogisticRegression\n",
        "from utils import *\n",
        "\n",
        "%load_ext autoreload\n",
        "%autoreload 2\n",
        "%matplotlib inline\n",
        "%reload_ext autoreload"
      ]
    },
    {
      "cell_type": "markdown",
      "metadata": {},
      "source": [
        "### **Load Path**"
      ]
    },
    {
      "cell_type": "markdown",
      "metadata": {},
      "source": [
        "### GOOGLE DRIVE "
      ]
    },
    {
      "cell_type": "code",
      "execution_count": null,
      "metadata": {},
      "outputs": [],
      "source": [
        "# Data Path\n",
        "DATA_RESULTS = 'Data_results/'\n",
        "\n",
        "MOVIE_PATH = get_path(\n",
        "    \"https://drive.google.com/file/d/1gIeripRBttNRhJGQKmr-8zeZVLIPXo8s/view?usp=sharing\"\n",
        ")\n",
        "\n",
        "# Additional data\n",
        "OSCAR_PATH = get_path(\n",
        "    \"https://drive.google.com/file/d/1IWOH_y_Ikai-6MxcX5WnFm2jqOKCQVQf/view?usp=sharing\"\n",
        ")\n",
        "\n",
        "IMBD_TITLE_PATH = get_path(\n",
        "    \"https://drive.google.com/file/d/1t6_kQ7tfLsORItYH8f17_EwRQgEm-t69/view?usp=sharing\"\n",
        ")\n",
        "\n",
        "IMDB_RATING_PATH = get_path(\n",
        "    \"https://drive.google.com/file/d/10EHNScttfKueXibTpASCq2IejROCtEkT/view?usp=sharing\"\n",
        ")\n",
        "\n",
        "MOVIE_LENS_PATH = get_path(\n",
        "    \"https://drive.google.com/file/d/1Y05axxM4pilu70OdPoxJOdu0AwyetZ1v/view?usp=sharing\"\n",
        ")\n",
        "\n",
        "# Load Data already preprocessed\n",
        "IMBD_MERGE_PATH = get_path(\n",
        "    \"https://drive.google.com/file/d/1NgId8mT7LZZVDVNH0qCz7xd9ft2wyZUI/view?usp=sharing\"\n",
        ")\n",
        "\n",
        "DATA_CLEAN_PATH = get_path(\n",
        "    \"https://drive.google.com/file/d/1hBC1rdYr0nYfeycCAp6E_fisvYqZkO88/view?usp=sharing\"\n",
        ")"
      ]
    },
    {
      "cell_type": "markdown",
      "metadata": {},
      "source": [
        "<a name=\"1\"></a>\n",
        "## **PART 1: Data Exploration and Preparation**\n",
        "---"
      ]
    },
    {
      "cell_type": "markdown",
      "metadata": {},
      "source": [
        "In this section, we will proceed with data preparation for our project. To accomplish this, we will utilize three datasets:\n",
        "\n",
        "1. **Movie Metadata Dataset:** This dataset contains information about 81,741 films. It was extracted from the Freebase database dated November 4, 2012. It spans a period from the year 1915 to 2012, encompassing a wide range of historical films. Among the available information, we will specifically focus on elements such as the country of origin, box office revenue, and release date of each film.\n",
        "\n",
        "2. **Character Metadata Dataset:** This dataset is aligned with the movie metadata dataset and includes character names for each movie as well as information regarding the actors playing them, such as age, gender, name, etc. \n",
        "\n",
        "3. **IMDb Dataset:** IMDb is a popular online database dedicated to movies, TV shows, and celebrities. IMDb provides various datasets for research purposes, including information about movies, TV series, and their associated data. We will use this dataset to extract user ratings for films.\n",
        "\n",
        "4. **Award Dataset:** Derived from the \"Academy Awards Dataset,\" this dataset contains information about films selected for the Oscars from the very first Oscars ceremony to the present day.\n",
        "\n",
        "4. **MovieLens Dataset:** This MovieLens dataset is a widely used dataset in the field of recommender systems, containing millions of movie ratings and tag assignments collected from the MovieLens website. It offers detailed information about movies, users, and their interactions, making it an essential resource for research and development in personalized recommendation algorithms. We will use it due to its extensive collection of movie ratings, which provides valuable insights for analyzing viewer preferences and movie popularity trends (The notebook additional_dataset.ipynb contains both the code and the explanations detailing how we preprocessed this dataset to construct our own tailored additional dataset).\n",
        "\n",
        "Once we have loaded these various datasets, we will proceed with a data preprocessing phase to make them suitable for our analysis."
      ]
    },
    {
      "cell_type": "markdown",
      "metadata": {},
      "source": [
        "### **1.1 Load the Data and Visual Inspection**"
      ]
    },
    {
      "cell_type": "markdown",
      "metadata": {},
      "source": [
        "### Movie Metadata "
      ]
    },
    {
      "cell_type": "code",
      "execution_count": null,
      "metadata": {},
      "outputs": [],
      "source": [
        "column_names = [\n",
        "    \"Wikipedia movie ID\",\n",
        "    \"Freebase movie ID\",\n",
        "    \"Movie name\",\n",
        "    \"Movie release date\",\n",
        "    \"Movie box office revenue\",\n",
        "    \"Movie runtime\",\n",
        "    \"Movie languages\",\n",
        "    \"Movie countries\",\n",
        "    \"Movie genres\"\n",
        "]\n",
        "df_movie = pd.read_csv(MOVIE_DATASET, sep='\\t', header=None, names=column_names)"
      ]
    },
    {
      "cell_type": "markdown",
      "metadata": {},
      "source": [
        "### Character Metadata "
      ]
    },
    {
      "cell_type": "code",
      "execution_count": null,
      "metadata": {},
      "outputs": [],
      "source": [
        "column_names = [\n",
        "    \"Wikipedia movie ID\",\n",
        "    \"Freebase movie ID\",\n",
        "    \"Movie release date\",\n",
        "    \"Character name\",\n",
        "    \"Actor date of birth\",\n",
        "    \"Actor gender\",\n",
        "    \"Actor height (in meters)\",\n",
        "    \"Actor ethnicity (Freebase ID)\",\n",
        "    \"Actor name\",\n",
        "    \"Actor age at movie release\",\n",
        "    \"Freebase character/actor map ID\",\n",
        "    \"Freebase character ID\",\n",
        "    \"Freebase actor ID\",\n",
        "]\n",
        "df_character = pd.read_csv(CHARACTER_DATASET, sep='\\t', header=None, names=column_names)\n",
        "df_character.head(1)"
      ]
    },
    {
      "cell_type": "markdown",
      "metadata": {},
      "source": [
        "### IMBd Dataset"
      ]
    },
    {
      "cell_type": "code",
      "execution_count": null,
      "metadata": {},
      "outputs": [],
      "source": [
        "column_names = [\n",
        "    \"titleId\",\n",
        "    \"ordering\",\n",
        "    \"title\",\n",
        "    \"region\",\n",
        "    \"language\",\n",
        "    \"types\",\n",
        "    \"attributes\",\n",
        "    \"isOriginalTitle\"\n",
        "]\n",
        "df_imbd = pd.read_csv(IMDB_DATASET, sep='\\t', header=None, names=column_names)\n",
        "df_imbd.drop(0, inplace=True)\n",
        "df_imbd.head(1)"
      ]
    },
    {
      "cell_type": "code",
      "execution_count": null,
      "metadata": {},
      "outputs": [],
      "source": [
        "column_names = [\n",
        "    \"titleId\",\n",
        "    \"averageRating\",\n",
        "    \"numVotes\"\n",
        "]\n",
        "df_rating = pd.read_csv(IMDB_RATING_DATASET, sep='\\t', header=None, names=column_names, low_memory=False)\n",
        "df_rating.drop(0, axis = 0, inplace = True)\n",
        "df_rating.head(1)"
      ]
    },
    {
      "cell_type": "code",
      "execution_count": 8,
      "metadata": {},
      "outputs": [],
      "source": [
        "# Merge the two DataFrames based on the 'titleId' column, using an inner join.\n",
        "df_imbd_ = pd.merge(df_rating, df_imbd, left_on='titleId', right_on='titleId', how='inner')\n",
        "\n",
        "# Drop unnecessary columns from the result DataFrame.\n",
        "df_imbd_.drop(['titleId', 'ordering', 'region', 'language', 'types', 'attributes', 'isOriginalTitle'], axis=1, inplace=True)\n",
        "\n",
        "# Remove duplicate rows in the DataFrame.\n",
        "df_imbd_.drop_duplicates(inplace=True)\n",
        "\n",
        "# Define the path where the merged DataFrame will be saved as a CSV file.\n",
        "save_path = DATA_SAVE_FOLDER + \"df_rating.csv\"\n",
        "\n",
        "# Save the cleaned and merged DataFrame to a CSV file, without including the index and handling encoding errors.\n",
        "df_imbd_.to_csv(save_path, index=False, encoding='utf-8', errors='ignore')"
      ]
    },
    {
      "cell_type": "code",
      "execution_count": 9,
      "metadata": {},
      "outputs": [
        {
          "data": {
            "text/html": [
              "<div>\n",
              "<style scoped>\n",
              "    .dataframe tbody tr th:only-of-type {\n",
              "        vertical-align: middle;\n",
              "    }\n",
              "\n",
              "    .dataframe tbody tr th {\n",
              "        vertical-align: top;\n",
              "    }\n",
              "\n",
              "    .dataframe thead th {\n",
              "        text-align: right;\n",
              "    }\n",
              "</style>\n",
              "<table border=\"1\" class=\"dataframe\">\n",
              "  <thead>\n",
              "    <tr style=\"text-align: right;\">\n",
              "      <th></th>\n",
              "      <th>averageRating</th>\n",
              "      <th>numVotes</th>\n",
              "      <th>title</th>\n",
              "    </tr>\n",
              "  </thead>\n",
              "  <tbody>\n",
              "    <tr>\n",
              "      <th>0</th>\n",
              "      <td>5.7</td>\n",
              "      <td>2007</td>\n",
              "      <td>Карменсіта</td>\n",
              "    </tr>\n",
              "  </tbody>\n",
              "</table>\n",
              "</div>"
            ],
            "text/plain": [
              "  averageRating numVotes       title\n",
              "0           5.7     2007  Карменсіта"
            ]
          },
          "execution_count": 9,
          "metadata": {},
          "output_type": "execute_result"
        }
      ],
      "source": [
        "df_imbd_.head(1)"
      ]
    },
    {
      "cell_type": "markdown",
      "metadata": {},
      "source": [
        "### Award Dataset "
      ]
    },
    {
      "cell_type": "code",
      "execution_count": 10,
      "metadata": {},
      "outputs": [
        {
          "data": {
            "text/html": [
              "<div>\n",
              "<style scoped>\n",
              "    .dataframe tbody tr th:only-of-type {\n",
              "        vertical-align: middle;\n",
              "    }\n",
              "\n",
              "    .dataframe tbody tr th {\n",
              "        vertical-align: top;\n",
              "    }\n",
              "\n",
              "    .dataframe thead th {\n",
              "        text-align: right;\n",
              "    }\n",
              "</style>\n",
              "<table border=\"1\" class=\"dataframe\">\n",
              "  <thead>\n",
              "    <tr style=\"text-align: right;\">\n",
              "      <th></th>\n",
              "      <th>Movie Year</th>\n",
              "      <th>Ceremony Year</th>\n",
              "      <th>Ceremony</th>\n",
              "      <th>Category</th>\n",
              "      <th>Name</th>\n",
              "      <th>Movie name</th>\n",
              "      <th>Winner</th>\n",
              "    </tr>\n",
              "  </thead>\n",
              "  <tbody>\n",
              "    <tr>\n",
              "      <th>1</th>\n",
              "      <td>1927</td>\n",
              "      <td>1928</td>\n",
              "      <td>1</td>\n",
              "      <td>ACTOR</td>\n",
              "      <td>Richard Barthelmess</td>\n",
              "      <td>The Noose</td>\n",
              "      <td>False</td>\n",
              "    </tr>\n",
              "  </tbody>\n",
              "</table>\n",
              "</div>"
            ],
            "text/plain": [
              "  Movie Year Ceremony Year Ceremony Category                 Name Movie name  \\\n",
              "1       1927          1928        1    ACTOR  Richard Barthelmess  The Noose   \n",
              "\n",
              "  Winner  \n",
              "1  False  "
            ]
          },
          "execution_count": 10,
          "metadata": {},
          "output_type": "execute_result"
        }
      ],
      "source": [
        "column_names = [\n",
        "    \"Movie Year\",\n",
        "    \"Ceremony Year\",\n",
        "    \"Ceremony\", \n",
        "    \"Category\",\n",
        "    \"Name\",\n",
        "    \"Movie name\",\n",
        "    \"Winner\"\n",
        "]\n",
        "df_award = pd.read_csv(OSCAR_DATASET, header=None, names=column_names).drop(0)\n",
        "df_award.head(1)"
      ]
    },
    {
      "cell_type": "markdown",
      "metadata": {},
      "source": [
        "### Movie Lens Dataset"
      ]
    },
    {
      "cell_type": "markdown",
      "metadata": {},
      "source": [
        "As we aim to study the popularity and success of movies, analyzing the reviews provided by viewers offers valuable insights into a movie's popular success. To facilitate this, we will compile a dataset comprising movie reviews.\n",
        "\n",
        "Additionally, in this notebook, we will gather a dataset that includes the exact release dates of movies (including the month). This is because our CMU Movie Summary Corpus dataset typically only provides the year of release."
      ]
    },
    {
      "cell_type": "markdown",
      "metadata": {},
      "source": [
        "##### Rating (reviews) dataset"
      ]
    },
    {
      "cell_type": "markdown",
      "metadata": {},
      "source": [
        "##### MovieLens\n",
        "\n",
        "[This MovieLens dataset](https://files.grouplens.org/datasets/movielens/ml-25m-README.html) is a widely used dataset in the field of recommender systems, containing millions of movie ratings and tag assignments collected from the MovieLens website. It offers detailed information about movies, users, and their interactions, making it an essential resource for research and development in personalized recommendation algorithms."
      ]
    },
    {
      "cell_type": "markdown",
      "metadata": {},
      "source": [
        "##### Sanity Check"
      ]
    },
    {
      "cell_type": "code",
      "execution_count": 11,
      "metadata": {},
      "outputs": [
        {
          "name": "stdout",
          "output_type": "stream",
          "text": [
            "   userId  movieId  rating   timestamp\n",
            "0       1      296     5.0  1147880044\n",
            "1       1      306     3.5  1147868817\n",
            "2       1      307     5.0  1147868828\n",
            "3       1      665     5.0  1147878820\n",
            "4       1      899     3.5  1147868510\n"
          ]
        }
      ],
      "source": [
        "file_path = 'ml-25m/ratings.csv'\n",
        "\n",
        "# Read the CSV file into a DataFrame\n",
        "df = pd.read_csv(file_path)\n",
        "\n",
        "# Display the first few rows of the DataFrame\n",
        "print(df.head())"
      ]
    },
    {
      "cell_type": "code",
      "execution_count": 12,
      "metadata": {},
      "outputs": [
        {
          "name": "stdout",
          "output_type": "stream",
          "text": [
            "Missing Values:\n",
            " userId       0\n",
            "movieId      0\n",
            "rating       0\n",
            "timestamp    0\n",
            "dtype: int64\n",
            "\n",
            "Duplicate Rows: 0\n",
            "\n",
            "Invalid Ratings:\n",
            " Empty DataFrame\n",
            "Columns: [userId, movieId, rating, timestamp]\n",
            "Index: []\n",
            "\n",
            "Invalid User IDs:\n",
            " Empty DataFrame\n",
            "Columns: [userId, movieId, rating, timestamp]\n",
            "Index: []\n",
            "\n",
            "Invalid Movie IDs:\n",
            " Empty DataFrame\n",
            "Columns: [userId, movieId, rating, timestamp]\n",
            "Index: []\n",
            "\n",
            "Descriptive Statistics:\n",
            "              userId       movieId        rating     timestamp\n",
            "count  2.500010e+07  2.500010e+07  2.500010e+07  2.500010e+07\n",
            "mean   8.118928e+04  2.138798e+04  3.533854e+00  1.215601e+09\n",
            "std    4.679172e+04  3.919886e+04  1.060744e+00  2.268758e+08\n",
            "min    1.000000e+00  1.000000e+00  5.000000e-01  7.896520e+08\n",
            "25%    4.051000e+04  1.196000e+03  3.000000e+00  1.011747e+09\n",
            "50%    8.091400e+04  2.947000e+03  3.500000e+00  1.198868e+09\n",
            "75%    1.215570e+05  8.623000e+03  4.000000e+00  1.447205e+09\n",
            "max    1.625410e+05  2.091710e+05  5.000000e+00  1.574328e+09\n"
          ]
        }
      ],
      "source": [
        "# Check for missing values\n",
        "missing_values = df.isnull().sum()\n",
        "\n",
        "# Check for duplicate rows\n",
        "duplicate_rows = df.duplicated().sum()\n",
        "\n",
        "# Check for illogical values\n",
        "# We know that ratings should be on a 0-5 scale\n",
        "invalid_ratings = df[(df['rating'] < 0) | (df['rating'] > 5)]\n",
        "\n",
        "# Assuming userId and movieId should be positive integers\n",
        "invalid_userId = df[df['userId'] < 1]\n",
        "invalid_movieId = df[df['movieId'] < 1]\n",
        "\n",
        "# Basic Descriptive Statistics\n",
        "descriptive_stats = df.describe()\n",
        "\n",
        "# Printing the results\n",
        "print(\"Missing Values:\\n\", missing_values)\n",
        "print(\"\\nDuplicate Rows:\", duplicate_rows)\n",
        "print(\"\\nInvalid Ratings:\\n\", invalid_ratings)\n",
        "print(\"\\nInvalid User IDs:\\n\", invalid_userId)\n",
        "print(\"\\nInvalid Movie IDs:\\n\", invalid_movieId)\n",
        "print(\"\\nDescriptive Statistics:\\n\", descriptive_stats)"
      ]
    },
    {
      "cell_type": "markdown",
      "metadata": {},
      "source": [
        "Missing Values: There are no missing values in any of the columns, which is great as it means we have a complete dataset.\n",
        "\n",
        "Duplicate Rows: There are no duplicate rows in your dataset.\n",
        "\n",
        "Invalid Ratings, User IDs, and Movie IDs: There are no entries that fall outside the expected ranges for ratings, user IDs, or movie IDs.\n",
        "\n",
        "##### Descriptive Statistics:\n",
        "\n",
        "- The count shows that there are 25,000,100 entries in the dataset (a lot of data).\n",
        "\n",
        "- The mean rating is approximately 3.53, indicating a moderately high average rating across all movies.\n",
        "\n",
        "- The std (standard deviation) for ratings is about 1.06, suggesting a reasonable spread of ratings around the mean.\n",
        "\n",
        "- min and max values for ratings are within the expected range (0.5 to 5.0).\n",
        "\n",
        "\n",
        "Overall, the dataset appears to be clean and well-structured, with no apparent issues in terms of missing values, duplicates, or illogical entries. This makes it a solid foundation for our analysis."
      ]
    },
    {
      "cell_type": "markdown",
      "metadata": {},
      "source": [
        "##### Movies' average rating\n",
        "\n",
        "In this section of the notebook, we focus on refining our movie review dataset to ensure higher data quality and enable more accurate analysis. \n",
        "\n",
        "Our first step involves filtering out users who have provided fewer than 10 reviews, as well as movies that have received less than 50 reviews. This is done to concentrate on data that is both reliable and substantial. \n",
        "\n",
        "Next, we normalize the user ratings. This step involves subtracting the average rating of each user from their individual ratings, which helps mitigate individual rating biases. \n",
        "\n",
        "Finally, we calculate the normalized average rating for each movie and adjust this by adding the overall average rating back. This adjustment provides a more balanced and representative view of each movie's reception. \n",
        "\n",
        "This process is crucial for gaining a more accurate and meaningful insight into movie popularity and viewer preferences, forming a solid foundation for our subsequent analysis."
      ]
    },
    {
      "cell_type": "code",
      "execution_count": 13,
      "metadata": {},
      "outputs": [
        {
          "name": "stderr",
          "output_type": "stream",
          "text": [
            "C:\\Users\\Pierre-Hadrien\\AppData\\Local\\Packages\\PythonSoftwareFoundation.Python.3.7_qbz5n2kfra8p0\\LocalCache\\local-packages\\Python37\\site-packages\\ipykernel_launcher.py:15: SettingWithCopyWarning: \n",
            "A value is trying to be set on a copy of a slice from a DataFrame.\n",
            "Try using .loc[row_indexer,col_indexer] = value instead\n",
            "\n",
            "See the caveats in the documentation: https://pandas.pydata.org/pandas-docs/stable/user_guide/indexing.html#returning-a-view-versus-a-copy\n",
            "  from ipykernel import kernelapp as app\n"
          ]
        }
      ],
      "source": [
        "# Filter users with at least 5 reviews\n",
        "user_review_counts = df['userId'].value_counts()\n",
        "users_with_5_reviews = user_review_counts[user_review_counts >= 10].index\n",
        "df_filtered_users = df[df['userId'].isin(users_with_5_reviews)]\n",
        "\n",
        "# Filter movies with at least 10 reviews\n",
        "movie_review_counts = df_filtered_users['movieId'].value_counts()\n",
        "movies_with_10_reviews = movie_review_counts[movie_review_counts >= 50].index\n",
        "df_filtered = df_filtered_users[df_filtered_users['movieId'].isin(movies_with_10_reviews)]\n",
        "\n",
        "# Calculate average rating per user\n",
        "user_avg = df_filtered.groupby('userId')['rating'].mean()\n",
        "\n",
        "# Normalize ratings\n",
        "df_filtered['norm_rating'] = df_filtered.apply(lambda x: x['rating'] - user_avg[x['userId']], axis=1)\n",
        "\n",
        "# Calculate the normalized average rating for each movie\n",
        "movie_norm_avg = df_filtered.groupby('movieId')['norm_rating'].mean()\n",
        "\n",
        "# Optional: Add back the overall average rating\n",
        "overall_avg = df_filtered['rating'].mean()\n",
        "adjusted_movie_rating = movie_norm_avg + overall_avg"
      ]
    },
    {
      "cell_type": "markdown",
      "metadata": {},
      "source": [
        "##### Replacing movie ids by the movie name"
      ]
    },
    {
      "cell_type": "code",
      "execution_count": 14,
      "metadata": {},
      "outputs": [
        {
          "name": "stdout",
          "output_type": "stream",
          "text": [
            "       movieId    rating\n",
            "0            1  3.799459\n",
            "1            2  3.260367\n",
            "2            3  3.179223\n",
            "3            4  2.937154\n",
            "4            5  3.098408\n",
            "...        ...       ...\n",
            "13171   205383  3.643094\n",
            "13172   205425  3.758098\n",
            "13173   206499  3.149143\n",
            "13174   206805  3.280014\n",
            "13175   207830  3.454666\n",
            "\n",
            "[13176 rows x 2 columns]\n"
          ]
        }
      ],
      "source": [
        "# Convert the Series to a DataFrame\n",
        "ratings_df = adjusted_movie_rating.reset_index()\n",
        "\n",
        "# Rename the columns to 'movieId' and 'rating'\n",
        "ratings_df.columns = ['movieId', 'rating']\n",
        "\n",
        "# Print the resulting DataFrame\n",
        "print(ratings_df)"
      ]
    },
    {
      "cell_type": "code",
      "execution_count": 15,
      "metadata": {},
      "outputs": [],
      "source": [
        "file_path = 'ml-25m/movies.csv'\n",
        "\n",
        "# Read the CSV file into a DataFrame\n",
        "names_df = pd.read_csv(file_path)"
      ]
    },
    {
      "cell_type": "code",
      "execution_count": 16,
      "metadata": {},
      "outputs": [
        {
          "data": {
            "text/html": [
              "<div>\n",
              "<style scoped>\n",
              "    .dataframe tbody tr th:only-of-type {\n",
              "        vertical-align: middle;\n",
              "    }\n",
              "\n",
              "    .dataframe tbody tr th {\n",
              "        vertical-align: top;\n",
              "    }\n",
              "\n",
              "    .dataframe thead th {\n",
              "        text-align: right;\n",
              "    }\n",
              "</style>\n",
              "<table border=\"1\" class=\"dataframe\">\n",
              "  <thead>\n",
              "    <tr style=\"text-align: right;\">\n",
              "      <th></th>\n",
              "      <th>movieId</th>\n",
              "      <th>title</th>\n",
              "      <th>genres</th>\n",
              "    </tr>\n",
              "  </thead>\n",
              "  <tbody>\n",
              "    <tr>\n",
              "      <th>0</th>\n",
              "      <td>1</td>\n",
              "      <td>Toy Story (1995)</td>\n",
              "      <td>Adventure|Animation|Children|Comedy|Fantasy</td>\n",
              "    </tr>\n",
              "    <tr>\n",
              "      <th>1</th>\n",
              "      <td>2</td>\n",
              "      <td>Jumanji (1995)</td>\n",
              "      <td>Adventure|Children|Fantasy</td>\n",
              "    </tr>\n",
              "    <tr>\n",
              "      <th>2</th>\n",
              "      <td>3</td>\n",
              "      <td>Grumpier Old Men (1995)</td>\n",
              "      <td>Comedy|Romance</td>\n",
              "    </tr>\n",
              "    <tr>\n",
              "      <th>3</th>\n",
              "      <td>4</td>\n",
              "      <td>Waiting to Exhale (1995)</td>\n",
              "      <td>Comedy|Drama|Romance</td>\n",
              "    </tr>\n",
              "    <tr>\n",
              "      <th>4</th>\n",
              "      <td>5</td>\n",
              "      <td>Father of the Bride Part II (1995)</td>\n",
              "      <td>Comedy</td>\n",
              "    </tr>\n",
              "    <tr>\n",
              "      <th>...</th>\n",
              "      <td>...</td>\n",
              "      <td>...</td>\n",
              "      <td>...</td>\n",
              "    </tr>\n",
              "    <tr>\n",
              "      <th>62418</th>\n",
              "      <td>209157</td>\n",
              "      <td>We (2018)</td>\n",
              "      <td>Drama</td>\n",
              "    </tr>\n",
              "    <tr>\n",
              "      <th>62419</th>\n",
              "      <td>209159</td>\n",
              "      <td>Window of the Soul (2001)</td>\n",
              "      <td>Documentary</td>\n",
              "    </tr>\n",
              "    <tr>\n",
              "      <th>62420</th>\n",
              "      <td>209163</td>\n",
              "      <td>Bad Poems (2018)</td>\n",
              "      <td>Comedy|Drama</td>\n",
              "    </tr>\n",
              "    <tr>\n",
              "      <th>62421</th>\n",
              "      <td>209169</td>\n",
              "      <td>A Girl Thing (2001)</td>\n",
              "      <td>(no genres listed)</td>\n",
              "    </tr>\n",
              "    <tr>\n",
              "      <th>62422</th>\n",
              "      <td>209171</td>\n",
              "      <td>Women of Devil's Island (1962)</td>\n",
              "      <td>Action|Adventure|Drama</td>\n",
              "    </tr>\n",
              "  </tbody>\n",
              "</table>\n",
              "<p>62423 rows × 3 columns</p>\n",
              "</div>"
            ],
            "text/plain": [
              "       movieId                               title  \\\n",
              "0            1                    Toy Story (1995)   \n",
              "1            2                      Jumanji (1995)   \n",
              "2            3             Grumpier Old Men (1995)   \n",
              "3            4            Waiting to Exhale (1995)   \n",
              "4            5  Father of the Bride Part II (1995)   \n",
              "...        ...                                 ...   \n",
              "62418   209157                           We (2018)   \n",
              "62419   209159           Window of the Soul (2001)   \n",
              "62420   209163                    Bad Poems (2018)   \n",
              "62421   209169                 A Girl Thing (2001)   \n",
              "62422   209171      Women of Devil's Island (1962)   \n",
              "\n",
              "                                            genres  \n",
              "0      Adventure|Animation|Children|Comedy|Fantasy  \n",
              "1                       Adventure|Children|Fantasy  \n",
              "2                                   Comedy|Romance  \n",
              "3                             Comedy|Drama|Romance  \n",
              "4                                           Comedy  \n",
              "...                                            ...  \n",
              "62418                                        Drama  \n",
              "62419                                  Documentary  \n",
              "62420                                 Comedy|Drama  \n",
              "62421                           (no genres listed)  \n",
              "62422                       Action|Adventure|Drama  \n",
              "\n",
              "[62423 rows x 3 columns]"
            ]
          },
          "execution_count": 16,
          "metadata": {},
          "output_type": "execute_result"
        }
      ],
      "source": [
        "names_df"
      ]
    },
    {
      "cell_type": "code",
      "execution_count": 17,
      "metadata": {},
      "outputs": [
        {
          "name": "stdout",
          "output_type": "stream",
          "text": [
            "       movieId                                   title    rating\n",
            "0            1                        Toy Story (1995)  3.799459\n",
            "1            2                          Jumanji (1995)  3.260367\n",
            "2            3                 Grumpier Old Men (1995)  3.179223\n",
            "3            4                Waiting to Exhale (1995)  2.937154\n",
            "4            5      Father of the Bride Part II (1995)  3.098408\n",
            "...        ...                                     ...       ...\n",
            "13171   205383  El Camino: A Breaking Bad Movie (2019)  3.643094\n",
            "13172   205425  Dave Chappelle: Sticks & Stones (2019)  3.758098\n",
            "13173   206499     Between Two Ferns: The Movie (2019)  3.149143\n",
            "13174   206805        In the Shadow of the Moon (2019)  3.280014\n",
            "13175   207830            Terminator: Dark Fate (2019)  3.454666\n",
            "\n",
            "[13176 rows x 3 columns]\n"
          ]
        }
      ],
      "source": [
        "# Merge the DataFrames on 'movieId'\n",
        "merged_df = pd.merge(names_df, ratings_df, on='movieId')\n",
        "\n",
        "# Select only the relevant columns\n",
        "final_df = merged_df[['movieId', 'title', 'rating']] \n",
        "\n",
        "# Print the resulting DataFrame\n",
        "print(final_df)"
      ]
    },
    {
      "cell_type": "code",
      "execution_count": 18,
      "metadata": {},
      "outputs": [
        {
          "name": "stderr",
          "output_type": "stream",
          "text": [
            "C:\\Users\\Pierre-Hadrien\\AppData\\Local\\Packages\\PythonSoftwareFoundation.Python.3.7_qbz5n2kfra8p0\\LocalCache\\local-packages\\Python37\\site-packages\\ipykernel_launcher.py:2: SettingWithCopyWarning: \n",
            "A value is trying to be set on a copy of a slice from a DataFrame.\n",
            "Try using .loc[row_indexer,col_indexer] = value instead\n",
            "\n",
            "See the caveats in the documentation: https://pandas.pydata.org/pandas-docs/stable/user_guide/indexing.html#returning-a-view-versus-a-copy\n",
            "  \n"
          ]
        },
        {
          "data": {
            "text/html": [
              "<div>\n",
              "<style scoped>\n",
              "    .dataframe tbody tr th:only-of-type {\n",
              "        vertical-align: middle;\n",
              "    }\n",
              "\n",
              "    .dataframe tbody tr th {\n",
              "        vertical-align: top;\n",
              "    }\n",
              "\n",
              "    .dataframe thead th {\n",
              "        text-align: right;\n",
              "    }\n",
              "</style>\n",
              "<table border=\"1\" class=\"dataframe\">\n",
              "  <thead>\n",
              "    <tr style=\"text-align: right;\">\n",
              "      <th></th>\n",
              "      <th>movieId</th>\n",
              "      <th>title</th>\n",
              "      <th>rating</th>\n",
              "    </tr>\n",
              "  </thead>\n",
              "  <tbody>\n",
              "    <tr>\n",
              "      <th>0</th>\n",
              "      <td>1</td>\n",
              "      <td>Toy Story</td>\n",
              "      <td>3.799459</td>\n",
              "    </tr>\n",
              "    <tr>\n",
              "      <th>1</th>\n",
              "      <td>2</td>\n",
              "      <td>Jumanji</td>\n",
              "      <td>3.260367</td>\n",
              "    </tr>\n",
              "    <tr>\n",
              "      <th>2</th>\n",
              "      <td>3</td>\n",
              "      <td>Grumpier Old Men</td>\n",
              "      <td>3.179223</td>\n",
              "    </tr>\n",
              "    <tr>\n",
              "      <th>3</th>\n",
              "      <td>4</td>\n",
              "      <td>Waiting to Exhale</td>\n",
              "      <td>2.937154</td>\n",
              "    </tr>\n",
              "    <tr>\n",
              "      <th>4</th>\n",
              "      <td>5</td>\n",
              "      <td>Father of the Bride Part II</td>\n",
              "      <td>3.098408</td>\n",
              "    </tr>\n",
              "    <tr>\n",
              "      <th>...</th>\n",
              "      <td>...</td>\n",
              "      <td>...</td>\n",
              "      <td>...</td>\n",
              "    </tr>\n",
              "    <tr>\n",
              "      <th>13171</th>\n",
              "      <td>205383</td>\n",
              "      <td>El Camino: A Breaking Bad Movie</td>\n",
              "      <td>3.643094</td>\n",
              "    </tr>\n",
              "    <tr>\n",
              "      <th>13172</th>\n",
              "      <td>205425</td>\n",
              "      <td>Dave Chappelle: Sticks &amp; Stones</td>\n",
              "      <td>3.758098</td>\n",
              "    </tr>\n",
              "    <tr>\n",
              "      <th>13173</th>\n",
              "      <td>206499</td>\n",
              "      <td>Between Two Ferns: The Movie</td>\n",
              "      <td>3.149143</td>\n",
              "    </tr>\n",
              "    <tr>\n",
              "      <th>13174</th>\n",
              "      <td>206805</td>\n",
              "      <td>In the Shadow of the Moon</td>\n",
              "      <td>3.280014</td>\n",
              "    </tr>\n",
              "    <tr>\n",
              "      <th>13175</th>\n",
              "      <td>207830</td>\n",
              "      <td>Terminator: Dark Fate</td>\n",
              "      <td>3.454666</td>\n",
              "    </tr>\n",
              "  </tbody>\n",
              "</table>\n",
              "<p>13176 rows × 3 columns</p>\n",
              "</div>"
            ],
            "text/plain": [
              "       movieId                            title    rating\n",
              "0            1                        Toy Story  3.799459\n",
              "1            2                          Jumanji  3.260367\n",
              "2            3                 Grumpier Old Men  3.179223\n",
              "3            4                Waiting to Exhale  2.937154\n",
              "4            5      Father of the Bride Part II  3.098408\n",
              "...        ...                              ...       ...\n",
              "13171   205383  El Camino: A Breaking Bad Movie  3.643094\n",
              "13172   205425  Dave Chappelle: Sticks & Stones  3.758098\n",
              "13173   206499     Between Two Ferns: The Movie  3.149143\n",
              "13174   206805        In the Shadow of the Moon  3.280014\n",
              "13175   207830            Terminator: Dark Fate  3.454666\n",
              "\n",
              "[13176 rows x 3 columns]"
            ]
          },
          "execution_count": 18,
          "metadata": {},
          "output_type": "execute_result"
        }
      ],
      "source": [
        "# Remove the year from the 'title' column\n",
        "final_df['title'] = final_df['title'].str.replace(r\" \\(\\d{4}\\)\", \"\", regex=True)\n",
        "\n",
        "final_df"
      ]
    },
    {
      "cell_type": "code",
      "execution_count": 19,
      "metadata": {},
      "outputs": [
        {
          "data": {
            "text/plain": [
              "'Toy Story'"
            ]
          },
          "execution_count": 19,
          "metadata": {},
          "output_type": "execute_result"
        }
      ],
      "source": [
        "final_df[\"title\"][0]"
      ]
    },
    {
      "cell_type": "markdown",
      "metadata": {},
      "source": [
        "### Movies exact dates of realease"
      ]
    },
    {
      "cell_type": "markdown",
      "metadata": {},
      "source": [
        "Our analysis heavily relies on the exact release dates of movies. However, 50% of our dataset only includes the year of release, not the month. Therefore, we will endeavor to extract as many exact release dates as possible from [this Kaggle dataset](https://www.kaggle.com/datasets/rounakbanik/the-movies-dataset/data). \n",
        "\n",
        "Additionally, this dataset contains IMDb votes and ratings, which could also prove useful for our analysis."
      ]
    },
    {
      "cell_type": "code",
      "execution_count": 20,
      "metadata": {},
      "outputs": [],
      "source": [
        "movies = pd.read_csv(\"archive/movies_metadata.csv\",\n",
        "                    usecols=[\"id\",\"title\",\"vote_average\",\"vote_count\",\"release_date\"])"
      ]
    },
    {
      "cell_type": "code",
      "execution_count": 21,
      "metadata": {},
      "outputs": [
        {
          "data": {
            "text/html": [
              "<div>\n",
              "<style scoped>\n",
              "    .dataframe tbody tr th:only-of-type {\n",
              "        vertical-align: middle;\n",
              "    }\n",
              "\n",
              "    .dataframe tbody tr th {\n",
              "        vertical-align: top;\n",
              "    }\n",
              "\n",
              "    .dataframe thead th {\n",
              "        text-align: right;\n",
              "    }\n",
              "</style>\n",
              "<table border=\"1\" class=\"dataframe\">\n",
              "  <thead>\n",
              "    <tr style=\"text-align: right;\">\n",
              "      <th></th>\n",
              "      <th>id</th>\n",
              "      <th>release_date</th>\n",
              "      <th>title</th>\n",
              "      <th>vote_average</th>\n",
              "      <th>vote_count</th>\n",
              "    </tr>\n",
              "  </thead>\n",
              "  <tbody>\n",
              "    <tr>\n",
              "      <th>0</th>\n",
              "      <td>862</td>\n",
              "      <td>1995-10-30</td>\n",
              "      <td>Toy Story</td>\n",
              "      <td>7.7</td>\n",
              "      <td>5415.0</td>\n",
              "    </tr>\n",
              "    <tr>\n",
              "      <th>1</th>\n",
              "      <td>8844</td>\n",
              "      <td>1995-12-15</td>\n",
              "      <td>Jumanji</td>\n",
              "      <td>6.9</td>\n",
              "      <td>2413.0</td>\n",
              "    </tr>\n",
              "    <tr>\n",
              "      <th>2</th>\n",
              "      <td>15602</td>\n",
              "      <td>1995-12-22</td>\n",
              "      <td>Grumpier Old Men</td>\n",
              "      <td>6.5</td>\n",
              "      <td>92.0</td>\n",
              "    </tr>\n",
              "    <tr>\n",
              "      <th>3</th>\n",
              "      <td>31357</td>\n",
              "      <td>1995-12-22</td>\n",
              "      <td>Waiting to Exhale</td>\n",
              "      <td>6.1</td>\n",
              "      <td>34.0</td>\n",
              "    </tr>\n",
              "    <tr>\n",
              "      <th>4</th>\n",
              "      <td>11862</td>\n",
              "      <td>1995-02-10</td>\n",
              "      <td>Father of the Bride Part II</td>\n",
              "      <td>5.7</td>\n",
              "      <td>173.0</td>\n",
              "    </tr>\n",
              "    <tr>\n",
              "      <th>...</th>\n",
              "      <td>...</td>\n",
              "      <td>...</td>\n",
              "      <td>...</td>\n",
              "      <td>...</td>\n",
              "      <td>...</td>\n",
              "    </tr>\n",
              "    <tr>\n",
              "      <th>45461</th>\n",
              "      <td>439050</td>\n",
              "      <td>NaN</td>\n",
              "      <td>Subdue</td>\n",
              "      <td>4.0</td>\n",
              "      <td>1.0</td>\n",
              "    </tr>\n",
              "    <tr>\n",
              "      <th>45462</th>\n",
              "      <td>111109</td>\n",
              "      <td>2011-11-17</td>\n",
              "      <td>Century of Birthing</td>\n",
              "      <td>9.0</td>\n",
              "      <td>3.0</td>\n",
              "    </tr>\n",
              "    <tr>\n",
              "      <th>45463</th>\n",
              "      <td>67758</td>\n",
              "      <td>2003-08-01</td>\n",
              "      <td>Betrayal</td>\n",
              "      <td>3.8</td>\n",
              "      <td>6.0</td>\n",
              "    </tr>\n",
              "    <tr>\n",
              "      <th>45464</th>\n",
              "      <td>227506</td>\n",
              "      <td>1917-10-21</td>\n",
              "      <td>Satan Triumphant</td>\n",
              "      <td>0.0</td>\n",
              "      <td>0.0</td>\n",
              "    </tr>\n",
              "    <tr>\n",
              "      <th>45465</th>\n",
              "      <td>461257</td>\n",
              "      <td>2017-06-09</td>\n",
              "      <td>Queerama</td>\n",
              "      <td>0.0</td>\n",
              "      <td>0.0</td>\n",
              "    </tr>\n",
              "  </tbody>\n",
              "</table>\n",
              "<p>45466 rows × 5 columns</p>\n",
              "</div>"
            ],
            "text/plain": [
              "           id release_date                        title  vote_average  \\\n",
              "0         862   1995-10-30                    Toy Story           7.7   \n",
              "1        8844   1995-12-15                      Jumanji           6.9   \n",
              "2       15602   1995-12-22             Grumpier Old Men           6.5   \n",
              "3       31357   1995-12-22            Waiting to Exhale           6.1   \n",
              "4       11862   1995-02-10  Father of the Bride Part II           5.7   \n",
              "...       ...          ...                          ...           ...   \n",
              "45461  439050          NaN                       Subdue           4.0   \n",
              "45462  111109   2011-11-17          Century of Birthing           9.0   \n",
              "45463   67758   2003-08-01                     Betrayal           3.8   \n",
              "45464  227506   1917-10-21             Satan Triumphant           0.0   \n",
              "45465  461257   2017-06-09                     Queerama           0.0   \n",
              "\n",
              "       vote_count  \n",
              "0          5415.0  \n",
              "1          2413.0  \n",
              "2            92.0  \n",
              "3            34.0  \n",
              "4           173.0  \n",
              "...           ...  \n",
              "45461         1.0  \n",
              "45462         3.0  \n",
              "45463         6.0  \n",
              "45464         0.0  \n",
              "45465         0.0  \n",
              "\n",
              "[45466 rows x 5 columns]"
            ]
          },
          "execution_count": 21,
          "metadata": {},
          "output_type": "execute_result"
        }
      ],
      "source": [
        "movies"
      ]
    },
    {
      "cell_type": "code",
      "execution_count": 22,
      "metadata": {},
      "outputs": [
        {
          "name": "stdout",
          "output_type": "stream",
          "text": [
            "0    1995-10-30\n",
            "1    1995-12-15\n",
            "2    1995-12-22\n",
            "3    1995-12-22\n",
            "4    1995-02-10\n",
            "Name: release_date, dtype: object\n",
            "object\n",
            "87\n",
            "[10. nan  1.  2.]\n"
          ]
        }
      ],
      "source": [
        "# Display the first few rows of the release_date column\n",
        "print(movies['release_date'].head())\n",
        "\n",
        "# Check the data type of the release_date column\n",
        "print(movies['release_date'].dtype)\n",
        "\n",
        "# Count the number of missing or NaN values in the release_date column\n",
        "print(movies['release_date'].isna().sum())\n",
        "\n",
        "# Check the length of the date strings\n",
        "print(movies['release_date'].str.len().unique())"
      ]
    },
    {
      "cell_type": "code",
      "execution_count": 23,
      "metadata": {},
      "outputs": [],
      "source": [
        "# Filtering out rows where the release_date is NaN or its length is less than 7\n",
        "filtered_movies = movies[movies['release_date'].notna()]\n",
        "filtered_movies = filtered_movies[filtered_movies['release_date'].str.len() >= 7]"
      ]
    },
    {
      "cell_type": "code",
      "execution_count": 24,
      "metadata": {},
      "outputs": [
        {
          "name": "stdout",
          "output_type": "stream",
          "text": [
            "Duplicate IDs: 30\n",
            "Duplicate Titles: 3180\n",
            "\n",
            "Data Types:\n",
            "id               object\n",
            "release_date     object\n",
            "title            object\n",
            "vote_average    float64\n",
            "vote_count      float64\n",
            "dtype: object\n",
            "\n",
            "Invalid Release Dates: 0\n",
            "Invalid Vote Averages: 0\n",
            "Invalid Vote Counts: 0\n"
          ]
        }
      ],
      "source": [
        "# Check for duplicate rows based on 'id' and 'title'\n",
        "duplicate_ids = filtered_movies['id'].duplicated().sum()\n",
        "duplicate_titles = filtered_movies['title'].duplicated().sum()\n",
        "\n",
        "# Check data types\n",
        "data_types = filtered_movies.dtypes\n",
        "\n",
        "# Inspect release dates\n",
        "# Assuming release_date is in string format, you might convert it to datetime if needed\n",
        "invalid_release_dates = filtered_movies[~filtered_movies['release_date'].str.match(r'\\d{4}-\\d{2}-\\d{2}')].shape[0]\n",
        "\n",
        "# Validate vote average and count\n",
        "invalid_vote_average = filtered_movies[(filtered_movies['vote_average'] < 0) | (filtered_movies['vote_average'] > 10)].shape[0]\n",
        "invalid_vote_count = filtered_movies[filtered_movies['vote_count'] < 0].shape[0]\n",
        "\n",
        "# Print results\n",
        "print(f\"Duplicate IDs: {duplicate_ids}\")\n",
        "print(f\"Duplicate Titles: {duplicate_titles}\")\n",
        "print(f\"\\nData Types:\\n{data_types}\")\n",
        "print(f\"\\nInvalid Release Dates: {invalid_release_dates}\")\n",
        "print(f\"Invalid Vote Averages: {invalid_vote_average}\")\n",
        "print(f\"Invalid Vote Counts: {invalid_vote_count}\")\n"
      ]
    },
    {
      "cell_type": "code",
      "execution_count": 25,
      "metadata": {},
      "outputs": [
        {
          "name": "stdout",
          "output_type": "stream",
          "text": [
            "Duplicate IDs after filtering: 0\n",
            "Duplicate Titles after filtering: 3150\n",
            "\n",
            "Data Types after filtering:\n",
            "id               object\n",
            "release_date     object\n",
            "title            object\n",
            "vote_average    float64\n",
            "vote_count      float64\n",
            "dtype: object\n"
          ]
        }
      ],
      "source": [
        "# Remove duplicate rows based on 'id'\n",
        "filtered_movies = filtered_movies.drop_duplicates(subset='id')\n",
        "\n",
        "# Re-check for duplicates and data types after filtering\n",
        "duplicate_ids_after = filtered_movies['id'].duplicated().sum()\n",
        "duplicate_titles_after = filtered_movies['title'].duplicated().sum()\n",
        "data_types_after = filtered_movies.dtypes\n",
        "\n",
        "# Print results after filtering\n",
        "print(f\"Duplicate IDs after filtering: {duplicate_ids_after}\")\n",
        "print(f\"Duplicate Titles after filtering: {duplicate_titles_after}\")\n",
        "print(f\"\\nData Types after filtering:\\n{data_types_after}\")\n"
      ]
    },
    {
      "cell_type": "markdown",
      "metadata": {},
      "source": [
        "The presence of duplicate titles with different IDs in our filtered_movies DataFrame indicates that there might be different versions or releases of the same movie, or it could be a data entry error. To further refine the data, we can check if these duplicates have the same release date. If they do, it's more likely that they are indeed duplicates and should be removed. However, if the release dates differ, they might be different versions or movies with the same title released in different years."
      ]
    },
    {
      "cell_type": "code",
      "execution_count": 26,
      "metadata": {},
      "outputs": [
        {
          "name": "stdout",
          "output_type": "stream",
          "text": [
            "Duplicates with Different Release Dates:\n",
            "           id release_date                  title  vote_average  vote_count\n",
            "5         949   1995-12-15                   Heat           7.7      1886.0\n",
            "6       11860   1995-12-15                Sabrina           6.2       141.0\n",
            "16       4584   1995-12-13  Sense and Sensibility           7.2       364.0\n",
            "25      16420   1995-12-15                Othello           7.0        33.0\n",
            "27      17015   1995-09-27             Persuasion           7.4        36.0\n",
            "...       ...          ...                    ...           ...         ...\n",
            "45421   52103   1997-01-01             Pickpocket           7.2        13.0\n",
            "45453  404604   2017-07-07                    Mom           6.6        14.0\n",
            "45454  420346   2015-01-11      The Morning After           4.0         2.0\n",
            "45460   30840   1991-05-13             Robin Hood           5.7        26.0\n",
            "45463   67758   2003-08-01               Betrayal           3.8         6.0\n",
            "\n",
            "[5454 rows x 5 columns]\n",
            "\n",
            "Final Duplicate Titles: 3150\n"
          ]
        }
      ],
      "source": [
        "# Group by title and check if there are multiple unique release dates for the same title\n",
        "duplicates_with_different_dates = filtered_movies.groupby('title').filter(lambda x: len(x['release_date'].unique()) > 1)\n",
        "\n",
        "# Display these duplicates\n",
        "print(\"Duplicates with Different Release Dates:\")\n",
        "print(duplicates_with_different_dates)\n",
        "\n",
        "# We keep the entry with the highest vote_count for each title:\n",
        "cleaned_movies = duplicates_with_different_dates.sort_values(by=['title', 'vote_count'], ascending=[True, False])\n",
        "#cleaned_movies = cleaned_movies.drop_duplicates(subset='title', keep='first')\n",
        "\n",
        "# Final check for duplicates\n",
        "final_duplicate_titles = cleaned_movies['title'].duplicated().sum()\n",
        "print(f\"\\nFinal Duplicate Titles: {final_duplicate_titles}\")"
      ]
    },
    {
      "cell_type": "code",
      "execution_count": 27,
      "metadata": {},
      "outputs": [
        {
          "name": "stdout",
          "output_type": "stream",
          "text": [
            "Final Duplicate Titles: 3150\n"
          ]
        }
      ],
      "source": [
        "# Group by 'title' and 'release_date', then sort by 'vote_count' within each group\n",
        "filtered_movies_sorted = filtered_movies.sort_values(by=['title', 'release_date', 'vote_count'], ascending=[True, True, False])\n",
        "\n",
        "# Drop duplicates, keeping the first entry in each group (the one with the highest vote count)\n",
        "cleaned_movies = filtered_movies_sorted.drop_duplicates(subset=['title', 'release_date'], keep='first')\n",
        "\n",
        "# Final check for duplicates\n",
        "final_duplicate_titles = cleaned_movies['title'].duplicated().sum()\n",
        "print(f\"Final Duplicate Titles: {final_duplicate_titles}\")"
      ]
    },
    {
      "cell_type": "code",
      "execution_count": 28,
      "metadata": {},
      "outputs": [
        {
          "data": {
            "text/html": [
              "<div>\n",
              "<style scoped>\n",
              "    .dataframe tbody tr th:only-of-type {\n",
              "        vertical-align: middle;\n",
              "    }\n",
              "\n",
              "    .dataframe tbody tr th {\n",
              "        vertical-align: top;\n",
              "    }\n",
              "\n",
              "    .dataframe thead th {\n",
              "        text-align: right;\n",
              "    }\n",
              "</style>\n",
              "<table border=\"1\" class=\"dataframe\">\n",
              "  <thead>\n",
              "    <tr style=\"text-align: right;\">\n",
              "      <th></th>\n",
              "      <th>id</th>\n",
              "      <th>release_date</th>\n",
              "      <th>title</th>\n",
              "      <th>vote_average</th>\n",
              "      <th>vote_count</th>\n",
              "    </tr>\n",
              "  </thead>\n",
              "  <tbody>\n",
              "    <tr>\n",
              "      <th>18757</th>\n",
              "      <td>55245</td>\n",
              "      <td>2010-01-01</td>\n",
              "      <td>!Women Art Revolution</td>\n",
              "      <td>4.3</td>\n",
              "      <td>2.0</td>\n",
              "    </tr>\n",
              "    <tr>\n",
              "      <th>30961</th>\n",
              "      <td>41371</td>\n",
              "      <td>2010-07-27</td>\n",
              "      <td>#1 Cheerleader Camp</td>\n",
              "      <td>3.4</td>\n",
              "      <td>23.0</td>\n",
              "    </tr>\n",
              "    <tr>\n",
              "      <th>36153</th>\n",
              "      <td>301325</td>\n",
              "      <td>2015-11-20</td>\n",
              "      <td>#Horror</td>\n",
              "      <td>3.4</td>\n",
              "      <td>53.0</td>\n",
              "    </tr>\n",
              "    <tr>\n",
              "      <th>23501</th>\n",
              "      <td>267752</td>\n",
              "      <td>2013-11-21</td>\n",
              "      <td>#chicagoGirl</td>\n",
              "      <td>7.0</td>\n",
              "      <td>1.0</td>\n",
              "    </tr>\n",
              "    <tr>\n",
              "      <th>28042</th>\n",
              "      <td>143747</td>\n",
              "      <td>1966-12-18</td>\n",
              "      <td>$1,000 on the Black</td>\n",
              "      <td>6.0</td>\n",
              "      <td>2.0</td>\n",
              "    </tr>\n",
              "    <tr>\n",
              "      <th>...</th>\n",
              "      <td>...</td>\n",
              "      <td>...</td>\n",
              "      <td>...</td>\n",
              "      <td>...</td>\n",
              "      <td>...</td>\n",
              "    </tr>\n",
              "    <tr>\n",
              "      <th>22346</th>\n",
              "      <td>388182</td>\n",
              "      <td>2013-08-07</td>\n",
              "      <td>هیچ کجا هیچ کس</td>\n",
              "      <td>10.0</td>\n",
              "      <td>1.0</td>\n",
              "    </tr>\n",
              "    <tr>\n",
              "      <th>38463</th>\n",
              "      <td>120249</td>\n",
              "      <td>1974-11-05</td>\n",
              "      <td>‘Rameau’s Nephew’ by Diderot (Thanx to Dennis ...</td>\n",
              "      <td>10.0</td>\n",
              "      <td>1.0</td>\n",
              "    </tr>\n",
              "    <tr>\n",
              "      <th>8882</th>\n",
              "      <td>14670</td>\n",
              "      <td>1986-09-23</td>\n",
              "      <td>’Round Midnight</td>\n",
              "      <td>6.7</td>\n",
              "      <td>20.0</td>\n",
              "    </tr>\n",
              "    <tr>\n",
              "      <th>39033</th>\n",
              "      <td>109380</td>\n",
              "      <td>1965-02-12</td>\n",
              "      <td>…And the Fifth Horseman Is Fear</td>\n",
              "      <td>8.0</td>\n",
              "      <td>4.0</td>\n",
              "    </tr>\n",
              "    <tr>\n",
              "      <th>41473</th>\n",
              "      <td>252874</td>\n",
              "      <td>2005-02-10</td>\n",
              "      <td>ファンタスティポ</td>\n",
              "      <td>0.0</td>\n",
              "      <td>0.0</td>\n",
              "    </tr>\n",
              "  </tbody>\n",
              "</table>\n",
              "<p>45346 rows × 5 columns</p>\n",
              "</div>"
            ],
            "text/plain": [
              "           id release_date                                              title  \\\n",
              "18757   55245   2010-01-01                              !Women Art Revolution   \n",
              "30961   41371   2010-07-27                                #1 Cheerleader Camp   \n",
              "36153  301325   2015-11-20                                            #Horror   \n",
              "23501  267752   2013-11-21                                       #chicagoGirl   \n",
              "28042  143747   1966-12-18                                $1,000 on the Black   \n",
              "...       ...          ...                                                ...   \n",
              "22346  388182   2013-08-07                                     هیچ کجا هیچ کس   \n",
              "38463  120249   1974-11-05  ‘Rameau’s Nephew’ by Diderot (Thanx to Dennis ...   \n",
              "8882    14670   1986-09-23                                    ’Round Midnight   \n",
              "39033  109380   1965-02-12                    …And the Fifth Horseman Is Fear   \n",
              "41473  252874   2005-02-10                                           ファンタスティポ   \n",
              "\n",
              "       vote_average  vote_count  \n",
              "18757           4.3         2.0  \n",
              "30961           3.4        23.0  \n",
              "36153           3.4        53.0  \n",
              "23501           7.0         1.0  \n",
              "28042           6.0         2.0  \n",
              "...             ...         ...  \n",
              "22346          10.0         1.0  \n",
              "38463          10.0         1.0  \n",
              "8882            6.7        20.0  \n",
              "39033           8.0         4.0  \n",
              "41473           0.0         0.0  \n",
              "\n",
              "[45346 rows x 5 columns]"
            ]
          },
          "execution_count": 28,
          "metadata": {},
          "output_type": "execute_result"
        }
      ],
      "source": [
        "cleaned_movies"
      ]
    },
    {
      "cell_type": "markdown",
      "metadata": {},
      "source": [
        "#### Merge all : movie title + movie date of release + ratings\n",
        "In this section of the notebook, we perform a critical step of merging the movie titles, their respective dates of release, and the ratings. This consolidation allows us to form a comprehensive dataset that we will be using moving forward."
      ]
    },
    {
      "cell_type": "code",
      "execution_count": 29,
      "metadata": {},
      "outputs": [
        {
          "name": "stdout",
          "output_type": "stream",
          "text": [
            "Number of Common Titles: 8123\n"
          ]
        }
      ],
      "source": [
        "# Find common titles\n",
        "common_titles = cleaned_movies[cleaned_movies['title'].isin(final_df['title'])]\n",
        "\n",
        "# Count the number of common titles\n",
        "num_common_titles = common_titles['title'].nunique()\n",
        "\n",
        "# Print the number of common titles\n",
        "print(f\"Number of Common Titles: {num_common_titles}\")"
      ]
    },
    {
      "cell_type": "code",
      "execution_count": 30,
      "metadata": {},
      "outputs": [],
      "source": [
        "# Merge the DataFrames on the 'title' column\n",
        "# 'how' parameter is set to 'left' to keep all records from metadata_df and only add ratings where available\n",
        "combined_df = pd.merge(cleaned_movies, final_df[['title', 'rating']], on='title', how='left')"
      ]
    },
    {
      "cell_type": "code",
      "execution_count": 31,
      "metadata": {},
      "outputs": [
        {
          "data": {
            "text/html": [
              "<div>\n",
              "<style scoped>\n",
              "    .dataframe tbody tr th:only-of-type {\n",
              "        vertical-align: middle;\n",
              "    }\n",
              "\n",
              "    .dataframe tbody tr th {\n",
              "        vertical-align: top;\n",
              "    }\n",
              "\n",
              "    .dataframe thead th {\n",
              "        text-align: right;\n",
              "    }\n",
              "</style>\n",
              "<table border=\"1\" class=\"dataframe\">\n",
              "  <thead>\n",
              "    <tr style=\"text-align: right;\">\n",
              "      <th></th>\n",
              "      <th>id</th>\n",
              "      <th>release_date</th>\n",
              "      <th>title</th>\n",
              "      <th>vote_average</th>\n",
              "      <th>vote_count</th>\n",
              "      <th>rating</th>\n",
              "    </tr>\n",
              "  </thead>\n",
              "  <tbody>\n",
              "    <tr>\n",
              "      <th>42721</th>\n",
              "      <td>862</td>\n",
              "      <td>1995-10-30</td>\n",
              "      <td>Toy Story</td>\n",
              "      <td>7.7</td>\n",
              "      <td>5415.0</td>\n",
              "      <td>3.799459</td>\n",
              "    </tr>\n",
              "  </tbody>\n",
              "</table>\n",
              "</div>"
            ],
            "text/plain": [
              "        id release_date      title  vote_average  vote_count    rating\n",
              "42721  862   1995-10-30  Toy Story           7.7      5415.0  3.799459"
            ]
          },
          "execution_count": 31,
          "metadata": {},
          "output_type": "execute_result"
        }
      ],
      "source": [
        "combined_df[combined_df['title'] == 'Toy Story']"
      ]
    },
    {
      "cell_type": "code",
      "execution_count": 32,
      "metadata": {},
      "outputs": [],
      "source": [
        "# Save the dataframe as .csv\n",
        "combined_df.to_csv('combined_movies_data.csv', index=False)"
      ]
    },
    {
      "cell_type": "code",
      "execution_count": 33,
      "metadata": {},
      "outputs": [
        {
          "data": {
            "text/html": [
              "<div>\n",
              "<style scoped>\n",
              "    .dataframe tbody tr th:only-of-type {\n",
              "        vertical-align: middle;\n",
              "    }\n",
              "\n",
              "    .dataframe tbody tr th {\n",
              "        vertical-align: top;\n",
              "    }\n",
              "\n",
              "    .dataframe thead th {\n",
              "        text-align: right;\n",
              "    }\n",
              "</style>\n",
              "<table border=\"1\" class=\"dataframe\">\n",
              "  <thead>\n",
              "    <tr style=\"text-align: right;\">\n",
              "      <th></th>\n",
              "      <th>ID</th>\n",
              "      <th>Movie release date</th>\n",
              "      <th>Movie name</th>\n",
              "      <th>Average Vote</th>\n",
              "      <th>Vote Count</th>\n",
              "      <th>Rating</th>\n",
              "    </tr>\n",
              "  </thead>\n",
              "  <tbody>\n",
              "    <tr>\n",
              "      <th>1</th>\n",
              "      <td>55245</td>\n",
              "      <td>2010-01-01</td>\n",
              "      <td>!Women Art Revolution</td>\n",
              "      <td>4.3</td>\n",
              "      <td>2.0</td>\n",
              "      <td>NaN</td>\n",
              "    </tr>\n",
              "  </tbody>\n",
              "</table>\n",
              "</div>"
            ],
            "text/plain": [
              "      ID Movie release date             Movie name Average Vote  Vote Count  \\\n",
              "1  55245         2010-01-01  !Women Art Revolution           4.3        2.0   \n",
              "\n",
              "  Rating  \n",
              "1    NaN  "
            ]
          },
          "execution_count": 33,
          "metadata": {},
          "output_type": "execute_result"
        }
      ],
      "source": [
        "column_names = [\n",
        "    \"ID\",\n",
        "    \"Movie release date\",\n",
        "    \"Movie name\",\n",
        "    \"Average Vote \",\n",
        "    \"Vote Count\",\n",
        "    \"Rating\"\n",
        "]\n",
        "df_lens = pd.read_csv(MOVIE_LENS_PATH, header=None, names=column_names).drop(0)\n",
        "df_lens.head(1)"
      ]
    },
    {
      "cell_type": "markdown",
      "metadata": {},
      "source": [
        "### **1.2 Data Cleaning**"
      ]
    },
    {
      "cell_type": "markdown",
      "metadata": {},
      "source": [
        "### Movie Metadata "
      ]
    },
    {
      "cell_type": "markdown",
      "metadata": {},
      "source": [
        "In this initial step, we will undertake the following tasks:\n",
        "\n",
        "1. **Format Conversion** \n",
        "   The columns \"Movie languages,\" \"Movie countries,\" and \"Movie genres\" currently store Freebase IDs, which makes it challenging to understand and interpret the data. Our first task is to convert these dictionaries containing Freebase IDs into simple strings that contain the actual language, country, or genre names.\n",
        "\n",
        "2. **Reprocessing film languages**\n",
        "   In this step, the languages associated with the films are reprocessed. Some films may have been considered \"silent films,\" meaning they were silent and had a specified language. To simplify the analysis, these films are now identified as \"silent film\" in the language category. Additionally, mentions of the language \"english language\" are modified to simply \"english\" for easier processing and subsequent data analysis.\n",
        "\n",
        "3. **Creating multiple rows for films with multiple genres, languages, or countries**\n",
        "   This step aims to make data analysis more manageable by handling films with multiple genres, languages, or countries separately. Instead of having a single entry for a film with multiple characteristics, multiple distinct rows are created, each corresponding to a unique characteristic. For example, if a film has two different genres, two separate rows will be created for that film, each indicating a different genre. This allows for a more detailed and precise analysis of the data. It is also mentioned that in the future, the team may focus only on films with a single genre, a single language, and a single country to avoid potential bias caused by the multiplicity of these characteristics.\n",
        "\n",
        "4. **Splitting the date into 3 columns: year, month, day, and adding a \"month available\" column**\n",
        "   In this step, the dates associated with the films are broken down into three distinct parts: the year (year), the month (month), and the day (day). Additionally, a new column called \"month available\" is created. This column can potentially be useful if the research team seeks to complete missing data regarding the release month of the films.\n"
      ]
    },
    {
      "cell_type": "code",
      "execution_count": 34,
      "metadata": {},
      "outputs": [],
      "source": [
        "#df_process = process_movie_data(df_movie, save_to_path=save_path)"
      ]
    },
    {
      "cell_type": "code",
      "execution_count": 35,
      "metadata": {},
      "outputs": [],
      "source": [
        "df_movie = pd.read_csv(\"Data_Processed/df_process.csv\")"
      ]
    },
    {
      "cell_type": "code",
      "execution_count": 36,
      "metadata": {},
      "outputs": [
        {
          "data": {
            "text/html": [
              "<div>\n",
              "<style scoped>\n",
              "    .dataframe tbody tr th:only-of-type {\n",
              "        vertical-align: middle;\n",
              "    }\n",
              "\n",
              "    .dataframe tbody tr th {\n",
              "        vertical-align: top;\n",
              "    }\n",
              "\n",
              "    .dataframe thead th {\n",
              "        text-align: right;\n",
              "    }\n",
              "</style>\n",
              "<table border=\"1\" class=\"dataframe\">\n",
              "  <thead>\n",
              "    <tr style=\"text-align: right;\">\n",
              "      <th></th>\n",
              "      <th>Wikipedia movie ID</th>\n",
              "      <th>Freebase movie ID</th>\n",
              "      <th>Movie name</th>\n",
              "      <th>Movie box office revenue</th>\n",
              "      <th>Movie runtime</th>\n",
              "      <th>Movie languages</th>\n",
              "      <th>Movie countries</th>\n",
              "      <th>Movie genres</th>\n",
              "      <th>Release Year</th>\n",
              "      <th>Release Month</th>\n",
              "      <th>Release Day</th>\n",
              "      <th>Month Available</th>\n",
              "    </tr>\n",
              "  </thead>\n",
              "  <tbody>\n",
              "    <tr>\n",
              "      <th>0</th>\n",
              "      <td>975900</td>\n",
              "      <td>/m/03vyhn</td>\n",
              "      <td>Ghosts of Mars</td>\n",
              "      <td>14010832.0</td>\n",
              "      <td>98.0</td>\n",
              "      <td>English</td>\n",
              "      <td>United States of America</td>\n",
              "      <td>Thriller</td>\n",
              "      <td>2001</td>\n",
              "      <td>8</td>\n",
              "      <td>24</td>\n",
              "      <td>True</td>\n",
              "    </tr>\n",
              "  </tbody>\n",
              "</table>\n",
              "</div>"
            ],
            "text/plain": [
              "   Wikipedia movie ID Freebase movie ID      Movie name  \\\n",
              "0              975900         /m/03vyhn  Ghosts of Mars   \n",
              "\n",
              "   Movie box office revenue  Movie runtime Movie languages  \\\n",
              "0                14010832.0           98.0         English   \n",
              "\n",
              "            Movie countries Movie genres  Release Year  Release Month  \\\n",
              "0  United States of America     Thriller          2001              8   \n",
              "\n",
              "   Release Day  Month Available  \n",
              "0           24             True  "
            ]
          },
          "execution_count": 36,
          "metadata": {},
          "output_type": "execute_result"
        }
      ],
      "source": [
        "df_movie.head(1)"
      ]
    },
    {
      "cell_type": "markdown",
      "metadata": {},
      "source": [
        "Since our analysis relies on the relationship that can exist between the release period of a film and other parameters, it is important to have an overview of the number of exploitable data points in our dataset."
      ]
    },
    {
      "cell_type": "code",
      "execution_count": 37,
      "metadata": {},
      "outputs": [
        {
          "name": "stdout",
          "output_type": "stream",
          "text": [
            "In this dataset, there are 36429 movies with missing release month out of a total of 75478 movies.\n"
          ]
        },
        {
          "data": {
            "image/png": "[encoded data removed]",
            "text/plain": [
              "<Figure size 432x432 with 1 Axes>"
            ]
          },
          "metadata": {},
          "output_type": "display_data"
        }
      ],
      "source": [
        "plot_month_release_availability(df_movie.drop_duplicates(subset=['Movie name'], inplace=False))"
      ]
    },
    {
      "cell_type": "markdown",
      "metadata": {},
      "source": [
        "### Character Metadata "
      ]
    },
    {
      "cell_type": "markdown",
      "metadata": {},
      "source": [
        "In order to use our character and actor metadata, we first need to remove unecessary features:"
      ]
    },
    {
      "cell_type": "code",
      "execution_count": 38,
      "metadata": {},
      "outputs": [],
      "source": [
        "df_character = df_character.drop([\"Wikipedia movie ID\",\"Movie release date\",\"Actor date of birth\",\n",
        "                   \"Freebase character/actor map ID\",\"Freebase character ID\",\"Freebase actor ID\"], axis=1)"
      ]
    },
    {
      "cell_type": "markdown",
      "metadata": {},
      "source": [
        "### Movie Lens Dataset"
      ]
    },
    {
      "cell_type": "code",
      "execution_count": 39,
      "metadata": {},
      "outputs": [
        {
          "data": {
            "text/html": [
              "<div>\n",
              "<style scoped>\n",
              "    .dataframe tbody tr th:only-of-type {\n",
              "        vertical-align: middle;\n",
              "    }\n",
              "\n",
              "    .dataframe tbody tr th {\n",
              "        vertical-align: top;\n",
              "    }\n",
              "\n",
              "    .dataframe thead th {\n",
              "        text-align: right;\n",
              "    }\n",
              "</style>\n",
              "<table border=\"1\" class=\"dataframe\">\n",
              "  <thead>\n",
              "    <tr style=\"text-align: right;\">\n",
              "      <th></th>\n",
              "      <th>Movie release date</th>\n",
              "      <th>Movie name</th>\n",
              "      <th>Average Vote</th>\n",
              "      <th>Vote Count</th>\n",
              "    </tr>\n",
              "  </thead>\n",
              "  <tbody>\n",
              "    <tr>\n",
              "      <th>1</th>\n",
              "      <td>2010-01-01</td>\n",
              "      <td>!Women Art Revolution</td>\n",
              "      <td>4.3</td>\n",
              "      <td>2.0</td>\n",
              "    </tr>\n",
              "  </tbody>\n",
              "</table>\n",
              "</div>"
            ],
            "text/plain": [
              "  Movie release date             Movie name Average Vote  Vote Count\n",
              "1         2010-01-01  !Women Art Revolution           4.3        2.0"
            ]
          },
          "execution_count": 39,
          "metadata": {},
          "output_type": "execute_result"
        }
      ],
      "source": [
        "# Drop unnecessary columns.\n",
        "df_lens.drop(['ID', 'Rating'], axis=1, inplace=True)\n",
        "df_lens.head(1)"
      ]
    },
    {
      "cell_type": "markdown",
      "metadata": {},
      "source": [
        "### **1.3 Data Merging**"
      ]
    },
    {
      "cell_type": "markdown",
      "metadata": {},
      "source": [
        "As previously seen, only 51.7% of our dataset is usable for our analysis. Using the Movie Lens dataset, which also provides the release date of each film, we will merge these two datasets in an attempt to increase the proportion of data for which the months are available.\n",
        "\n",
        "Given that it's possible for certain films to share the same name but not be released in the same year, we will ensure to verify that the release year matches before extracting the corresponding month."
      ]
    },
    {
      "cell_type": "code",
      "execution_count": 40,
      "metadata": {},
      "outputs": [],
      "source": [
        "# Merge the two DataFrames based on the 'Movie name' column, using an inner join.\n",
        "df_movie = pd.merge(df_movie, df_lens, left_on='Movie name', right_on='Movie name', how='left')"
      ]
    },
    {
      "cell_type": "code",
      "execution_count": 41,
      "metadata": {},
      "outputs": [],
      "source": [
        "# Complete missing values in the 'Release Month' and 'Release Day' column.\n",
        "df_movie = update_release_month_and_day(df_movie)"
      ]
    },
    {
      "cell_type": "code",
      "execution_count": 42,
      "metadata": {},
      "outputs": [
        {
          "data": {
            "text/html": [
              "<div>\n",
              "<style scoped>\n",
              "    .dataframe tbody tr th:only-of-type {\n",
              "        vertical-align: middle;\n",
              "    }\n",
              "\n",
              "    .dataframe tbody tr th {\n",
              "        vertical-align: top;\n",
              "    }\n",
              "\n",
              "    .dataframe thead th {\n",
              "        text-align: right;\n",
              "    }\n",
              "</style>\n",
              "<table border=\"1\" class=\"dataframe\">\n",
              "  <thead>\n",
              "    <tr style=\"text-align: right;\">\n",
              "      <th></th>\n",
              "      <th>Wikipedia movie ID</th>\n",
              "      <th>Freebase movie ID</th>\n",
              "      <th>Movie name</th>\n",
              "      <th>Movie box office revenue</th>\n",
              "      <th>Movie runtime</th>\n",
              "      <th>Movie languages</th>\n",
              "      <th>Movie countries</th>\n",
              "      <th>Movie genres</th>\n",
              "      <th>Release Year</th>\n",
              "      <th>Release Month</th>\n",
              "      <th>Release Day</th>\n",
              "      <th>Month Available</th>\n",
              "      <th>Movie release date</th>\n",
              "      <th>Average Vote</th>\n",
              "      <th>Vote Count</th>\n",
              "    </tr>\n",
              "  </thead>\n",
              "  <tbody>\n",
              "    <tr>\n",
              "      <th>0</th>\n",
              "      <td>975900</td>\n",
              "      <td>/m/03vyhn</td>\n",
              "      <td>Ghosts of Mars</td>\n",
              "      <td>14010832.0</td>\n",
              "      <td>98.0</td>\n",
              "      <td>English</td>\n",
              "      <td>United States of America</td>\n",
              "      <td>Thriller</td>\n",
              "      <td>2001</td>\n",
              "      <td>8</td>\n",
              "      <td>24</td>\n",
              "      <td>True</td>\n",
              "      <td>2001-08-24</td>\n",
              "      <td>4.8</td>\n",
              "      <td>299.0</td>\n",
              "    </tr>\n",
              "  </tbody>\n",
              "</table>\n",
              "</div>"
            ],
            "text/plain": [
              "   Wikipedia movie ID Freebase movie ID      Movie name  \\\n",
              "0              975900         /m/03vyhn  Ghosts of Mars   \n",
              "\n",
              "   Movie box office revenue  Movie runtime Movie languages  \\\n",
              "0                14010832.0           98.0         English   \n",
              "\n",
              "            Movie countries Movie genres  Release Year  Release Month  \\\n",
              "0  United States of America     Thriller          2001              8   \n",
              "\n",
              "   Release Day  Month Available Movie release date Average Vote  Vote Count  \n",
              "0           24             True         2001-08-24           4.8      299.0  "
            ]
          },
          "execution_count": 42,
          "metadata": {},
          "output_type": "execute_result"
        }
      ],
      "source": [
        "df_movie.head(1)"
      ]
    },
    {
      "cell_type": "code",
      "execution_count": 43,
      "metadata": {},
      "outputs": [
        {
          "name": "stdout",
          "output_type": "stream",
          "text": [
            "In this dataset, there are 30520 movies with missing release month out of a total of 75478 movies.\n"
          ]
        },
        {
          "data": {
            "image/png": "[encoded data removed]",
            "text/plain": [
              "<Figure size 432x432 with 1 Axes>"
            ]
          },
          "metadata": {},
          "output_type": "display_data"
        }
      ],
      "source": [
        "plot_month_release_availability(df_movie.drop_duplicates(subset=['Movie name'], inplace=False))"
      ]
    },
    {
      "cell_type": "markdown",
      "metadata": {},
      "source": [
        "This step has led to an increase of approximately 10% in the proportion of data usable for our analysis. For the final analysis, we could consider further expanding our dataset, possibly by utilizing the 'Wikipedia movie ID' provided in the metadata dataset."
      ]
    },
    {
      "cell_type": "code",
      "execution_count": 44,
      "metadata": {},
      "outputs": [],
      "source": [
        "# Select only the exploitable data.\n",
        "df_movie = df_movie[df_movie['Month Available']]\n",
        "\n",
        "df_movie_with_id = df_movie.copy()\n",
        "# Drop unnecessary columns.\n",
        "df_movie_with_id.drop(['Wikipedia movie ID', 'Movie release date'], axis=1, inplace=True) # used to be merged with character metadata\n",
        "df_movie.drop(['Freebase movie ID', 'Wikipedia movie ID', 'Movie release date'], axis=1, inplace=True) "
      ]
    },
    {
      "cell_type": "code",
      "execution_count": 45,
      "metadata": {},
      "outputs": [
        {
          "data": {
            "text/html": [
              "<div>\n",
              "<style scoped>\n",
              "    .dataframe tbody tr th:only-of-type {\n",
              "        vertical-align: middle;\n",
              "    }\n",
              "\n",
              "    .dataframe tbody tr th {\n",
              "        vertical-align: top;\n",
              "    }\n",
              "\n",
              "    .dataframe thead th {\n",
              "        text-align: right;\n",
              "    }\n",
              "</style>\n",
              "<table border=\"1\" class=\"dataframe\">\n",
              "  <thead>\n",
              "    <tr style=\"text-align: right;\">\n",
              "      <th></th>\n",
              "      <th>Movie name</th>\n",
              "      <th>Movie box office revenue</th>\n",
              "      <th>Movie runtime</th>\n",
              "      <th>Movie languages</th>\n",
              "      <th>Movie countries</th>\n",
              "      <th>Movie genres</th>\n",
              "      <th>Release Year</th>\n",
              "      <th>Release Month</th>\n",
              "      <th>Release Day</th>\n",
              "      <th>Month Available</th>\n",
              "      <th>Average Vote</th>\n",
              "      <th>Vote Count</th>\n",
              "    </tr>\n",
              "  </thead>\n",
              "  <tbody>\n",
              "    <tr>\n",
              "      <th>0</th>\n",
              "      <td>Ghosts of Mars</td>\n",
              "      <td>14010832.0</td>\n",
              "      <td>98.0</td>\n",
              "      <td>English</td>\n",
              "      <td>United States of America</td>\n",
              "      <td>Thriller</td>\n",
              "      <td>2001</td>\n",
              "      <td>8</td>\n",
              "      <td>24</td>\n",
              "      <td>True</td>\n",
              "      <td>4.8</td>\n",
              "      <td>299.0</td>\n",
              "    </tr>\n",
              "    <tr>\n",
              "      <th>1</th>\n",
              "      <td>Ghosts of Mars</td>\n",
              "      <td>14010832.0</td>\n",
              "      <td>98.0</td>\n",
              "      <td>English</td>\n",
              "      <td>United States of America</td>\n",
              "      <td>Science Fiction</td>\n",
              "      <td>2001</td>\n",
              "      <td>8</td>\n",
              "      <td>24</td>\n",
              "      <td>True</td>\n",
              "      <td>4.8</td>\n",
              "      <td>299.0</td>\n",
              "    </tr>\n",
              "    <tr>\n",
              "      <th>2</th>\n",
              "      <td>Ghosts of Mars</td>\n",
              "      <td>14010832.0</td>\n",
              "      <td>98.0</td>\n",
              "      <td>English</td>\n",
              "      <td>United States of America</td>\n",
              "      <td>Horror</td>\n",
              "      <td>2001</td>\n",
              "      <td>8</td>\n",
              "      <td>24</td>\n",
              "      <td>True</td>\n",
              "      <td>4.8</td>\n",
              "      <td>299.0</td>\n",
              "    </tr>\n",
              "    <tr>\n",
              "      <th>3</th>\n",
              "      <td>Ghosts of Mars</td>\n",
              "      <td>14010832.0</td>\n",
              "      <td>98.0</td>\n",
              "      <td>English</td>\n",
              "      <td>United States of America</td>\n",
              "      <td>Adventure</td>\n",
              "      <td>2001</td>\n",
              "      <td>8</td>\n",
              "      <td>24</td>\n",
              "      <td>True</td>\n",
              "      <td>4.8</td>\n",
              "      <td>299.0</td>\n",
              "    </tr>\n",
              "    <tr>\n",
              "      <th>4</th>\n",
              "      <td>Ghosts of Mars</td>\n",
              "      <td>14010832.0</td>\n",
              "      <td>98.0</td>\n",
              "      <td>English</td>\n",
              "      <td>United States of America</td>\n",
              "      <td>Supernatural</td>\n",
              "      <td>2001</td>\n",
              "      <td>8</td>\n",
              "      <td>24</td>\n",
              "      <td>True</td>\n",
              "      <td>4.8</td>\n",
              "      <td>299.0</td>\n",
              "    </tr>\n",
              "  </tbody>\n",
              "</table>\n",
              "</div>"
            ],
            "text/plain": [
              "       Movie name  Movie box office revenue  Movie runtime Movie languages  \\\n",
              "0  Ghosts of Mars                14010832.0           98.0         English   \n",
              "1  Ghosts of Mars                14010832.0           98.0         English   \n",
              "2  Ghosts of Mars                14010832.0           98.0         English   \n",
              "3  Ghosts of Mars                14010832.0           98.0         English   \n",
              "4  Ghosts of Mars                14010832.0           98.0         English   \n",
              "\n",
              "            Movie countries     Movie genres  Release Year  Release Month  \\\n",
              "0  United States of America         Thriller          2001              8   \n",
              "1  United States of America  Science Fiction          2001              8   \n",
              "2  United States of America           Horror          2001              8   \n",
              "3  United States of America        Adventure          2001              8   \n",
              "4  United States of America     Supernatural          2001              8   \n",
              "\n",
              "   Release Day  Month Available Average Vote  Vote Count  \n",
              "0           24             True           4.8      299.0  \n",
              "1           24             True           4.8      299.0  \n",
              "2           24             True           4.8      299.0  \n",
              "3           24             True           4.8      299.0  \n",
              "4           24             True           4.8      299.0  "
            ]
          },
          "execution_count": 45,
          "metadata": {},
          "output_type": "execute_result"
        }
      ],
      "source": [
        "df_movie.head(5)"
      ]
    },
    {
      "cell_type": "markdown",
      "metadata": {},
      "source": [
        "### Award Dataset "
      ]
    },
    {
      "cell_type": "markdown",
      "metadata": {},
      "source": [
        "During the preprocessing of the Award dataset, we had to exclude data that was not related to films (some awards are \"honorary awards\" given to individuals). Subsequently, we removed unnecessary columns such as the ceremony type or the awarded person."
      ]
    },
    {
      "cell_type": "code",
      "execution_count": 46,
      "metadata": {},
      "outputs": [
        {
          "data": {
            "text/html": [
              "<div>\n",
              "<style scoped>\n",
              "    .dataframe tbody tr th:only-of-type {\n",
              "        vertical-align: middle;\n",
              "    }\n",
              "\n",
              "    .dataframe tbody tr th {\n",
              "        vertical-align: top;\n",
              "    }\n",
              "\n",
              "    .dataframe thead th {\n",
              "        text-align: right;\n",
              "    }\n",
              "</style>\n",
              "<table border=\"1\" class=\"dataframe\">\n",
              "  <thead>\n",
              "    <tr style=\"text-align: right;\">\n",
              "      <th></th>\n",
              "      <th>Movie Year</th>\n",
              "      <th>Category</th>\n",
              "      <th>Movie name</th>\n",
              "      <th>Winner</th>\n",
              "    </tr>\n",
              "  </thead>\n",
              "  <tbody>\n",
              "    <tr>\n",
              "      <th>1</th>\n",
              "      <td>1927</td>\n",
              "      <td>ACTOR</td>\n",
              "      <td>The Noose</td>\n",
              "      <td>False</td>\n",
              "    </tr>\n",
              "  </tbody>\n",
              "</table>\n",
              "</div>"
            ],
            "text/plain": [
              "   Movie Year Category Movie name Winner\n",
              "1        1927    ACTOR  The Noose  False"
            ]
          },
          "execution_count": 46,
          "metadata": {},
          "output_type": "execute_result"
        }
      ],
      "source": [
        "# Remove rows with missing 'Movie name' values, as these do not pertain to films.\n",
        "df_award = df_award.dropna(subset=['Movie name'], axis=0)\n",
        "\n",
        "# Drop unnecessary columns 'Ceremony Year', 'Ceremony', and 'Name'.\n",
        "df_award = df_award.drop(['Ceremony Year', 'Ceremony', 'Name'], axis=1)\n",
        "\n",
        "# Convert the 'Movie Year' column to integer data type for consistency.\n",
        "df_award['Movie Year'] = df_award['Movie Year'].astype(int)\n",
        "\n",
        "df_award.head(1)"
      ]
    },
    {
      "cell_type": "markdown",
      "metadata": {},
      "source": [
        "Then, we need to merge the Award dataset with the Movie dataset to focus on awarded movies in the main dataset."
      ]
    },
    {
      "cell_type": "code",
      "execution_count": 47,
      "metadata": {},
      "outputs": [
        {
          "data": {
            "text/html": [
              "<div>\n",
              "<style scoped>\n",
              "    .dataframe tbody tr th:only-of-type {\n",
              "        vertical-align: middle;\n",
              "    }\n",
              "\n",
              "    .dataframe tbody tr th {\n",
              "        vertical-align: top;\n",
              "    }\n",
              "\n",
              "    .dataframe thead th {\n",
              "        text-align: right;\n",
              "    }\n",
              "</style>\n",
              "<table border=\"1\" class=\"dataframe\">\n",
              "  <thead>\n",
              "    <tr style=\"text-align: right;\">\n",
              "      <th></th>\n",
              "      <th>Movie name</th>\n",
              "      <th>Movie box office revenue</th>\n",
              "      <th>Movie runtime</th>\n",
              "      <th>Movie languages</th>\n",
              "      <th>Movie countries</th>\n",
              "      <th>Movie genres</th>\n",
              "      <th>Release Year</th>\n",
              "      <th>Release Month</th>\n",
              "      <th>Release Day</th>\n",
              "      <th>Month Available</th>\n",
              "      <th>Average Vote</th>\n",
              "      <th>Vote Count</th>\n",
              "      <th>Movie Year</th>\n",
              "      <th>Category</th>\n",
              "      <th>Winner</th>\n",
              "    </tr>\n",
              "  </thead>\n",
              "  <tbody>\n",
              "    <tr>\n",
              "      <th>0</th>\n",
              "      <td>Alexander's Ragtime Band</td>\n",
              "      <td>3600000.0</td>\n",
              "      <td>106.0</td>\n",
              "      <td>English</td>\n",
              "      <td>United States of America</td>\n",
              "      <td>Musical</td>\n",
              "      <td>1938</td>\n",
              "      <td>8</td>\n",
              "      <td>16</td>\n",
              "      <td>True</td>\n",
              "      <td>4.8</td>\n",
              "      <td>6.0</td>\n",
              "      <td>1938</td>\n",
              "      <td>ART DIRECTION</td>\n",
              "      <td>False</td>\n",
              "    </tr>\n",
              "  </tbody>\n",
              "</table>\n",
              "</div>"
            ],
            "text/plain": [
              "                 Movie name  Movie box office revenue  Movie runtime  \\\n",
              "0  Alexander's Ragtime Band                 3600000.0          106.0   \n",
              "\n",
              "  Movie languages           Movie countries Movie genres  Release Year  \\\n",
              "0         English  United States of America      Musical          1938   \n",
              "\n",
              "   Release Month  Release Day  Month Available Average Vote  Vote Count  \\\n",
              "0              8           16             True           4.8        6.0   \n",
              "\n",
              "   Movie Year       Category Winner  \n",
              "0        1938  ART DIRECTION  False  "
            ]
          },
          "execution_count": 47,
          "metadata": {},
          "output_type": "execute_result"
        }
      ],
      "source": [
        "# Merge datasets\n",
        "df_merge_award = pd.merge(df_movie, df_award, left_on='Movie name', right_on='Movie name', how='inner')\n",
        "\n",
        "# Handling release year\n",
        "release_year_list = df_merge_award['Release Year'].to_list()\n",
        "release_year_list =  [int(x) if not pd.isna(x) else 0 for x in release_year_list]\n",
        "df_merge_award['Release Year'] = release_year_list\n",
        "\n",
        "# Filtering movies with correct release year\n",
        "df_merge_award = df_merge_award[df_merge_award['Release Year'] == df_merge_award['Movie Year']]\n",
        "df_merge_award.head(1)"
      ]
    },
    {
      "cell_type": "markdown",
      "metadata": {},
      "source": [
        "We can have a brief look at the dataset and clean it by filtering out valid movies records checking no duplicate with a same movie name. It is important to check how many data records are accessible for further exploration."
      ]
    },
    {
      "cell_type": "code",
      "execution_count": 48,
      "metadata": {},
      "outputs": [
        {
          "name": "stdout",
          "output_type": "stream",
          "text": [
            "We have 2668 data for the films that have been selected for the Oscars\n",
            "Number of films with available release month and unique value for column 'Movie name': 2668\n"
          ]
        },
        {
          "data": {
            "text/html": [
              "<div>\n",
              "<style scoped>\n",
              "    .dataframe tbody tr th:only-of-type {\n",
              "        vertical-align: middle;\n",
              "    }\n",
              "\n",
              "    .dataframe tbody tr th {\n",
              "        vertical-align: top;\n",
              "    }\n",
              "\n",
              "    .dataframe thead th {\n",
              "        text-align: right;\n",
              "    }\n",
              "</style>\n",
              "<table border=\"1\" class=\"dataframe\">\n",
              "  <thead>\n",
              "    <tr style=\"text-align: right;\">\n",
              "      <th></th>\n",
              "      <th>Movie name</th>\n",
              "      <th>Movie box office revenue</th>\n",
              "      <th>Movie runtime</th>\n",
              "      <th>Movie languages</th>\n",
              "      <th>Movie countries</th>\n",
              "      <th>Movie genres</th>\n",
              "      <th>Release Year</th>\n",
              "      <th>Release Month</th>\n",
              "      <th>Release Day</th>\n",
              "      <th>Average Vote</th>\n",
              "      <th>Vote Count</th>\n",
              "      <th>Movie Year</th>\n",
              "      <th>Category</th>\n",
              "      <th>Winner</th>\n",
              "    </tr>\n",
              "  </thead>\n",
              "  <tbody>\n",
              "    <tr>\n",
              "      <th>0</th>\n",
              "      <td>Alexander's Ragtime Band</td>\n",
              "      <td>3600000.0</td>\n",
              "      <td>106.0</td>\n",
              "      <td>English</td>\n",
              "      <td>United States of America</td>\n",
              "      <td>Musical</td>\n",
              "      <td>1938</td>\n",
              "      <td>8</td>\n",
              "      <td>16</td>\n",
              "      <td>4.8</td>\n",
              "      <td>6.0</td>\n",
              "      <td>1938</td>\n",
              "      <td>ART DIRECTION</td>\n",
              "      <td>False</td>\n",
              "    </tr>\n",
              "    <tr>\n",
              "      <th>1</th>\n",
              "      <td>Alexander's Ragtime Band</td>\n",
              "      <td>3600000.0</td>\n",
              "      <td>106.0</td>\n",
              "      <td>English</td>\n",
              "      <td>United States of America</td>\n",
              "      <td>Musical</td>\n",
              "      <td>1938</td>\n",
              "      <td>8</td>\n",
              "      <td>16</td>\n",
              "      <td>4.8</td>\n",
              "      <td>6.0</td>\n",
              "      <td>1938</td>\n",
              "      <td>FILM EDITING</td>\n",
              "      <td>False</td>\n",
              "    </tr>\n",
              "    <tr>\n",
              "      <th>2</th>\n",
              "      <td>Alexander's Ragtime Band</td>\n",
              "      <td>3600000.0</td>\n",
              "      <td>106.0</td>\n",
              "      <td>English</td>\n",
              "      <td>United States of America</td>\n",
              "      <td>Musical</td>\n",
              "      <td>1938</td>\n",
              "      <td>8</td>\n",
              "      <td>16</td>\n",
              "      <td>4.8</td>\n",
              "      <td>6.0</td>\n",
              "      <td>1938</td>\n",
              "      <td>MUSIC (Scoring)</td>\n",
              "      <td>True</td>\n",
              "    </tr>\n",
              "    <tr>\n",
              "      <th>3</th>\n",
              "      <td>Alexander's Ragtime Band</td>\n",
              "      <td>3600000.0</td>\n",
              "      <td>106.0</td>\n",
              "      <td>English</td>\n",
              "      <td>United States of America</td>\n",
              "      <td>Musical</td>\n",
              "      <td>1938</td>\n",
              "      <td>8</td>\n",
              "      <td>16</td>\n",
              "      <td>4.8</td>\n",
              "      <td>6.0</td>\n",
              "      <td>1938</td>\n",
              "      <td>MUSIC (Song)</td>\n",
              "      <td>False</td>\n",
              "    </tr>\n",
              "    <tr>\n",
              "      <th>4</th>\n",
              "      <td>Alexander's Ragtime Band</td>\n",
              "      <td>3600000.0</td>\n",
              "      <td>106.0</td>\n",
              "      <td>English</td>\n",
              "      <td>United States of America</td>\n",
              "      <td>Musical</td>\n",
              "      <td>1938</td>\n",
              "      <td>8</td>\n",
              "      <td>16</td>\n",
              "      <td>4.8</td>\n",
              "      <td>6.0</td>\n",
              "      <td>1938</td>\n",
              "      <td>OUTSTANDING PRODUCTION</td>\n",
              "      <td>False</td>\n",
              "    </tr>\n",
              "  </tbody>\n",
              "</table>\n",
              "</div>"
            ],
            "text/plain": [
              "                 Movie name  Movie box office revenue  Movie runtime  \\\n",
              "0  Alexander's Ragtime Band                 3600000.0          106.0   \n",
              "1  Alexander's Ragtime Band                 3600000.0          106.0   \n",
              "2  Alexander's Ragtime Band                 3600000.0          106.0   \n",
              "3  Alexander's Ragtime Band                 3600000.0          106.0   \n",
              "4  Alexander's Ragtime Band                 3600000.0          106.0   \n",
              "\n",
              "  Movie languages           Movie countries Movie genres  Release Year  \\\n",
              "0         English  United States of America      Musical          1938   \n",
              "1         English  United States of America      Musical          1938   \n",
              "2         English  United States of America      Musical          1938   \n",
              "3         English  United States of America      Musical          1938   \n",
              "4         English  United States of America      Musical          1938   \n",
              "\n",
              "   Release Month  Release Day Average Vote  Vote Count  Movie Year  \\\n",
              "0              8           16           4.8        6.0        1938   \n",
              "1              8           16           4.8        6.0        1938   \n",
              "2              8           16           4.8        6.0        1938   \n",
              "3              8           16           4.8        6.0        1938   \n",
              "4              8           16           4.8        6.0        1938   \n",
              "\n",
              "                 Category Winner  \n",
              "0           ART DIRECTION  False  \n",
              "1            FILM EDITING  False  \n",
              "2         MUSIC (Scoring)   True  \n",
              "3            MUSIC (Song)  False  \n",
              "4  OUTSTANDING PRODUCTION  False  "
            ]
          },
          "execution_count": 48,
          "metadata": {},
          "output_type": "execute_result"
        }
      ],
      "source": [
        "# Count the total films \n",
        "print(\"We have {} data for the films that have been selected for the Oscars\".format(df_merge_award['Movie name'].nunique()))\n",
        "\n",
        "# Count the films with available release month and unique value for column 'Movie name'\n",
        "df_month_avail = df_merge_award[df_merge_award['Month Available'] == True].drop(['Month Available'], axis=1)\n",
        "num_films_month_avail = df_month_avail['Movie name'].nunique()\n",
        "print(\"Number of films with available release month and unique value for column 'Movie name':\", num_films_month_avail)\n",
        "df_month_avail.head()"
      ]
    },
    {
      "cell_type": "markdown",
      "metadata": {},
      "source": [
        "### Character Metadata "
      ]
    },
    {
      "cell_type": "markdown",
      "metadata": {},
      "source": [
        "This dataset can easily be merged with the movie metadata using the freebase id. Further work will also require merging it with additional databases such as the award and IMDb ones in order to explore actor choice on ratings and awards received. "
      ]
    },
    {
      "cell_type": "code",
      "execution_count": 49,
      "metadata": {},
      "outputs": [
        {
          "data": {
            "text/html": [
              "<div>\n",
              "<style scoped>\n",
              "    .dataframe tbody tr th:only-of-type {\n",
              "        vertical-align: middle;\n",
              "    }\n",
              "\n",
              "    .dataframe tbody tr th {\n",
              "        vertical-align: top;\n",
              "    }\n",
              "\n",
              "    .dataframe thead th {\n",
              "        text-align: right;\n",
              "    }\n",
              "</style>\n",
              "<table border=\"1\" class=\"dataframe\">\n",
              "  <thead>\n",
              "    <tr style=\"text-align: right;\">\n",
              "      <th></th>\n",
              "      <th>Character name</th>\n",
              "      <th>Actor gender</th>\n",
              "      <th>Actor height (in meters)</th>\n",
              "      <th>Actor ethnicity (Freebase ID)</th>\n",
              "      <th>Actor name</th>\n",
              "      <th>Actor age at movie release</th>\n",
              "      <th>Movie name</th>\n",
              "      <th>Movie box office revenue</th>\n",
              "      <th>Movie runtime</th>\n",
              "      <th>Movie languages</th>\n",
              "      <th>Movie countries</th>\n",
              "      <th>Movie genres</th>\n",
              "      <th>Release Year</th>\n",
              "      <th>Release Month</th>\n",
              "      <th>Release Day</th>\n",
              "      <th>Month Available</th>\n",
              "      <th>Average Vote</th>\n",
              "      <th>Vote Count</th>\n",
              "    </tr>\n",
              "  </thead>\n",
              "  <tbody>\n",
              "    <tr>\n",
              "      <th>0</th>\n",
              "      <td>Akooshay</td>\n",
              "      <td>F</td>\n",
              "      <td>1.62</td>\n",
              "      <td>NaN</td>\n",
              "      <td>Wanda De Jesus</td>\n",
              "      <td>42.0</td>\n",
              "      <td>Ghosts of Mars</td>\n",
              "      <td>14010832.0</td>\n",
              "      <td>98.0</td>\n",
              "      <td>English</td>\n",
              "      <td>United States of America</td>\n",
              "      <td>Thriller</td>\n",
              "      <td>2001</td>\n",
              "      <td>8</td>\n",
              "      <td>24</td>\n",
              "      <td>True</td>\n",
              "      <td>4.8</td>\n",
              "      <td>299.0</td>\n",
              "    </tr>\n",
              "  </tbody>\n",
              "</table>\n",
              "</div>"
            ],
            "text/plain": [
              "  Character name Actor gender  Actor height (in meters)  \\\n",
              "0       Akooshay            F                      1.62   \n",
              "\n",
              "  Actor ethnicity (Freebase ID)      Actor name  Actor age at movie release  \\\n",
              "0                           NaN  Wanda De Jesus                        42.0   \n",
              "\n",
              "       Movie name  Movie box office revenue  Movie runtime Movie languages  \\\n",
              "0  Ghosts of Mars                14010832.0           98.0         English   \n",
              "\n",
              "            Movie countries Movie genres  Release Year  Release Month  \\\n",
              "0  United States of America     Thriller          2001              8   \n",
              "\n",
              "   Release Day  Month Available Average Vote  Vote Count  \n",
              "0           24             True           4.8      299.0  "
            ]
          },
          "execution_count": 49,
          "metadata": {},
          "output_type": "execute_result"
        }
      ],
      "source": [
        "df_merge_character = pd.merge(df_character, df_movie_with_id, left_on='Freebase movie ID', right_on='Freebase movie ID', how='inner')\n",
        "df_merge_character = df_merge_character.drop(['Freebase movie ID'], axis=1)\n",
        "df_merge_character.head(1)"
      ]
    },
    {
      "cell_type": "markdown",
      "metadata": {},
      "source": [
        "## PART 2: Addressing Our Scientific Question\n",
        "---"
      ]
    },
    {
      "cell_type": "markdown",
      "metadata": {},
      "source": [
        "The research questions we would like to address can be divided into four distinct parts.\n",
        "\n",
        "**Question 1**: Are there any recurring patterns between a film's genre and its release timing within a year? If such patterns exist, do they vary based on the location of the movie, and can these insights contribute to predicting the genre of upcoming film releases in subsequent seasons?\n",
        "\n",
        "**Question 2**: Which factors have an impact a movie's success, particularly its likelihood of winning Oscar award? How is the effect of release timing evolve over time? Is it possible to predict the Oscar probability, given some factors such as release month, country, language, etc.?\n",
        "\n",
        "**Question 3**: In what ways is a movie's popularity affected by its release period, considering factors such as box office revenue and ratings?\n",
        "\n",
        "**Question 4**: To what extent do the involvement of specific actors influence a film's success, including its chances of winning awards, expected box office revenue, and ratings? Additionally, can we generate actor groups based on genres and predict their probability of achieving success?\n",
        "\n",
        "In this section, we will construct three datasets to answer these four questions, and we will perform a more extensive analysis for milestone 3."
      ]
    },
    {
      "cell_type": "markdown",
      "metadata": {},
      "source": [
        "### **1. Research Question 1**"
      ]
    },
    {
      "cell_type": "markdown",
      "metadata": {},
      "source": [
        "#### **1.1 Data preparation**"
      ]
    },
    {
      "cell_type": "markdown",
      "metadata": {},
      "source": [
        "For this analysis, we will focus on the film genres, the release period of the year, and the locations where they are released. Therefore, we will begin by selecting the columns of interest for our analysis."
      ]
    },
    {
      "cell_type": "code",
      "execution_count": 50,
      "metadata": {},
      "outputs": [
        {
          "data": {
            "text/html": [
              "<div>\n",
              "<style scoped>\n",
              "    .dataframe tbody tr th:only-of-type {\n",
              "        vertical-align: middle;\n",
              "    }\n",
              "\n",
              "    .dataframe tbody tr th {\n",
              "        vertical-align: top;\n",
              "    }\n",
              "\n",
              "    .dataframe thead th {\n",
              "        text-align: right;\n",
              "    }\n",
              "</style>\n",
              "<table border=\"1\" class=\"dataframe\">\n",
              "  <thead>\n",
              "    <tr style=\"text-align: right;\">\n",
              "      <th></th>\n",
              "      <th>Movie name</th>\n",
              "      <th>Movie countries</th>\n",
              "      <th>Movie genres</th>\n",
              "      <th>Release Year</th>\n",
              "      <th>Release Month</th>\n",
              "      <th>Release Day</th>\n",
              "      <th>Month Available</th>\n",
              "    </tr>\n",
              "  </thead>\n",
              "  <tbody>\n",
              "    <tr>\n",
              "      <th>0</th>\n",
              "      <td>Ghosts of Mars</td>\n",
              "      <td>United States of America</td>\n",
              "      <td>Thriller</td>\n",
              "      <td>2001</td>\n",
              "      <td>8</td>\n",
              "      <td>24</td>\n",
              "      <td>True</td>\n",
              "    </tr>\n",
              "  </tbody>\n",
              "</table>\n",
              "</div>"
            ],
            "text/plain": [
              "       Movie name           Movie countries Movie genres  Release Year  \\\n",
              "0  Ghosts of Mars  United States of America     Thriller          2001   \n",
              "\n",
              "   Release Month  Release Day  Month Available  \n",
              "0              8           24             True  "
            ]
          },
          "execution_count": 50,
          "metadata": {},
          "output_type": "execute_result"
        }
      ],
      "source": [
        "df_release_info = df_movie.drop(['Movie box office revenue', 'Movie runtime', 'Movie languages', 'Vote Count', 'Average Vote '], axis=1, inplace=False)\n",
        "df_release_info.drop_duplicates(inplace=True)\n",
        "df_release_info.head(1)"
      ]
    },
    {
      "cell_type": "markdown",
      "metadata": {},
      "source": [
        "#### **1.2 Histogram of Release Years**"
      ]
    },
    {
      "cell_type": "code",
      "execution_count": 51,
      "metadata": {},
      "outputs": [
        {
          "data": {
            "image/png": "[encoded data removed]",
            "text/plain": [
              "<Figure size 432x288 with 1 Axes>"
            ]
          },
          "metadata": {},
          "output_type": "display_data"
        }
      ],
      "source": [
        "plot_movie_release_distribution(df_release_info.drop_duplicates(subset=['Movie name'], inplace=False))"
      ]
    },
    {
      "cell_type": "markdown",
      "metadata": {},
      "source": [
        "We observe, unsurprisingly, that the number of films increases considerably with the years. However, the proportion of older films is not negligible. In the context of our study, where we will investigate patterns that may exist between the time of year and the number of film releases, we must take this factor into account and study its evolution over time.\n",
        "\n",
        "To prepare for this future analysis, let's add a column to our dataset that contains the decades corresponding to the release of each film"
      ]
    },
    {
      "cell_type": "code",
      "execution_count": 52,
      "metadata": {},
      "outputs": [
        {
          "data": {
            "text/html": [
              "<div>\n",
              "<style scoped>\n",
              "    .dataframe tbody tr th:only-of-type {\n",
              "        vertical-align: middle;\n",
              "    }\n",
              "\n",
              "    .dataframe tbody tr th {\n",
              "        vertical-align: top;\n",
              "    }\n",
              "\n",
              "    .dataframe thead th {\n",
              "        text-align: right;\n",
              "    }\n",
              "</style>\n",
              "<table border=\"1\" class=\"dataframe\">\n",
              "  <thead>\n",
              "    <tr style=\"text-align: right;\">\n",
              "      <th></th>\n",
              "      <th>Movie name</th>\n",
              "      <th>Movie countries</th>\n",
              "      <th>Movie genres</th>\n",
              "      <th>Release Year</th>\n",
              "      <th>Release Month</th>\n",
              "      <th>Release Day</th>\n",
              "      <th>Month Available</th>\n",
              "      <th>Release Decade</th>\n",
              "    </tr>\n",
              "  </thead>\n",
              "  <tbody>\n",
              "    <tr>\n",
              "      <th>0</th>\n",
              "      <td>Ghosts of Mars</td>\n",
              "      <td>United States of America</td>\n",
              "      <td>Thriller</td>\n",
              "      <td>2001</td>\n",
              "      <td>8</td>\n",
              "      <td>24</td>\n",
              "      <td>True</td>\n",
              "      <td>2000</td>\n",
              "    </tr>\n",
              "  </tbody>\n",
              "</table>\n",
              "</div>"
            ],
            "text/plain": [
              "       Movie name           Movie countries Movie genres  Release Year  \\\n",
              "0  Ghosts of Mars  United States of America     Thriller          2001   \n",
              "\n",
              "   Release Month  Release Day  Month Available  Release Decade  \n",
              "0              8           24             True            2000  "
            ]
          },
          "execution_count": 52,
          "metadata": {},
          "output_type": "execute_result"
        }
      ],
      "source": [
        "# Create a list of film release years from the dataset.\n",
        "list_release_year = df_release_info['Release Year'].to_list()\n",
        "\n",
        "# Calculate the corresponding decade for each film release year.\n",
        "list_decade = [(year//10)*10 for year in list_release_year]\n",
        "\n",
        "# Add a new column 'Release Decade' to the dataset containing the calculated decades.\n",
        "df_release_info['Release Decade'] = list_decade\n",
        "\n",
        "df_release_info.head(1)"
      ]
    },
    {
      "cell_type": "markdown",
      "metadata": {},
      "source": [
        "#### **1.3 Bar Chart of Release Months**"
      ]
    },
    {
      "cell_type": "markdown",
      "metadata": {},
      "source": [
        "Our study will focus on exploring the potential correlation between the time of the year and film genres. However, it is also of interest to investigate whether there are trends that are independent of the film genre."
      ]
    },
    {
      "cell_type": "code",
      "execution_count": 53,
      "metadata": {},
      "outputs": [
        {
          "data": {
            "image/png": "[encoded data removed]",
            "text/plain": [
              "<Figure size 720x432 with 1 Axes>"
            ]
          },
          "metadata": {},
          "output_type": "display_data"
        }
      ],
      "source": [
        "plot_monthly_movie_counts(df_release_info)"
      ]
    },
    {
      "cell_type": "markdown",
      "metadata": {},
      "source": [
        "This bar chart allows us to conclude that the distribution of films throughout the year is not uniform; for instance, the summer months appear to have fewer releases than others. Therefore, it is necessary to differentiate, for each genre, whether the trend is driven by the overall distribution of films throughout the year or if it is specific to certain film genres."
      ]
    },
    {
      "cell_type": "markdown",
      "metadata": {},
      "source": [
        "#### **1.4 Repartition of the Main Genre**"
      ]
    },
    {
      "cell_type": "code",
      "execution_count": 54,
      "metadata": {},
      "outputs": [
        {
          "name": "stdout",
          "output_type": "stream",
          "text": [
            "In our dataset, we have 356 film genres represented\n"
          ]
        }
      ],
      "source": [
        "print(\"In our dataset, we have {} film genres represented\".format(df_release_info['Movie genres'].nunique()))"
      ]
    },
    {
      "cell_type": "markdown",
      "metadata": {},
      "source": [
        "In our dataset, we have a wide variety of genres represented. In the future, we may consider grouping certain genres by themes, for example, 'thriller and crime films'. This would allow us to enrich our data more intelligently. For now, we will focus on the five most represented genres in the dataset."
      ]
    },
    {
      "cell_type": "code",
      "execution_count": 55,
      "metadata": {},
      "outputs": [],
      "source": [
        "sorted_genre_counts = count_and_sort_movie_genres(df_release_info)"
      ]
    },
    {
      "cell_type": "code",
      "execution_count": 56,
      "metadata": {},
      "outputs": [
        {
          "name": "stdout",
          "output_type": "stream",
          "text": [
            "Number of genres selected:  5\n",
            "Selected genres:  ['Drama', 'Comedy', 'Romance Film', 'Thriller', 'Action']\n"
          ]
        }
      ],
      "source": [
        "# Select the top 5 genres\n",
        "selected_genres = list(sorted_genre_counts.keys())[:5]\n",
        "print(\"Number of genres selected: \", len(selected_genres))\n",
        "print(\"Selected genres: \", selected_genres)"
      ]
    },
    {
      "cell_type": "code",
      "execution_count": 57,
      "metadata": {},
      "outputs": [],
      "source": [
        "# Filter the dataset to only include the selected genres\n",
        "df_release_info = filter_movies_by_genres(df_release_info, selected_genres)"
      ]
    },
    {
      "cell_type": "markdown",
      "metadata": {},
      "source": [
        "Let's observe the representation of film genres in our resulting dataset."
      ]
    },
    {
      "cell_type": "code",
      "execution_count": 58,
      "metadata": {},
      "outputs": [
        {
          "data": {
            "image/png": "[encoded data removed]",
            "text/plain": [
              "<Figure size 432x432 with 1 Axes>"
            ]
          },
          "metadata": {},
          "output_type": "display_data"
        }
      ],
      "source": [
        "create_genre_pie_chart(df_release_info)"
      ]
    },
    {
      "cell_type": "markdown",
      "metadata": {},
      "source": [
        "The 'drama' genre predominates significantly, while the other genres are fairly balanced among themselves.Now, we will examine the distribution of films across months based on their genres."
      ]
    },
    {
      "cell_type": "code",
      "execution_count": 59,
      "metadata": {},
      "outputs": [
        {
          "data": {
            "image/png": "[encoded data removed]",
            "text/plain": [
              "<Figure size 720x432 with 1 Axes>"
            ]
          },
          "metadata": {},
          "output_type": "display_data"
        },
        {
          "data": {
            "image/png": "[encoded data removed]",
            "text/plain": [
              "<Figure size 720x432 with 1 Axes>"
            ]
          },
          "metadata": {},
          "output_type": "display_data"
        },
        {
          "data": {
            "image/png": "[encoded data removed]",
            "text/plain": [
              "<Figure size 720x432 with 1 Axes>"
            ]
          },
          "metadata": {},
          "output_type": "display_data"
        },
        {
          "data": {
            "image/png": "[encoded data removed]",
            "text/plain": [
              "<Figure size 720x432 with 1 Axes>"
            ]
          },
          "metadata": {},
          "output_type": "display_data"
        },
        {
          "data": {
            "image/png": "[encoded data removed]",
            "text/plain": [
              "<Figure size 720x432 with 1 Axes>"
            ]
          },
          "metadata": {},
          "output_type": "display_data"
        }
      ],
      "source": [
        "plot_monthly_movie_counts(df_release_info, selected_genres)"
      ]
    },
    {
      "cell_type": "markdown",
      "metadata": {},
      "source": [
        "We observe significantly different distributions among genres. Action films appear to have a relatively uniform distribution throughout the year. It's worth noting that action is the only genre that doesn't experience a decline during the summer, which contradicts the general trend. It's important to mention that for the final analysis, correlation tests will be considered to confirm whether or not months can have an impact on certain genres"
      ]
    },
    {
      "cell_type": "markdown",
      "metadata": {},
      "source": [
        "#### **1.5 Continent Repartition in our Dataset**"
      ]
    },
    {
      "cell_type": "code",
      "execution_count": 60,
      "metadata": {},
      "outputs": [
        {
          "name": "stdout",
          "output_type": "stream",
          "text": [
            "In our dataset, we have 139 countries in which movies have been released\n"
          ]
        }
      ],
      "source": [
        "print(\"In our dataset, we have {} countries in which movies have been released\".format(df_release_info['Movie countries'].nunique()))"
      ]
    },
    {
      "cell_type": "markdown",
      "metadata": {},
      "source": [
        "In our dataset, we have a wide range of countries represented. To study the link between location and the distribution of release months, we will group these countries by their continents."
      ]
    },
    {
      "cell_type": "code",
      "execution_count": 61,
      "metadata": {},
      "outputs": [
        {
          "name": "stderr",
          "output_type": "stream",
          "text": [
            "66832it [00:03, 21494.61it/s]\n"
          ]
        },
        {
          "data": {
            "text/html": [
              "<div>\n",
              "<style scoped>\n",
              "    .dataframe tbody tr th:only-of-type {\n",
              "        vertical-align: middle;\n",
              "    }\n",
              "\n",
              "    .dataframe tbody tr th {\n",
              "        vertical-align: top;\n",
              "    }\n",
              "\n",
              "    .dataframe thead th {\n",
              "        text-align: right;\n",
              "    }\n",
              "</style>\n",
              "<table border=\"1\" class=\"dataframe\">\n",
              "  <thead>\n",
              "    <tr style=\"text-align: right;\">\n",
              "      <th></th>\n",
              "      <th>Movie name</th>\n",
              "      <th>Movie countries</th>\n",
              "      <th>Movie genres</th>\n",
              "      <th>Release Year</th>\n",
              "      <th>Release Month</th>\n",
              "      <th>Release Day</th>\n",
              "      <th>Month Available</th>\n",
              "      <th>Release Decade</th>\n",
              "      <th>Movie Continent</th>\n",
              "    </tr>\n",
              "  </thead>\n",
              "  <tbody>\n",
              "    <tr>\n",
              "      <th>0</th>\n",
              "      <td>Ghosts of Mars</td>\n",
              "      <td>United States of America</td>\n",
              "      <td>Thriller</td>\n",
              "      <td>2001</td>\n",
              "      <td>8</td>\n",
              "      <td>24</td>\n",
              "      <td>True</td>\n",
              "      <td>2000</td>\n",
              "      <td>North America</td>\n",
              "    </tr>\n",
              "  </tbody>\n",
              "</table>\n",
              "</div>"
            ],
            "text/plain": [
              "       Movie name           Movie countries Movie genres  Release Year  \\\n",
              "0  Ghosts of Mars  United States of America     Thriller          2001   \n",
              "\n",
              "   Release Month  Release Day  Month Available  Release Decade Movie Continent  \n",
              "0              8           24             True            2000   North America  "
            ]
          },
          "execution_count": 61,
          "metadata": {},
          "output_type": "execute_result"
        }
      ],
      "source": [
        "df_release_info = assign_movie_continents(df_release_info)\n",
        "df_release_info.head(1)"
      ]
    },
    {
      "cell_type": "code",
      "execution_count": 62,
      "metadata": {},
      "outputs": [
        {
          "data": {
            "image/png": "[encoded data removed]",
            "text/plain": [
              "<Figure size 576x432 with 1 Axes>"
            ]
          },
          "metadata": {},
          "output_type": "display_data"
        }
      ],
      "source": [
        "plot_movie_continent_distribution(df_release_info.drop_duplicates(subset=['Movie name'], inplace=False))"
      ]
    },
    {
      "cell_type": "markdown",
      "metadata": {},
      "source": [
        "The pie chart shows us the proportion of each continent in our dataset. We observe that three continents represent almost the entirety of our dataset, so we will focus on these."
      ]
    },
    {
      "cell_type": "code",
      "execution_count": 63,
      "metadata": {},
      "outputs": [],
      "source": [
        "continents_to_keep  = ['Europe', 'Asia', 'North America']"
      ]
    },
    {
      "cell_type": "code",
      "execution_count": 64,
      "metadata": {},
      "outputs": [],
      "source": [
        "continents_to_keep  = ['Europe', 'Asia', 'North America']\n",
        "df_release_info = df_release_info[df_release_info['Movie Continent'].isin(continents_to_keep)]"
      ]
    },
    {
      "cell_type": "markdown",
      "metadata": {},
      "source": [
        "**Conclusion**\n",
        "\n",
        "\n",
        "Based on the observations and initial analyses, we can confidently state that there are certainly interesting aspects to explore regarding the relationship between the film's release month, its film genre, its location, and its evolution over time.\n",
        "\n",
        "Several avenues have been discussed to enhance and group our dataset for a meaningful statistical analysis. For the final analysis, we plan to investigate the correlation between these factors, considering the influence that these parameters may have on each other."
      ]
    },
    {
      "cell_type": "markdown",
      "metadata": {},
      "source": [
        "### **2. Research Question 2:  Analysis on Pursuing Oscar's**"
      ]
    },
    {
      "cell_type": "markdown",
      "metadata": {},
      "source": [
        "#### **2.1 Data preparation**"
      ]
    },
    {
      "cell_type": "markdown",
      "metadata": {},
      "source": [
        "It is noticed that some records in the Award dataset are corresponding to the same movie name. This is because of spliting of genres in data preprocessing. We need therefore first remove the duplicates to make sure that each movie is uniquely represented in the dataset."
      ]
    },
    {
      "cell_type": "code",
      "execution_count": 278,
      "metadata": {},
      "outputs": [
        {
          "name": "stderr",
          "output_type": "stream",
          "text": [
            "C:\\Users\\Pierre-Hadrien\\AppData\\Local\\Packages\\PythonSoftwareFoundation.Python.3.7_qbz5n2kfra8p0\\LocalCache\\local-packages\\Python37\\site-packages\\ipykernel_launcher.py:3: SettingWithCopyWarning: \n",
            "A value is trying to be set on a copy of a slice from a DataFrame.\n",
            "Try using .loc[row_indexer,col_indexer] = value instead\n",
            "\n",
            "See the caveats in the documentation: https://pandas.pydata.org/pandas-docs/stable/user_guide/indexing.html#returning-a-view-versus-a-copy\n",
            "  This is separate from the ipykernel package so we can avoid doing imports until\n",
            "C:\\Users\\Pierre-Hadrien\\AppData\\Local\\Packages\\PythonSoftwareFoundation.Python.3.7_qbz5n2kfra8p0\\LocalCache\\local-packages\\Python37\\site-packages\\ipykernel_launcher.py:4: SettingWithCopyWarning: \n",
            "A value is trying to be set on a copy of a slice from a DataFrame.\n",
            "Try using .loc[row_indexer,col_indexer] = value instead\n",
            "\n",
            "See the caveats in the documentation: https://pandas.pydata.org/pandas-docs/stable/user_guide/indexing.html#returning-a-view-versus-a-copy\n",
            "  after removing the cwd from sys.path.\n"
          ]
        }
      ],
      "source": [
        "# Remove duplicate movies\n",
        "df_merge_award_unique = df_merge_award.drop_duplicates(subset=['Movie name'], inplace=False)\n",
        "df_merge_award_unique['Average Vote '] = df_merge_award_unique['Average Vote '].astype(float)\n",
        "df_merge_award_unique['Vote Count'] = df_merge_award_unique['Vote Count'].astype(float)"
      ]
    },
    {
      "cell_type": "markdown",
      "metadata": {},
      "source": [
        "#### **2.2 Release timing: When is the optimal release time?**"
      ]
    },
    {
      "cell_type": "markdown",
      "metadata": {},
      "source": [
        "In order to investigate the effect of releasing timing on probability of winning Oscar, it is necessary to check the distribution of release month of movies in the dataset, which are at least selected in the scope of Oscar's prize evaluation. The results are plotted in the bar chart to make the comparison easier."
      ]
    },
    {
      "cell_type": "code",
      "execution_count": 279,
      "metadata": {},
      "outputs": [
        {
          "data": {
            "image/png": "[encoded data removed]",
            "text/plain": [
              "<Figure size 720x432 with 1 Axes>"
            ]
          },
          "metadata": {},
          "output_type": "display_data"
        }
      ],
      "source": [
        "plot_monthly_movie_counts(df_merge_award_unique)"
      ]
    },
    {
      "cell_type": "markdown",
      "metadata": {},
      "source": [
        "From the chart above, we can see that release timing of movies winning Oscar's prize is not equally distributed throughout the year. This could be explained as due to the preference of the Academy to movies released in certain periods in a year. For example, the appearance of excellent movies usually adhere to some seasonality patterns. "
      ]
    },
    {
      "cell_type": "markdown",
      "metadata": {},
      "source": [
        "However, some people may argue that there is another possibility of imbalanced number of movies released in each month. To verify that, we can run a logistic regression of whether a movie wins ('Winner') on release month. "
      ]
    },
    {
      "cell_type": "code",
      "execution_count": 280,
      "metadata": {},
      "outputs": [
        {
          "data": {
            "text/html": [
              "<div>\n",
              "<style scoped>\n",
              "    .dataframe tbody tr th:only-of-type {\n",
              "        vertical-align: middle;\n",
              "    }\n",
              "\n",
              "    .dataframe tbody tr th {\n",
              "        vertical-align: top;\n",
              "    }\n",
              "\n",
              "    .dataframe thead th {\n",
              "        text-align: right;\n",
              "    }\n",
              "</style>\n",
              "<table border=\"1\" class=\"dataframe\">\n",
              "  <thead>\n",
              "    <tr style=\"text-align: right;\">\n",
              "      <th></th>\n",
              "      <th>Regressor Coefficient</th>\n",
              "    </tr>\n",
              "  </thead>\n",
              "  <tbody>\n",
              "    <tr>\n",
              "      <th>January</th>\n",
              "      <td>0.317700</td>\n",
              "    </tr>\n",
              "    <tr>\n",
              "      <th>February</th>\n",
              "      <td>0.058459</td>\n",
              "    </tr>\n",
              "    <tr>\n",
              "      <th>March</th>\n",
              "      <td>-0.061213</td>\n",
              "    </tr>\n",
              "    <tr>\n",
              "      <th>April</th>\n",
              "      <td>-0.006084</td>\n",
              "    </tr>\n",
              "    <tr>\n",
              "      <th>May</th>\n",
              "      <td>0.154911</td>\n",
              "    </tr>\n",
              "    <tr>\n",
              "      <th>June</th>\n",
              "      <td>-0.190977</td>\n",
              "    </tr>\n",
              "    <tr>\n",
              "      <th>July</th>\n",
              "      <td>-0.198395</td>\n",
              "    </tr>\n",
              "    <tr>\n",
              "      <th>August</th>\n",
              "      <td>0.051490</td>\n",
              "    </tr>\n",
              "    <tr>\n",
              "      <th>September</th>\n",
              "      <td>0.024927</td>\n",
              "    </tr>\n",
              "    <tr>\n",
              "      <th>October</th>\n",
              "      <td>-0.083405</td>\n",
              "    </tr>\n",
              "    <tr>\n",
              "      <th>November</th>\n",
              "      <td>0.061189</td>\n",
              "    </tr>\n",
              "    <tr>\n",
              "      <th>December</th>\n",
              "      <td>-0.129057</td>\n",
              "    </tr>\n",
              "  </tbody>\n",
              "</table>\n",
              "</div>"
            ],
            "text/plain": [
              "           Regressor Coefficient\n",
              "January                 0.317700\n",
              "February                0.058459\n",
              "March                  -0.061213\n",
              "April                  -0.006084\n",
              "May                     0.154911\n",
              "June                   -0.190977\n",
              "July                   -0.198395\n",
              "August                  0.051490\n",
              "September               0.024927\n",
              "October                -0.083405\n",
              "November                0.061189\n",
              "December               -0.129057"
            ]
          },
          "metadata": {},
          "output_type": "display_data"
        }
      ],
      "source": [
        "# Generate one-hot-encoding for 'Release Month'\n",
        "one_hot = pd.get_dummies(df_merge_award_unique['Release Month'], prefix='Month')\n",
        "\n",
        "# Concatenate the one-hot-encoded DataFrame with the original DataFrame\n",
        "df_merge_award_one_hot = pd.concat([df_merge_award_unique, one_hot], axis=1)\n",
        "\n",
        "# Define the target variable and the feature variables\n",
        "y = df_merge_award_one_hot['Winner']\n",
        "X = df_merge_award_one_hot.iloc[:, 15:]\n",
        "\n",
        "# Fit a logistic regression model\n",
        "logreg = LogisticRegression()\n",
        "logreg.fit(X, y)\n",
        "\n",
        "# Output the regressed coefficient of each generated column\n",
        "coef = logreg.coef_.reshape(-1, 1)\n",
        "\n",
        "# Convert coef to a DataFrame with Release Month as index\n",
        "df_coef = pd.DataFrame(coef)\n",
        "df_coef.index = ['January', 'February', 'March', 'April', 'May', 'June', 'July', 'August', 'September', 'October', 'November', 'December']\n",
        "df_coef.rename(columns={0: 'Regressor Coefficient'}, inplace=True)\n",
        "\n",
        "# Output the DataFrame\n",
        "display(df_coef)"
      ]
    },
    {
      "cell_type": "markdown",
      "metadata": {},
      "source": [
        "We can also check the correlation between winning the award and release timing. 'Release Month' is categorical, and 'Winner' is binary, so we can use Cramér's V to check the correlation, which is specifically designed to measure the association between two categorical variables (regard binary feature as a special categorical feature). It is based on the chi-squared statistic, "
      ]
    },
    {
      "cell_type": "code",
      "execution_count": 281,
      "metadata": {},
      "outputs": [
        {
          "name": "stdout",
          "output_type": "stream",
          "text": [
            "Cramér's V: 0.052745022481659604\n"
          ]
        }
      ],
      "source": [
        "from scipy.stats import chi2_contingency\n",
        "\n",
        "# Create a contingency table\n",
        "contingency_table = pd.crosstab(df_merge_award_unique['Release Month'], df_merge_award_unique['Winner'])\n",
        "\n",
        "# Perform the chi-squared test\n",
        "chi2, p, _, _ = chi2_contingency(contingency_table)\n",
        "\n",
        "# Calculate Cramér's V\n",
        "n = contingency_table.sum().sum()\n",
        "min_dim = min(contingency_table.shape) - 1\n",
        "cramers_v = np.sqrt(chi2 / (n * min_dim))\n",
        "\n",
        "# Display the result\n",
        "print(\"Cramér's V:\", cramers_v)"
      ]
    },
    {
      "cell_type": "markdown",
      "metadata": {},
      "source": [
        "This indicates a very weak association between the 'Release Month' and 'Winner' variables, and directors cannot expect to try better luck to release their movies in a \"good\" month. However, release timing could still be considered as a factor  and control variable in the further study."
      ]
    },
    {
      "cell_type": "markdown",
      "metadata": {},
      "source": [
        "We also check the evolvement of release month of selected movies across years."
      ]
    },
    {
      "cell_type": "code",
      "execution_count": 282,
      "metadata": {},
      "outputs": [
        {
          "data": {
            "text/plain": [
              "<Figure size 2160x720 with 0 Axes>"
            ]
          },
          "metadata": {},
          "output_type": "display_data"
        },
        {
          "data": {
            "image/png": "[encoded data removed]",
            "text/plain": [
              "<Figure size 432x288 with 1 Axes>"
            ]
          },
          "metadata": {},
          "output_type": "display_data"
        }
      ],
      "source": [
        "# Process the dataset\n",
        "total_rows = df_merge_award_unique.shape[0]\n",
        "df_merge_award_unique = df_merge_award_unique.copy()\n",
        "df_merge_award_unique['Winner'] = df_merge_award_unique['Winner'].map({'True': 1, 'False': 0})\n",
        "\n",
        "# Group by 'Release Month' and 'Release Year', calculate the mean of 'Winner'\n",
        "percentage_true = df_merge_award_unique.groupby(['Release Month', 'Release Year'])['Winner'].sum() / total_rows * 100\n",
        "\n",
        "# Unstack the DataFrame for easy plotting\n",
        "percentage_true = percentage_true.unstack()\n",
        "\n",
        "# Plotting the stacked bar chart\n",
        "plt.figure(figsize=(30, 10))\n",
        "ax = percentage_true.plot(kind='bar', stacked=True, colormap='viridis',legend=False)\n",
        "\n",
        "# Create a list of month names using the calendar library as xticklabel\n",
        "month_names = [calendar.month_name[i] for i in range(1, 13)]\n",
        "plt.xticks(range(12), month_names, rotation=45)\n",
        "\n",
        "# Adding labels and title\n",
        "plt.xlabel('Release Month')\n",
        "plt.ylabel('Percentage of Awards')\n",
        "plt.title('Probability of winning Oscar prize by Release Month')\n",
        "\n",
        "# Create a separate Axes for the legend\n",
        "legend_ax = plt.gca().inset_axes([1.2, 0, 0.05, 1], frameon=False)\n",
        "\n",
        "# Custom legend every 10 years\n",
        "years_to_show = range(percentage_true.columns.min(), percentage_true.columns.max() + 1, 10)\n",
        "legend_labels = [f'{year}-{year+9}' for year in years_to_show]\n",
        "\n",
        "# Plot colored rectangles on the legend Axes\n",
        "for i, year in enumerate(years_to_show):\n",
        "    legend_ax.add_patch(plt.Rectangle((0, i * 0.1), 0.5, 0.1, color=sns.color_palette('viridis', n_colors=len(years_to_show))[i]))\n",
        "\n",
        "# Set legend labels\n",
        "legend_ax.set_yticks([i * 0.1 + 0.05 for i in range(len(years_to_show))])\n",
        "legend_ax.set_yticklabels(legend_labels)\n",
        "legend_ax.set_xticks([])\n",
        "legend_ax.set_title('Release Year', pad=-20)\n",
        "\n",
        "# Display the plot\n",
        "plt.show()"
      ]
    },
    {
      "cell_type": "markdown",
      "metadata": {},
      "source": [
        "It is interesting to observe the facts including: \n",
        " - in the very early years, very few movies released in June and July were selected to Oscar's competition\n",
        " - in recent years, movies released in November and December are favored"
      ]
    },
    {
      "cell_type": "markdown",
      "metadata": {},
      "source": [
        "#### **2.3 Countries: Where are Oscar's award movies from?**"
      ]
    },
    {
      "cell_type": "markdown",
      "metadata": {},
      "source": [
        "The next factor we consider as siginificant is the origin of movies. The first issue is to inspect is the evaluation of Oscar's prize really \"fair\" for movies from different countries? We have an initial check by looking at the composition of film countries."
      ]
    },
    {
      "cell_type": "code",
      "execution_count": 283,
      "metadata": {},
      "outputs": [
        {
          "data": {
            "image/png": "[encoded data removed]",
            "text/plain": [
              "<Figure size 576x576 with 1 Axes>"
            ]
          },
          "metadata": {},
          "output_type": "display_data"
        }
      ],
      "source": [
        "plot_award_distribution(df_merge_award_unique, 'countries')"
      ]
    },
    {
      "cell_type": "markdown",
      "metadata": {},
      "source": [
        "It is obvious that movies from USA make up a significant majority. This could make the conclusion biased when we are evaluating a movie from a country other than USA. "
      ]
    },
    {
      "cell_type": "markdown",
      "metadata": {},
      "source": [
        "#### **2.4 Languages: Culcural identity of movies**"
      ]
    },
    {
      "cell_type": "markdown",
      "metadata": {},
      "source": [
        "Another feature considered for further analysis is the movie language. We also hope to check its distribution in the dataset."
      ]
    },
    {
      "cell_type": "code",
      "execution_count": 284,
      "metadata": {},
      "outputs": [
        {
          "data": {
            "image/png": "[encoded data removed]",
            "text/plain": [
              "<Figure size 576x576 with 1 Axes>"
            ]
          },
          "metadata": {},
          "output_type": "display_data"
        }
      ],
      "source": [
        "plot_award_distribution(df_merge_award_unique, 'languages')"
      ]
    },
    {
      "cell_type": "markdown",
      "metadata": {},
      "source": [
        "Same as movie countries, English is dominant in the dataset. It is reasonable considering that USA and UK are the top 2 movie countries in the Award dataset. Similarly, we are very cautious when we have to generalize any conclusion to non-English movies because of their minority in this dataset."
      ]
    },
    {
      "cell_type": "code",
      "execution_count": 285,
      "metadata": {},
      "outputs": [
        {
          "name": "stdout",
          "output_type": "stream",
          "text": [
            "              precision    recall  f1-score   support\n",
            "\n",
            "           0       0.84      1.00      0.92       400\n",
            "           1       0.00      0.00      0.00        74\n",
            "\n",
            "    accuracy                           0.84       474\n",
            "   macro avg       0.42      0.50      0.46       474\n",
            "weighted avg       0.71      0.84      0.77       474\n",
            "\n"
          ]
        },
        {
          "name": "stderr",
          "output_type": "stream",
          "text": [
            "C:\\Users\\Pierre-Hadrien\\AppData\\Local\\Packages\\PythonSoftwareFoundation.Python.3.7_qbz5n2kfra8p0\\LocalCache\\local-packages\\Python37\\site-packages\\sklearn\\metrics\\_classification.py:1318: UndefinedMetricWarning: Precision and F-score are ill-defined and being set to 0.0 in labels with no predicted samples. Use `zero_division` parameter to control this behavior.\n",
            "  _warn_prf(average, modifier, msg_start, len(result))\n",
            "C:\\Users\\Pierre-Hadrien\\AppData\\Local\\Packages\\PythonSoftwareFoundation.Python.3.7_qbz5n2kfra8p0\\LocalCache\\local-packages\\Python37\\site-packages\\sklearn\\metrics\\_classification.py:1318: UndefinedMetricWarning: Precision and F-score are ill-defined and being set to 0.0 in labels with no predicted samples. Use `zero_division` parameter to control this behavior.\n",
            "  _warn_prf(average, modifier, msg_start, len(result))\n",
            "C:\\Users\\Pierre-Hadrien\\AppData\\Local\\Packages\\PythonSoftwareFoundation.Python.3.7_qbz5n2kfra8p0\\LocalCache\\local-packages\\Python37\\site-packages\\sklearn\\metrics\\_classification.py:1318: UndefinedMetricWarning: Precision and F-score are ill-defined and being set to 0.0 in labels with no predicted samples. Use `zero_division` parameter to control this behavior.\n",
            "  _warn_prf(average, modifier, msg_start, len(result))\n"
          ]
        }
      ],
      "source": [
        "# Import the necessary libraries\n",
        "from sklearn.model_selection import train_test_split\n",
        "from sklearn.linear_model import LogisticRegression\n",
        "from sklearn.metrics import accuracy_score\n",
        "from sklearn.metrics import classification_report\n",
        "\n",
        "#columns = ['Release Month', 'Movie genres', 'Movie runtime', 'Winner', 'Movie box office revenue', 'Average Vote ']\n",
        "columns = ['Average Vote ', 'Winner']\n",
        "without_winner = columns.copy()\n",
        "without_winner.remove('Winner')\n",
        "\n",
        "df_test = df_merge_award_unique.copy()[columns]\n",
        "df_test.dropna(inplace=True)\n",
        "\n",
        "# Define the features and target variable\n",
        "features = df_test[without_winner]\n",
        "target = df_test['Winner']\n",
        "\n",
        "# One-hot encode categorical features\n",
        "features_encoded = pd.get_dummies(features)\n",
        "# Split the data into training and testing sets\n",
        "X_train, X_test, y_train, y_test = train_test_split(features_encoded, target, test_size=0.2, random_state=42)\n",
        "\n",
        "# Create and train the logistic regression model\n",
        "model = LogisticRegression()\n",
        "model.fit(X_train, y_train)\n",
        "\n",
        "# Make predictions on the test set\n",
        "y_pred = model.predict(X_test)\n",
        "# Calculate precision, recall, and F1-score\n",
        "report = classification_report(y_test, y_pred)\n",
        "print(report)\n"
      ]
    },
    {
      "cell_type": "markdown",
      "metadata": {},
      "source": [
        "#### **2.5 Box Office Revenue**"
      ]
    },
    {
      "cell_type": "markdown",
      "metadata": {},
      "source": [
        "To continue our analysis of research question 2, we now delve onto the other factrors impacting a movie's success. We start by looking at the box office revenue of the movies in our dataset. Our insight leads us to believe that higher box office revenues are correlated with a higher probability of winning an Oscar, which we will test via statistical analysis.\n",
        "\n",
        "Let us first plot the box office revenue of movies based on if they received an Oscar or not."
      ]
    },
    {
      "cell_type": "code",
      "execution_count": 286,
      "metadata": {},
      "outputs": [
        {
          "data": {
            "image/png": "[encoded data removed]",
            "text/plain": [
              "<Figure size 720x432 with 1 Axes>"
            ]
          },
          "metadata": {},
          "output_type": "display_data"
        }
      ],
      "source": [
        "plot_box_office_oscars(df_merge_award_unique)"
      ]
    },
    {
      "cell_type": "code",
      "execution_count": 287,
      "metadata": {},
      "outputs": [
        {
          "name": "stdout",
          "output_type": "stream",
          "text": [
            "Mean Box Office Revenue (Oscar Winners): $141.49 million\n",
            "Standard Deviation Box Office Revenue (Oscar Winners): $274.32 million\n",
            "\n",
            "Mean Box Office Revenue (Non-Winners): $94.29 million\n",
            "Standard Deviation Box Office Revenue (Non-Winners): $164.44 million\n",
            "\n",
            "Difference in Mean Box Office Revenue between Winners and Non-Winners: $47.20 million\n"
          ]
        }
      ],
      "source": [
        "df_plot = df_merge_award_unique[['Winner', 'Movie box office revenue']].copy() \n",
        "\n",
        "# Calculate mean and standard deviation for each category\n",
        "mean_winner = df_plot[df_plot['Winner'] == 1]['Movie box office revenue'].mean() / 1e6\n",
        "std_winner = df_plot[df_plot['Winner'] == 1]['Movie box office revenue'].std() / 1e6\n",
        "\n",
        "mean_non_winner = df_plot[df_plot['Winner'] == 0]['Movie box office revenue'].mean() / 1e6\n",
        "std_non_winner = df_plot[df_plot['Winner'] == 0]['Movie box office revenue'].std() / 1e6\n",
        "\n",
        "# Display the results in millions\n",
        "print(f'Mean Box Office Revenue (Oscar Winners): ${mean_winner:.2f} million')\n",
        "print(f'Standard Deviation Box Office Revenue (Oscar Winners): ${std_winner:.2f} million')\n",
        "print()\n",
        "print(f'Mean Box Office Revenue (Non-Winners): ${mean_non_winner:.2f} million')\n",
        "print(f'Standard Deviation Box Office Revenue (Non-Winners): ${std_non_winner:.2f} million')\n",
        "\n",
        "# Calculate and display the difference between the two means\n",
        "mean_difference = mean_winner - mean_non_winner\n",
        "print(f'\\nDifference in Mean Box Office Revenue between Winners and Non-Winners: ${mean_difference:.2f} million')\n"
      ]
    },
    {
      "cell_type": "markdown",
      "metadata": {},
      "source": [
        "As shown by the box plot and the statistics of our movies' box office revenues, we can see that the average and median box office revenue of movies that received an Oscar is higher than the average box office revenue of movies that did not receive an Oscar. We also notice that the standard deviation of the box office revenue of movies that received an Oscar is higher much higher than for those who did not, indicating more variability in this category.\n",
        "\n",
        "Indeed, if we compare the differences between highest and lowest grossing movies that have received an Oscar, we notice a huge difference as shown bellow. Movies such as \"The Times of Harvey Milk\" received the Oscars for the best documentary feature in 1984 with a box office revenue of 29,802 USD, while movies such as \"Avatar\" received the Oscars for the art direction in 2009 with a box office revenue of 2,782,275,172 USD. This indicates that the Oscars awards do not necesserly reflect the success of a movie, which can often be the case for movies that are not blockbusters."
      ]
    },
    {
      "cell_type": "code",
      "execution_count": 300,
      "metadata": {},
      "outputs": [
        {
          "name": "stdout",
          "output_type": "stream",
          "text": [
            "Movie: The Times of Harvey Milk\n",
            "Year: 1984\n",
            "Category: DOCUMENTARY (Feature)\n",
            "Movie box office revenue: 29802.00\n",
            "---\n",
            "Movie: Undefeated\n",
            "Year: 2011\n",
            "Category: DOCUMENTARY (Feature)\n",
            "Movie box office revenue: 521476.00\n",
            "---\n",
            "Movie: Character\n",
            "Year: 1997\n",
            "Category: FOREIGN LANGUAGE FILM\n",
            "Movie box office revenue: 713413.00\n",
            "---\n"
          ]
        }
      ],
      "source": [
        "top_k_with_oscars(df_merge_award_unique, 3, 'Movie box office revenue', True)"
      ]
    },
    {
      "cell_type": "code",
      "execution_count": 289,
      "metadata": {},
      "outputs": [
        {
          "name": "stdout",
          "output_type": "stream",
          "text": [
            "Movie: Avatar\n",
            "Year: 2009\n",
            "Category: ART DIRECTION\n",
            "Movie box office revenue: 2782275172.00\n",
            "---\n",
            "Movie: The Lord of the Rings: The Return of the King\n",
            "Year: 2003\n",
            "Category: ART DIRECTION\n",
            "Movie box office revenue: 1119929521.00\n",
            "---\n",
            "Movie: Toy Story 3\n",
            "Year: 2010\n",
            "Category: ANIMATED FEATURE FILM\n",
            "Movie box office revenue: 1063171911.00\n",
            "---\n"
          ]
        }
      ],
      "source": [
        "top_k_with_oscars(df_merge_award_unique, 3, 'Movie box office revenue')"
      ]
    },
    {
      "cell_type": "markdown",
      "metadata": {},
      "source": [
        "\n",
        "To test wether the difference in box office revenue is statistically significant, we will perform a Welch's t-test. This test is used to test the null hypothesis that two populations have equal means. It is an adaptation of Student's t-test and is more reliable when the two samples have unequal variances and unequal sample sizes."
      ]
    },
    {
      "cell_type": "code",
      "execution_count": 290,
      "metadata": {},
      "outputs": [
        {
          "name": "stdout",
          "output_type": "stream",
          "text": [
            "T-test statistic: 3.4878298099873417\n",
            "T-test p-value: 0.0005025885543593558\n",
            "Correlation coefficient: 0.09446720774134504\n",
            "Correlation p-value: 0.0005025885543602448\n"
          ]
        }
      ],
      "source": [
        "t_test_and_correlation_on_winner_vs_col(df_merge_award_unique, 'Movie box office revenue')"
      ]
    },
    {
      "cell_type": "markdown",
      "metadata": {},
      "source": [
        "The key findings of this analysis are as follows:\n",
        "\n",
        "1) T-test Results:\n",
        "\n",
        "- T-test statistic: 3.49\n",
        "- T-test p-value: 0.0005\n",
        "\n",
        "Conclusion: The t-test results reveal a substantial difference in box office revenue between movies that received Oscars and those that did not. The low p-value of 0.0005 indicates a high level of statistical significance. This suggests that the observed difference in box office revenue is unlikely to have occurred by random chance.\n",
        "\n",
        "2) Correlation Analysis:\n",
        "\n",
        "- Correlation coefficient: 0.09\n",
        "- Correlation p-value: 0.0005\n",
        "\n",
        "Conclusion: The correlation analysis indicates a significant positive correlation (coefficient of 0.09) between box office revenue and the number of Oscars won. The low p-value of 0.0005 reinforces the statistical significance of this positive correlation. Therefore, higher box office revenue is associated with an increased likelihood of receiving Oscars.\n",
        "\n",
        "Our analysis provides compelling evidence supporting a clear relationship between box office success and Oscar recognition. The statistically significant t-test results affirm that movies with Oscars differ significantly in terms of box office revenue from those without Oscars. Additionally, the positive correlation observed further emphasizes that higher box office revenue is positively linked to an increased likelihood of receiving Oscars. This underscores the influential role of commercial success in garnering industry acclaim and recognition.\n",
        "\n",
        "However, as we have shown previously, it is important to notice that the Oscars do not necessarily reflect the success of a movie. Indeed, the Oscars can be awarded to movies that are not blockbusters. This is why we will now look at the ratings of the movies in our dataset to see if they are correlated with the Oscars."
      ]
    },
    {
      "cell_type": "markdown",
      "metadata": {},
      "source": [
        "#### 2.6 Ratings"
      ]
    },
    {
      "cell_type": "markdown",
      "metadata": {},
      "source": [
        "We will now conduct a similar analysis to the one we performed for box office revenue, but this time for ratings. We will start by plotting the ratings of movies based on if they received an Oscar or not."
      ]
    },
    {
      "cell_type": "code",
      "execution_count": 291,
      "metadata": {},
      "outputs": [],
      "source": [
        "df_merge_award_unique_filtered = df_merge_award_unique[df_merge_award_unique['Average Vote '] != 0].copy()"
      ]
    },
    {
      "cell_type": "code",
      "execution_count": 292,
      "metadata": {},
      "outputs": [
        {
          "data": {
            "image/png": "[encoded data removed]",
            "text/plain": [
              "<Figure size 720x432 with 1 Axes>"
            ]
          },
          "metadata": {},
          "output_type": "display_data"
        }
      ],
      "source": [
        "plot_ratings_oscars(df_merge_award_unique_filtered)"
      ]
    },
    {
      "cell_type": "code",
      "execution_count": 293,
      "metadata": {},
      "outputs": [
        {
          "name": "stdout",
          "output_type": "stream",
          "text": [
            "Mean Average Vote (Oscar Winners): 6.89\n",
            "Standard Deviation Average Vote (Oscar Winners): 0.92\n",
            "\n",
            "Mean Average Vote (Non-Winners): 6.59\n",
            "Standard Deviation Average Vote (Non-Winners): 0.92\n",
            "\n",
            "Difference in Mean Average Vote between Winners and Non-Winners: 0.29\n"
          ]
        }
      ],
      "source": [
        "df_plot = df_merge_award_unique_filtered[['Winner', 'Average Vote ']].copy()  # Add a whitespace to the end of the name\n",
        "\n",
        "# Calculate mean and standard deviation for each category\n",
        "mean_winner = df_plot[df_plot['Winner'] == 1]['Average Vote '].mean()\n",
        "std_winner = df_plot[df_plot['Winner'] == 1]['Average Vote '].std()\n",
        "\n",
        "mean_non_winner = df_plot[df_plot['Winner'] == 0]['Average Vote '].mean()\n",
        "std_non_winner = df_plot[df_plot['Winner'] == 0]['Average Vote '].std()\n",
        "\n",
        "# Display the results\n",
        "print(f'Mean Average Vote (Oscar Winners): {mean_winner:.2f}')\n",
        "print(f'Standard Deviation Average Vote (Oscar Winners): {std_winner:.2f}')\n",
        "print()\n",
        "print(f'Mean Average Vote (Non-Winners): {mean_non_winner:.2f}')\n",
        "print(f'Standard Deviation Average Vote (Non-Winners): {std_non_winner:.2f}')\n",
        "\n",
        "# Calculate and display the difference between the two means\n",
        "mean_difference = mean_winner - mean_non_winner\n",
        "print(f'\\nDifference in Mean Average Vote between Winners and Non-Winners: {mean_difference:.2f}')"
      ]
    },
    {
      "cell_type": "markdown",
      "metadata": {},
      "source": [
        "Once again, we can see that movies that received an Oscar have a higher average and median rating than movies that did not receive an Oscar. We also notice that the standard deviation of the ratings of movies that received an Oscar is higher than for those who did not, indicating more variability in this category, as noticed for the box office revenue.\n",
        "\n",
        "To test wether the difference in ratings is statistically significant, we once again perform a Welch's t-test."
      ]
    },
    {
      "cell_type": "code",
      "execution_count": 299,
      "metadata": {},
      "outputs": [
        {
          "name": "stdout",
          "output_type": "stream",
          "text": [
            "T-test statistic: 5.76996935934629\n",
            "T-test p-value: 8.993673567180616e-09\n",
            "Correlation coefficient: 0.1192719808972124\n",
            "Correlation p-value: 8.993673567174268e-09\n"
          ]
        }
      ],
      "source": [
        "t_test_and_correlation_on_winner_vs_col(df_merge_award_unique_filtered, 'Average Vote ')"
      ]
    },
    {
      "cell_type": "markdown",
      "metadata": {},
      "source": [
        "The key findings of this analysis are as follows:\n",
        "\n",
        "1) T-test Results:\n",
        "\n",
        "- T-test statistic: 5.77\n",
        "- T-test p-value: 8.99e-09\n",
        "\n",
        "Conclusion: The t-test results indicate a substantial difference in average ratings between movies that won Oscars and those that did not. The extremely low p-value of 8.99e-09 underscores the high level of statistical significance. This implies that the observed disparity in average ratings is highly unlikely to have occurred by random chance.\n",
        "\n",
        "2) Correlation Analysis:\n",
        "\n",
        "- Correlation coefficient: 0.12\n",
        "- Correlation p-value: 8.99e-09\n",
        "\n",
        "Conclusion: The correlation analysis reveals a significant positive correlation (coefficient of 0.12) between average ratings and the likelihood of winning an Oscar. The extremely low p-value of 8.99e-09 emphasizes the statistical significance of this positive correlation. Therefore, higher average ratings are associated with an increased likelihood of winning Oscars.\n",
        "\n",
        "In Summary:\n",
        "\n",
        "Our analysis provides compelling evidence supporting a clear relationship between average ratings and Oscar recognition. The statistically significant t-test results affirm that movies with Oscars differ significantly in terms of average ratings from those without Oscars. The positive correlation observed further indicates that higher average ratings are positively linked to an increased likelihood of winning Oscars. This underscores the importance of critical acclaim and audience appreciation in influencing industry recognition.\n",
        "\n",
        "Associated with our analysis of box office revenue, this statistical test and the measures of our ratings proves once again the importance of a movie sucess in its likelyhood of receiving awards. However, as we have shown previously, it is important to notice that the movies that have received Oscars can divert from these assumptions, receiving low ratings and box office revenue. This is mostly due to artistic opinions directing the awards desginations, which can be very different from the public opinion, as well as categories. Movies such as documentary or foreign ones are often less likely to gross high revenues or receive high ratings, but can still be awarded Oscars. We show these deviations in the following section."
      ]
    },
    {
      "cell_type": "code",
      "execution_count": 341,
      "metadata": {},
      "outputs": [
        {
          "data": {
            "image/png": "[encoded data removed]",
            "text/plain": [
              "<Figure size 864x576 with 1 Axes>"
            ]
          },
          "metadata": {},
          "output_type": "display_data"
        }
      ],
      "source": [
        "plot_column_by_oscars_category(df_merge_award_unique,'Movie box office revenue' ,True)"
      ]
    },
    {
      "cell_type": "code",
      "execution_count": 342,
      "metadata": {},
      "outputs": [
        {
          "data": {
            "image/png": "[encoded data removed]",
            "text/plain": [
              "<Figure size 864x576 with 1 Axes>"
            ]
          },
          "metadata": {},
          "output_type": "display_data"
        }
      ],
      "source": [
        "plot_column_by_oscars_category(df_merge_award_unique_filtered,'Average Vote ', False)"
      ]
    },
    {
      "cell_type": "markdown",
      "metadata": {},
      "source": [
        "As we can see from two box plots shown above, there is a significant difference in box office revenue and ratings between movies that received Oscars based on their category. Movies with Oscars such as best actress (in general) or best documentary generally received lower box office revenue and ratings than movies with Oscars such as best short film or actor. We also notice that the best documentary categories showcase an especially high variability in box office revenue and ratings, which is not the case for the best short film category. All these features indicate thus once again the biases that can be shown in the Oscars awards, which are not always correlated with the success of a movie, even though on a general basis, the Oscars are awarded to movies that have a higher box office revenue and ratings."
      ]
    },
    {
      "cell_type": "markdown",
      "metadata": {},
      "source": [
        "#### **Conclusion:** TODO\n",
        "\n",
        "USA is the country of most movies in the dataset, and the majority of movies are in English. While the correlation of release month and whether the movie wins Oscar award is weak, release timing might still be a significant factor influencing the success of the movie. In the next step, we will introduce the influence of actors and continue to explore how to predict the Oscar possibility of a movie. "
      ]
    },
    {
      "cell_type": "markdown",
      "id": "951c3cc1",
      "metadata": {},
      "source": [
        "### 3. Research Question 3"
      ]
    },
    {
      "cell_type": "markdown",
      "id": "536764fc",
      "metadata": {},
      "source": [
        "#### 3.1 Data Preparation"
      ]
    },
    {
      "cell_type": "markdown",
      "id": "ac6d15d1",
      "metadata": {},
      "source": [
        "##### Loading and initial inspection of data."
      ]
    },
    {
      "cell_type": "markdown",
      "id": "4ed14aa8",
      "metadata": {},
      "source": [
        "Movie Dataset"
      ]
    },
    {
      "cell_type": "code",
      "execution_count": null,
      "id": "2beac582",
      "metadata": {},
      "outputs": [],
      "source": [
        "CMU_MOVIELENSE_PATH = get_path(\n",
        "    \"https://drive.google.com/file/d/1WBm89j51H9meIzF32dAYHzvYtD3AdiW0/view?usp=share_link\"\n",
        ")\n",
        "RATING_IMDB_ADDITIONAL = get_path(\n",
        "    \"https://drive.google.com/file/d/1TT9c0wWm3F__xrLar-ywt7DcYZUZqJTP/view?usp=share_link\"\n",
        ")\n",
        "\n",
        "df_movie=pd.read_csv(CMU_MOVIELENSE_PATH)\n",
        "df_movie.head(1)\n"
      ]
    },
    {
      "cell_type": "markdown",
      "id": "8a420f97",
      "metadata": {},
      "source": [
        "IMDB Ratings Dataset"
      ]
    },
    {
      "cell_type": "code",
      "execution_count": null,
      "id": "e3a4819c",
      "metadata": {
        "scrolled": true
      },
      "outputs": [],
      "source": [
        "df_rating=pd.read_csv(RATING_IMDB_ADDITIONAL)\n",
        "df_rating.head(1)"
      ]
    },
    {
      "cell_type": "markdown",
      "id": "dc86359d",
      "metadata": {},
      "source": [
        "Here, we notice that same movies have several entries with different number of votes, we take the maximum number"
      ]
    },
    {
      "cell_type": "code",
      "execution_count": null,
      "id": "58907770",
      "metadata": {},
      "outputs": [],
      "source": [
        "df_rating[df_rating['title']==\"Inception\"].tail(5)"
      ]
    },
    {
      "cell_type": "code",
      "execution_count": null,
      "id": "fb1d464e",
      "metadata": {},
      "outputs": [],
      "source": [
        "df_sorted = df_rating.sort_values(by=['title', 'numVotes'], ascending=[True, False])\n",
        "df_filtered = df_sorted.drop_duplicates(subset='title')\n",
        "df_filtered.head()"
      ]
    },
    {
      "cell_type": "markdown",
      "id": "fd3edf4d",
      "metadata": {},
      "source": [
        "Check percentage of missing Box Office Revenues"
      ]
    },
    {
      "cell_type": "code",
      "execution_count": null,
      "id": "a085d482",
      "metadata": {},
      "outputs": [],
      "source": [
        "missing=(df_movie['Movie box office revenue'].isna()).sum()\n",
        "\n",
        "print(\"Missing percentage = \" + str(100*missing//df_movie.shape[0])+\"%\")"
      ]
    },
    {
      "cell_type": "markdown",
      "id": "2d0b2f1d",
      "metadata": {},
      "source": [
        "Now, to Show why IMDB Rating is needed, the mean and median number of votes is shown for each of the IMDB and CMU Movie Datasets.\n",
        "It is clear that IDMB dataset is richer"
      ]
    },
    {
      "cell_type": "code",
      "execution_count": null,
      "id": "c3d5d44e",
      "metadata": {},
      "outputs": [],
      "source": [
        "print(\"Mean of IMDB number of votes: \"+ str(df_filtered['numVotes'].mean()))\n",
        "print(\"Mean of CMU number of votes: \"+ str(df_movie['Vote Count'].mean()))\n",
        "print(\"Median of IMDB number of votes: \"+ str(df_filtered['numVotes'].median()))\n",
        "print(\"Median of CMU number of votes: \"+ str(df_movie['Vote Count'].median()))"
      ]
    },
    {
      "cell_type": "code",
      "execution_count": null,
      "id": "1719e06c",
      "metadata": {},
      "outputs": [],
      "source": [
        "plt.figure(figsize=(10, 6))\n",
        "df_rating['numVotes'].hist(log=True)\n",
        "plt.title('Histogram Number of Votes for the IMDB Dataset')\n",
        "plt.xlabel('Number of Votes')\n",
        "plt.ylabel('Count')\n",
        "plt.show()"
      ]
    },
    {
      "cell_type": "code",
      "execution_count": null,
      "id": "083374f6",
      "metadata": {},
      "outputs": [],
      "source": [
        "plt.figure(figsize=(10, 6))\n",
        "df_movie[\"Vote Count\"].hist(log=True)\n",
        "plt.title('Histogram Number of Votes for the CMU Dataset')\n",
        "plt.xlabel('Number of Votes')\n",
        "plt.ylabel('Count')\n",
        "plt.show()"
      ]
    },
    {
      "cell_type": "markdown",
      "id": "90372568",
      "metadata": {},
      "source": [
        "Now, the two data sets are merged useing inner joing based on the movie names"
      ]
    },
    {
      "cell_type": "code",
      "execution_count": null,
      "id": "0b4f19ce",
      "metadata": {},
      "outputs": [],
      "source": [
        "df_merged=pd.merge(df_filtered, df_movie, left_on='title', right_on='Movie name', how='inner')\n",
        "df_merged.head(1)"
      ]
    },
    {
      "cell_type": "markdown",
      "id": "c89e219f",
      "metadata": {},
      "source": [
        "Now, only the maximum number of votes from each of the datasets is kept, and if a rating is NAN, the other is chosen.\n"
      ]
    },
    {
      "cell_type": "code",
      "execution_count": null,
      "id": "31390d68",
      "metadata": {},
      "outputs": [],
      "source": [
        "df_merged['votes_number'] = df_merged[['numVotes', 'Vote Count']].max(axis=1)\n",
        "conditions = [df_merged['averageRating'].isna(), df_merged['Average Vote '].isna(),df_merged['numVotes'] > df_merged['Vote Count'], df_merged['numVotes'] <= df_merged['Vote Count']]\n",
        "choices = [df_merged['Average Vote '], df_merged['averageRating'], df_merged['averageRating'], df_merged['Average Vote ']]\n",
        "df_merged['RATING'] = np.select(conditions, choices, default=np.nan)\n",
        "df_merged.drop(['Vote Count', 'Average Vote ', 'numVotes', 'averageRating'], axis=1, inplace=True)\n",
        "df_merged.head(1)"
      ]
    },
    {
      "cell_type": "markdown",
      "id": "525229a5",
      "metadata": {},
      "source": [
        "In the dataset, we have duplicates due to several rows having different Genres. We drop the duplicates, knowing that only the Genre changes in each row of the same Movie"
      ]
    },
    {
      "cell_type": "code",
      "execution_count": null,
      "id": "f6e99865",
      "metadata": {},
      "outputs": [],
      "source": [
        "df_merged['Movie name']\n",
        "df_merged=df_merged.drop_duplicates(subset='Movie name')\n",
        "df_merged.head()"
      ]
    },
    {
      "cell_type": "markdown",
      "id": "2be5f131",
      "metadata": {},
      "source": [
        "After Merging, check missing Ratings. 0% is missing"
      ]
    },
    {
      "cell_type": "code",
      "execution_count": null,
      "id": "a19cf684",
      "metadata": {},
      "outputs": [],
      "source": [
        "missing=(df_merged['RATING'].isna()).sum()\n",
        "\n",
        "print(\"Missing percentage = \" + str(100*missing//df_merged.shape[0])+\"%\")"
      ]
    },
    {
      "cell_type": "markdown",
      "id": "ca59e811",
      "metadata": {},
      "source": [
        "#### 3.2 Data Analysis\n",
        "##### Rating Data Early Analysis\n",
        "Now, Plot a histogram of Ratings and check the mean, median and mode"
      ]
    },
    {
      "cell_type": "code",
      "execution_count": null,
      "id": "49dec46d",
      "metadata": {
        "scrolled": true
      },
      "outputs": [],
      "source": [
        "data = df_merged[\"RATING\"]\n",
        "# Calculate histogram bin counts and edges\n",
        "counts, bin_edges = np.histogram(data, bins=90)  # You can adjust the number of bins\n",
        "# Calculate bin centers from edges\n",
        "bin_centers = 0.5 * (bin_edges[1:] + bin_edges[:-1])\n",
        "# Plot as a line chart\n",
        "plt.title('Histogram of Ratings for the Merged Dataset')\n",
        "plt.xlabel('Number of Votes')\n",
        "plt.ylabel('Count')\n",
        "\n",
        "plt.plot(bin_centers, counts, linestyle='solid')\n",
        "plt.show()\n",
        "\n",
        "print(\"Mean of Ratings: \" +str(df_merged['RATING'].mean()))\n",
        "print(\"Median of Ratings: \"+str(df_merged['RATING'].median()))\n",
        "print(\"Mode of Ratings: \"+ str(df_merged['RATING'].mode()))\n"
      ]
    },
    {
      "cell_type": "markdown",
      "id": "1645160c",
      "metadata": {},
      "source": [
        "Now plot evolution of mean of Ratings and vote numbers for different months. Very little Change is seen, so we look at the number of votes which might give an insight. The number of votes has a higher variance w.r.t months, which might be a good area to explore. This is interesting as movies with low ratings might have high reach and revenue, which is explored later"
      ]
    },
    {
      "cell_type": "code",
      "execution_count": null,
      "id": "6d1dee77",
      "metadata": {
        "scrolled": false
      },
      "outputs": [],
      "source": [
        "\n",
        "df_merged['Release Month'] = pd.Categorical(df_merged['Release Month'], categories=[1,2,3,4,5,6,7,8,9,10,11,12], ordered=True)\n",
        "\n",
        "# Calculate the average rating for each month\n",
        "monthly_avg = df_merged.groupby('Release Month')['RATING'].mean()\n",
        "\n",
        "# Plot\n",
        "plt.figure(figsize=(10, 6))\n",
        "sns.barplot(x=monthly_avg.index, y=monthly_avg.values)\n",
        "plt.ylim(6.2,6.5)\n",
        "plt.title('Average Movie Rating by Release Month')\n",
        "plt.xlabel('Month')\n",
        "plt.ylabel('Average Rating')\n",
        "plt.show()\n",
        "\n",
        "monthly_avg = df_merged.groupby('Release Month')['votes_number'].mean()\n",
        "\n",
        "# Plot\n",
        "plt.figure(figsize=(10, 6))\n",
        "sns.barplot(x=monthly_avg.index, y=monthly_avg.values)\n",
        "\n",
        "plt.title('Average Number of Votes by Release Month')\n",
        "plt.xlabel('Month')\n",
        "plt.ylabel('Average Number of Votes')\n",
        "plt.show()\n"
      ]
    },
    {
      "cell_type": "markdown",
      "id": "fac19035",
      "metadata": {},
      "source": [
        "Similar insight can be found from boxplots, very close medians and quartiles for different months"
      ]
    },
    {
      "cell_type": "code",
      "execution_count": null,
      "id": "f4df14ea",
      "metadata": {},
      "outputs": [],
      "source": [
        "plt.figure(figsize=(12, 8))\n",
        "sns.boxplot(x='Release Month', y='RATING', data=df_merged[[\"Release Month\",\"RATING\"]])\n",
        "plt.title('Distribution of Movie Ratings by Release Month')\n",
        "plt.xlabel('Month')\n",
        "plt.ylabel('Rating')\n",
        "plt.show()"
      ]
    },
    {
      "cell_type": "markdown",
      "id": "aecb58a2",
      "metadata": {},
      "source": [
        "Votes number seem to be more interesting"
      ]
    },
    {
      "cell_type": "code",
      "execution_count": null,
      "id": "f310bcb1",
      "metadata": {},
      "outputs": [],
      "source": [
        "sns.scatterplot(x='Release Month', y='votes_number', data=df_merged[[\"Release Month\",\"votes_number\"]])\n",
        "plt.title('Distribution of Movie Ratings by Release Month')\n",
        "plt.xlabel('Month')\n",
        "plt.ylabel('Vote number')\n",
        "plt.show()"
      ]
    },
    {
      "cell_type": "markdown",
      "id": "900135d5",
      "metadata": {},
      "source": [
        "Check if there is correlation between Rating and months and Vote number and month. No correlation seems to prevale"
      ]
    },
    {
      "cell_type": "code",
      "execution_count": null,
      "id": "99cab3eb",
      "metadata": {},
      "outputs": [],
      "source": [
        "correlation = df_merged['Release Month'].corr(df_merged['RATING'])\n",
        "print(\"Rating Correlation coefficient:\", correlation)\n",
        "\n",
        "correlation = df_merged['Release Month'].corr(df_merged['votes_number'])\n",
        "print(\"Number of Votes Correlation coefficient:\", correlation)"
      ]
    },
    {
      "cell_type": "markdown",
      "id": "ce01adc5",
      "metadata": {},
      "source": [
        "##### Exploring the Box Office Data"
      ]
    },
    {
      "cell_type": "markdown",
      "id": "c60f6cf7",
      "metadata": {},
      "source": [
        "Now check the percentage of missing data in the 'box_office' column for each year to see if earlier stages had less documentation of box office revenues, which is true to an extent, since missing data is still high for later years"
      ]
    },
    {
      "cell_type": "code",
      "execution_count": null,
      "id": "34ea2951",
      "metadata": {},
      "outputs": [],
      "source": [
        "df_movie['Release Year'] = df_movie['Release Year'].astype(str)\n",
        "\n",
        "# Calculate the percentage of missing data in the 'box_office' column for each year\n",
        "missing_percentage_by_year = df_movie.groupby('Release Year')['Movie box office revenue'].apply(lambda x: (x.isnull().sum() / len(x)) * 100)\n",
        "plt.figure(figsize=(12, 6))\n",
        "missing_percentage_by_year.plot()\n",
        "plt.title('Percentage of Missing Box Office Data Over Years')\n",
        "plt.xlabel('Year')\n",
        "plt.ylabel('Percentage of Missing Data')\n",
        "plt.xticks(rotation=90)  # Rotate x-axis labels for better readability\n",
        "plt.show()"
      ]
    },
    {
      "cell_type": "markdown",
      "id": "1a1de88b",
      "metadata": {},
      "source": [
        "Now we check the Revenues by month to see of there is a correlation. this seems valid as May,June, and july  november, and december seem to have the highest revenues. this is to be explored"
      ]
    },
    {
      "cell_type": "code",
      "execution_count": null,
      "id": "ee227060",
      "metadata": {
        "scrolled": false
      },
      "outputs": [],
      "source": [
        "df_movie=df_movie.drop_duplicates(subset='Movie name')\n",
        "df_movie.dropna(subset=['Movie box office revenue'])\n",
        "df_movie['Release Month'] = pd.Categorical(df_movie['Release Month'], categories=[1,2,3,4,5,6,7,8,9,10,11,12], ordered=True)\n",
        "\n",
        "# Calculate the average rating for each month\n",
        "monthly_avg = df_movie.groupby('Release Month')['Movie box office revenue'].mean()\n",
        "\n",
        "# Plot\n",
        "plt.figure(figsize=(10, 6))\n",
        "plt.plot(monthly_avg.index, monthly_avg.values)\n",
        "\n",
        "plt.title('Box office revenues by Release Month')\n",
        "plt.xlabel('Month')\n",
        "plt.ylabel('Average Rating')\n",
        "plt.show()\n",
        "\n"
      ]
    },
    {
      "cell_type": "markdown",
      "id": "c1a29ad9",
      "metadata": {},
      "source": [
        "Now, we plot a heat map to show the box office revenues and distribution over different ratings. An interesting this that the highest revenues seem to be for movies with ratings close to the mean and not the upper part of ratings, which is interesting"
      ]
    },
    {
      "cell_type": "code",
      "execution_count": null,
      "id": "221c99ec",
      "metadata": {},
      "outputs": [],
      "source": [
        "data=df_movie\n",
        "data=data[~data['Average Vote '].isna() & ~data['Movie box office revenue'].isna()]\n",
        "plt.figure(figsize=(10, 6))\n",
        "sns.kdeplot(x=data['Average Vote '], y=data['Movie box office revenue'], cmap=\"Reds\", shade=True, bw_adjust=0.5)\n",
        "plt.title('Density Plot of Box Office Revenue as a Function of Movie Rating')\n",
        "plt.ylim(0,0.5*10**9)\n",
        "plt.xlabel('Rating')\n",
        "plt.ylabel('Box Office Revenue')\n",
        "plt.show()"
      ]
    },
    {
      "cell_type": "markdown",
      "id": "55689386",
      "metadata": {},
      "source": [
        "##### Conclusions"
      ]
    },
    {
      "cell_type": "markdown",
      "id": "1f00b71c",
      "metadata": {},
      "source": [
        "1- The IMDB dataset, with its higher vote counts, is more robust for analyzing movie popularity than the CMU dataset.\n",
        "\n",
        "2- Merged data show no missing ratings, allowing for a reliable analysis of movie ratings' distribution, which centers around a mean of 6.3.\n",
        "\n",
        "3- Monthly variations in the number of votes are more pronounced than in ratings, suggesting that movies can achieve widespread attention regardless of high ratings.\n",
        "\n",
        "4- Seasonal trends show higher box office revenues during the summer and end-of-year holidays, aligning with typical blockbuster release schedules.\n",
        "\n",
        "5- The highest-grossing movies have ratings around the mean, implying that exceptional ratings do not necessarily equate to financial success."
      ]
    },
    {
      "cell_type": "markdown",
      "metadata": {},
      "source": [
        "### **4. Research Question 4: Actors impact on popularity**"
      ]
    },
    {
      "cell_type": "markdown",
      "metadata": {},
      "source": [
        "It is well known that the involvement of specific actors in a movie can lead to huge spikes in popularity. Famous actors are often paid millions to participate in a movie based on the belief that this will increase the movie's revenue and popularity. Our aim in this research question will be to investigate to which extend the involvement of such actors influence the box office revenue, the ratings, as well as the awards received. \n",
        "\n",
        "For now we only display a short analysis over box office revenue, which will lead to a larger take on this subject once the appropriate dataset is processed. We thus first display the total and mean box office revenue per actor, to understand what kind of figures we are dealing with here:"
      ]
    },
    {
      "cell_type": "code",
      "execution_count": null,
      "metadata": {},
      "outputs": [],
      "source": [
        "# Group by Actor name and sum the box office revenue for each actor\n",
        "df_unique_movies = df_merge_character.drop_duplicates(subset=['Movie name', 'Actor name'])\n",
        "actor_revenue_total = df_unique_movies.groupby('Actor name')['Movie box office revenue'].sum()\n",
        "actor_revenue_total = actor_revenue_total.sort_values(ascending=False).head(50)"
      ]
    },
    {
      "cell_type": "code",
      "execution_count": null,
      "metadata": {},
      "outputs": [],
      "source": [
        "plot_total_box_office(actor_revenue_total)"
      ]
    },
    {
      "cell_type": "code",
      "execution_count": null,
      "metadata": {},
      "outputs": [],
      "source": [
        "actor_revenue_mean = df_unique_movies.groupby('Actor name')['Movie box office revenue'].mean()\n",
        "actor_revenue_mean = actor_revenue_mean.sort_values(ascending=False).head(50)\n",
        "\n",
        "plot_total_box_office(actor_revenue_mean)"
      ]
    },
    {
      "cell_type": "markdown",
      "metadata": {},
      "source": [
        "As we can see from the previous two figures, famous actors such as Samuel L. Jackson or Maggie Smith reach career wide box office of more than 10 billion dollars. However, we understand from the second graph that our dataset needs more processing, since top box office mean revenue actors are people involved as secondary roles in very high grossing movies, such as Avatar or Harry Potter. This is the case of Jason Whyte for example, who only played in Avatar, and thus has a very high grossing average.\n",
        "\n",
        "It is important to note that the data presented here might be very different than what we expect to see from such a database, since the movie collection stopped in 2012. It is possible that we might have to extend the provided movies in order to actualise our analysis.\n",
        "\n",
        "Our aim in the analysis following milestone 2 will thus focus on processing our dataset to explore box office revenue and actor choice relations, in order to explore their possible correlation."
      ]
    }
  ],
  "metadata": {
    "kernelspec": {
      "display_name": "Python 3 (ipykernel)",
      "language": "python",
      "name": "python3"
    },
    "language_info": {
      "codemirror_mode": {
        "name": "ipython",
        "version": 3
      },
      "file_extension": ".py",
      "mimetype": "text/x-python",
      "name": "python",
      "nbconvert_exporter": "python",
      "pygments_lexer": "ipython3",
      "version": "3.7.9"
    }
  },
  "nbformat": 4,
  "nbformat_minor": 4
}
